{
 "cells": [
  {
   "cell_type": "markdown",
   "metadata": {},
   "source": [
    "# Weather and Electricity Data Preprocessing Notebook\n"
   ]
  },
  {
   "cell_type": "markdown",
   "metadata": {},
   "source": [
    "### Importing libraries"
   ]
  },
  {
   "cell_type": "code",
   "execution_count": 1,
   "metadata": {
    "ExecuteTime": {
     "end_time": "2024-09-04T03:34:28.042157Z",
     "start_time": "2024-09-04T03:34:28.038164Z"
    }
   },
   "outputs": [],
   "source": [
    "\n",
    "import pandas as pd\n",
    "from sklearn.linear_model import Lasso\n",
    "from sklearn.feature_selection import mutual_info_regression\n",
    "from sklearn.feature_selection import RFE\n",
    "from sklearn.linear_model import LinearRegression\n",
    "from sklearn.preprocessing import MinMaxScaler\n",
    "\n",
    "\n"
   ]
  },
  {
   "cell_type": "markdown",
   "metadata": {},
   "source": [
    "### Data formating"
   ]
  },
  {
   "cell_type": "code",
   "execution_count": 2,
   "metadata": {
    "ExecuteTime": {
     "end_time": "2024-09-04T03:34:28.116470Z",
     "start_time": "2024-09-04T03:34:28.111133Z"
    }
   },
   "outputs": [],
   "source": [
    "\n",
    "def format_climate(file_path):\n",
    "    df = pd.read_csv(file_path)\n",
    "    \n",
    "    df.replace('-', pd.NA, inplace=True)\n",
    "    df.dropna(inplace=True)\n",
    "\n",
    "    df['Date'] = pd.to_datetime(df['Date'], format='%Y-%m-%d')\n",
    "    df['Year'] = df['Date'].dt.year\n",
    "    df['Month'] = df['Date'].dt.month\n",
    "\n",
    "    df = df.drop(columns='Station')\n",
    "\n",
    "    df['Total Rainfall Mm'] = pd.to_numeric(df['Total Rainfall Mm'], errors='coerce')\n",
    "    df['Mean Air Temperature in Celsius'] = pd.to_numeric(df['Mean Air Temperature in Celsius'], errors='coerce')\n",
    "    df['Mean Vapour Pressure Hpa'] = pd.to_numeric(df['Mean Vapour Pressure Hpa'], errors='coerce')\n",
    "    df['Mean Wind Speed M/Sec'] = pd.to_numeric(df['Mean Wind Speed M/Sec'], errors='coerce')\n",
    "    df['Days Of Wind Gust >= 24 Knots in Day'] = pd.to_numeric(df['Days Of Wind Gust >= 24 Knots in Day'], errors='coerce')\n",
    "    df['Standard Deviation Of Daily Mean Temperature in Celsius'] = pd.to_numeric(df['Standard Deviation Of Daily Mean Temperature in Celsius'], errors='coerce')\n",
    "\n",
    "    df_grouped = df.groupby('Date').mean().reset_index()\n",
    "\n",
    "    return df_grouped"
   ]
  },
  {
   "cell_type": "code",
   "execution_count": 3,
   "metadata": {
    "ExecuteTime": {
     "end_time": "2024-09-04T03:34:28.243300Z",
     "start_time": "2024-09-04T03:34:28.239375Z"
    }
   },
   "outputs": [],
   "source": [
    "def format_eletricity_data(file_path, business = False):\n",
    "    df = pd.read_csv(file_path)\n",
    "    \n",
    "    df['Period start'] = pd.to_datetime(df['Period start'], format='%d/%m/%y')\n",
    "    df.dropna(inplace=True)\n",
    "    df.reset_index(drop=True, inplace=True)\n",
    "\n",
    "\n",
    "    if business:\n",
    "        df = df.drop(columns=[\n",
    "            'Regional demand (GWh)',\n",
    "            'Proportion of regional demand (%)', \n",
    "            'National demand (GWh)',\n",
    "            'Proportion of national demand (%)'])\n",
    "        return df\n",
    "    \n",
    "    df = df.drop(columns=[\n",
    "        'Est. Total demand (GWh)',\n",
    "        'Est. proportion of regional demand',\n",
    "        'Est. proportion of national demand', 'Average consumption (kWh)',\n",
    "        'Average daily consumption (kWh)', '5th percentile (kWh)',\n",
    "        '25th percentile (kWh)', '50th percentile (kWh)',\n",
    "        '75th percentile (kWh)', '95th percentile (kWh)', 'Coverage %'])\n",
    "\n",
    "    return df\n",
    "    "
   ]
  },
  {
   "cell_type": "code",
   "execution_count": 4,
   "metadata": {},
   "outputs": [],
   "source": [
    "def read_climate_list(file_list, file_path):\n",
    "    data_list = []\n",
    "    for i in file_list:\n",
    "        data_list.append(format_climate(file_path+i))\n",
    "    \n",
    "    return data_list"
   ]
  },
  {
   "cell_type": "code",
   "execution_count": 5,
   "metadata": {},
   "outputs": [],
   "source": [
    "def read_electricity_list(file_list, file_path):\n",
    "    data_list = []\n",
    "    data_list.append(format_eletricity_data(file_path+file_list[0], True))\n",
    "    data_list.append(format_eletricity_data(file_path+file_list[1]))\n",
    "    return data_list"
   ]
  },
  {
   "cell_type": "code",
   "execution_count": 6,
   "metadata": {},
   "outputs": [],
   "source": [
    "def merge_data(climate_data, electricity_data):\n",
    "    data = pd.merge(climate_data, electricity_data, how='right', left_on='Date', right_on='Period start')\n",
    "    data.drop(columns=['Period start', 'Period end', 'Region ID', 'Region description', 'Region'], inplace=True)\n",
    "        \n",
    "    return data\n"
   ]
  },
  {
   "cell_type": "markdown",
   "metadata": {},
   "source": [
    "### Read data files using helper functions above"
   ]
  },
  {
   "cell_type": "code",
   "execution_count": 7,
   "metadata": {},
   "outputs": [],
   "source": [
    "ClimateDatafilelist = ['NewUpperNorthRegions.csv', 'NewLowerSouthRegions.csv', 'NewUpperSouthARegions.csv','NewLowerNorthRegions.csv', 'NewCentralNorthRegions.csv']\n",
    "ClimatePath = '../ClimateDataProcessing/'\n",
    "ElectricityDatafilelist = ['Business_demand_trends_20240901140306.csv', 'Residential_consumption_trends_20240901141207.csv']\n",
    "ElectricityPath = '../ElectricityData/'\n",
    "\n",
    "climate_data = read_climate_list(ClimateDatafilelist, ClimatePath)\n",
    "electricity_data = read_electricity_list(ElectricityDatafilelist, ElectricityPath)"
   ]
  },
  {
   "cell_type": "markdown",
   "metadata": {},
   "source": [
    "### Merge data files"
   ]
  },
  {
   "cell_type": "markdown",
   "metadata": {},
   "source": [
    "Here we combine the dataframes to perform analysis by region easier."
   ]
  },
  {
   "cell_type": "code",
   "execution_count": 12,
   "metadata": {},
   "outputs": [
    {
     "data": {
      "text/html": [
       "<div>\n",
       "<style scoped>\n",
       "    .dataframe tbody tr th:only-of-type {\n",
       "        vertical-align: middle;\n",
       "    }\n",
       "\n",
       "    .dataframe tbody tr th {\n",
       "        vertical-align: top;\n",
       "    }\n",
       "\n",
       "    .dataframe thead th {\n",
       "        text-align: right;\n",
       "    }\n",
       "</style>\n",
       "<table border=\"1\" class=\"dataframe\">\n",
       "  <thead>\n",
       "    <tr style=\"text-align: right;\">\n",
       "      <th></th>\n",
       "      <th>Period start</th>\n",
       "      <th>Period end</th>\n",
       "      <th>Region ID</th>\n",
       "      <th>Region description</th>\n",
       "      <th>Selected business demand (GWh)</th>\n",
       "      <th>Region</th>\n",
       "      <th>Est. Total consumption (GWh)</th>\n",
       "    </tr>\n",
       "  </thead>\n",
       "  <tbody>\n",
       "    <tr>\n",
       "      <th>0</th>\n",
       "      <td>2010-01-01</td>\n",
       "      <td>31/01/10</td>\n",
       "      <td>CNI</td>\n",
       "      <td>Central North Island</td>\n",
       "      <td>502.788</td>\n",
       "      <td>Central North Island</td>\n",
       "      <td>177.005</td>\n",
       "    </tr>\n",
       "    <tr>\n",
       "      <th>1</th>\n",
       "      <td>2010-02-01</td>\n",
       "      <td>28/02/10</td>\n",
       "      <td>CNI</td>\n",
       "      <td>Central North Island</td>\n",
       "      <td>475.792</td>\n",
       "      <td>Central North Island</td>\n",
       "      <td>162.780</td>\n",
       "    </tr>\n",
       "    <tr>\n",
       "      <th>2</th>\n",
       "      <td>2010-03-01</td>\n",
       "      <td>31/03/10</td>\n",
       "      <td>CNI</td>\n",
       "      <td>Central North Island</td>\n",
       "      <td>539.230</td>\n",
       "      <td>Central North Island</td>\n",
       "      <td>182.505</td>\n",
       "    </tr>\n",
       "    <tr>\n",
       "      <th>3</th>\n",
       "      <td>2010-04-01</td>\n",
       "      <td>30/04/10</td>\n",
       "      <td>CNI</td>\n",
       "      <td>Central North Island</td>\n",
       "      <td>505.722</td>\n",
       "      <td>Central North Island</td>\n",
       "      <td>188.663</td>\n",
       "    </tr>\n",
       "    <tr>\n",
       "      <th>4</th>\n",
       "      <td>2010-05-01</td>\n",
       "      <td>31/05/10</td>\n",
       "      <td>CNI</td>\n",
       "      <td>Central North Island</td>\n",
       "      <td>519.263</td>\n",
       "      <td>Central North Island</td>\n",
       "      <td>222.647</td>\n",
       "    </tr>\n",
       "  </tbody>\n",
       "</table>\n",
       "</div>"
      ],
      "text/plain": [
       "  Period start Period end Region ID    Region description  \\\n",
       "0   2010-01-01   31/01/10       CNI  Central North Island   \n",
       "1   2010-02-01   28/02/10       CNI  Central North Island   \n",
       "2   2010-03-01   31/03/10       CNI  Central North Island   \n",
       "3   2010-04-01   30/04/10       CNI  Central North Island   \n",
       "4   2010-05-01   31/05/10       CNI  Central North Island   \n",
       "\n",
       "   Selected business demand (GWh)                Region  \\\n",
       "0                         502.788  Central North Island   \n",
       "1                         475.792  Central North Island   \n",
       "2                         539.230  Central North Island   \n",
       "3                         505.722  Central North Island   \n",
       "4                         519.263  Central North Island   \n",
       "\n",
       "   Est. Total consumption (GWh)  \n",
       "0                       177.005  \n",
       "1                       162.780  \n",
       "2                       182.505  \n",
       "3                       188.663  \n",
       "4                       222.647  "
      ]
     },
     "execution_count": 12,
     "metadata": {},
     "output_type": "execute_result"
    }
   ],
   "source": [
    "electricity_Bus_res = pd.merge(electricity_data[0], electricity_data[1], how='inner')\n",
    "electricity_Bus_res.head()\n"
   ]
  },
  {
   "cell_type": "code",
   "execution_count": 13,
   "metadata": {},
   "outputs": [],
   "source": [
    "uni_climate_electricity = merge_data(climate_data[0], electricity_Bus_res)\n",
    "cni_climate_electricity = merge_data(climate_data[4], electricity_Bus_res)\n",
    "lni_climate_electricity = merge_data(climate_data[3], electricity_Bus_res)\n",
    "\n",
    "usi_climate_electricity = merge_data(climate_data[2], electricity_Bus_res)\n",
    "lsi_climate_electricity = merge_data(climate_data[1], electricity_Bus_res)\n",
    "\n"
   ]
  },
  {
   "cell_type": "markdown",
   "metadata": {},
   "source": [
    "# Transformations\n"
   ]
  },
  {
   "cell_type": "markdown",
   "metadata": {},
   "source": [
    "# Feature Selection"
   ]
  },
  {
   "cell_type": "code",
   "execution_count": null,
   "metadata": {},
   "outputs": [],
   "source": [
    "def lasso_feature_selection(X, y, alpha):\n",
    "    lasso = Lasso(alpha=alpha)\n",
    "    lasso.fit(X, y)\n",
    "    index = [i for i, coef in enumerate(lasso.coef_) if coef != 0]\n",
    "    return lasso.coef_, X.columns[index]"
   ]
  }
 ],
 "metadata": {
  "kernelspec": {
   "display_name": "compsci361",
   "language": "python",
   "name": "compsci361"
  },
  "language_info": {
   "codemirror_mode": {
    "name": "ipython",
    "version": 3
   },
   "file_extension": ".py",
   "mimetype": "text/x-python",
   "name": "python",
   "nbconvert_exporter": "python",
   "pygments_lexer": "ipython3",
   "version": "3.12.2"
  }
 },
 "nbformat": 4,
 "nbformat_minor": 2
}
