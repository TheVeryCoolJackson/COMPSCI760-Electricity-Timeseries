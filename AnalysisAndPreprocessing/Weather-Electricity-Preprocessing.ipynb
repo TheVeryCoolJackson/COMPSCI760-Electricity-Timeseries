{
 "cells": [
  {
   "cell_type": "markdown",
   "metadata": {},
   "source": [
    "# Weather and Electricity Data Preprocessing Notebook\n"
   ]
  },
  {
   "cell_type": "markdown",
   "metadata": {},
   "source": [
    "### Importing libraries"
   ]
  },
  {
   "cell_type": "code",
   "execution_count": 1,
   "metadata": {
    "ExecuteTime": {
     "end_time": "2024-09-04T03:34:28.042157Z",
     "start_time": "2024-09-04T03:34:28.038164Z"
    }
   },
   "outputs": [],
   "source": [
    "\n",
    "import pandas as pd\n",
    "from sklearn.linear_model import Lasso\n",
    "from sklearn.feature_selection import mutual_info_regression\n",
    "from sklearn.feature_selection import RFE\n",
    "from sklearn.linear_model import LinearRegression\n",
    "from sklearn.preprocessing import MinMaxScaler\n",
    "\n",
    "\n"
   ]
  },
  {
   "cell_type": "markdown",
   "metadata": {},
   "source": [
    "### Data formating"
   ]
  },
  {
   "cell_type": "code",
   "execution_count": 2,
   "metadata": {
    "ExecuteTime": {
     "end_time": "2024-09-04T03:34:28.116470Z",
     "start_time": "2024-09-04T03:34:28.111133Z"
    }
   },
   "outputs": [],
   "source": [
    "\n",
    "def format_climate(file_path):\n",
    "    df = pd.read_csv(file_path)\n",
    "    df.replace('-', pd.NA, inplace=True)\n",
    "    #df.dropna(inplace=True)\n",
    "\n",
    "    df['Date'] = pd.to_datetime(df['Date'], format='%Y-%m-%d')\n",
    "    df['Year'] = df['Date'].dt.year\n",
    "    df['Month'] = df['Date'].dt.month\n",
    "\n",
    "    df = df.drop(columns='Station')\n",
    "\n",
    "    df['Total Rainfall Mm'] = pd.to_numeric(df['Total Rainfall Mm'], errors='coerce')\n",
    "    df['Mean Air Temperature in Celsius'] = pd.to_numeric(df['Mean Air Temperature in Celsius'], errors='coerce')\n",
    "    df['Mean Vapour Pressure Hpa'] = pd.to_numeric(df['Mean Vapour Pressure Hpa'], errors='coerce')\n",
    "    df['Mean Wind Speed M/Sec'] = pd.to_numeric(df['Mean Wind Speed M/Sec'], errors='coerce')\n",
    "    df['Days Of Wind Gust >= 24 Knots in Day'] = pd.to_numeric(df['Days Of Wind Gust >= 24 Knots in Day'], errors='coerce')\n",
    "    df['Standard Deviation Of Daily Mean Temperature in Celsius'] = pd.to_numeric(df['Standard Deviation Of Daily Mean Temperature in Celsius'], errors='coerce')\n",
    "\n",
    "    df_grouped = df.groupby('Date').mean().reset_index()\n",
    "\n",
    "    return df_grouped"
   ]
  },
  {
   "cell_type": "code",
   "execution_count": 3,
   "metadata": {
    "ExecuteTime": {
     "end_time": "2024-09-04T03:34:28.243300Z",
     "start_time": "2024-09-04T03:34:28.239375Z"
    }
   },
   "outputs": [],
   "source": [
    "def format_eletricity_data(file_path, business = False):\n",
    "    df = pd.read_csv(file_path)\n",
    "    \n",
    "    df['Date'] = pd.to_datetime(df['Period start'], format='%d/%m/%y')\n",
    "    #df.dropna(inplace=True)\n",
    "    #df.reset_index(drop=True, inplace=True)\n",
    "\n",
    "\n",
    "    if business:\n",
    "        df = df.drop(columns=[\n",
    "            'Regional demand (GWh)',\n",
    "            'Proportion of regional demand (%)', \n",
    "            'National demand (GWh)',\n",
    "            'Proportion of national demand (%)'])\n",
    "        return df\n",
    "    \n",
    "    df = df.drop(columns=[\n",
    "        'Est. Total demand (GWh)',\n",
    "        'Est. proportion of regional demand',\n",
    "        'Est. proportion of national demand', 'Average consumption (kWh)',\n",
    "        'Average daily consumption (kWh)', '5th percentile (kWh)',\n",
    "        '25th percentile (kWh)', '50th percentile (kWh)',\n",
    "        '75th percentile (kWh)', '95th percentile (kWh)', 'Coverage %'])\n",
    "\n",
    "    return df\n",
    "    "
   ]
  },
  {
   "cell_type": "code",
   "execution_count": 4,
   "metadata": {},
   "outputs": [],
   "source": [
    "def read_climate_list(file_list, file_path):\n",
    "    data_list = []\n",
    "    zone_names = ['UNI', 'LSI', 'USI', 'LNI', 'CNI']\n",
    "\n",
    "    for i in file_list:\n",
    "        data_list.append(format_climate(file_path+ i))\n",
    "    \n",
    "    for i in range(len(data_list)):\n",
    "        data_list[i]['Region ID'] = zone_names[i]\n",
    "        \n",
    "    return data_list"
   ]
  },
  {
   "cell_type": "code",
   "execution_count": 5,
   "metadata": {},
   "outputs": [],
   "source": [
    "def read_electricity_list(file_list, file_path):\n",
    "    data_list = []\n",
    "    data_list.append(format_eletricity_data(file_path+file_list[0], True))\n",
    "    data_list.append(format_eletricity_data(file_path+file_list[1]))\n",
    "    return data_list"
   ]
  },
  {
   "cell_type": "code",
   "execution_count": 6,
   "metadata": {},
   "outputs": [],
   "source": [
    "def merge_data(climate_data, electricity_data):\n",
    "    data = pd.merge(climate_data, electricity_data, on=['Date', 'Region ID'])\n",
    "    data.drop(columns=[ 'Period end', 'Period start','Region ID', 'Region description', 'Region'], inplace=True)\n",
    "        \n",
    "    return data\n"
   ]
  },
  {
   "cell_type": "markdown",
   "metadata": {},
   "source": [
    "### Read data files using helper functions above"
   ]
  },
  {
   "cell_type": "code",
   "execution_count": 7,
   "metadata": {},
   "outputs": [],
   "source": [
    "ClimateDatafilelist = ['NewUpperNorthRegions.csv', 'NewLowerSouthRegions.csv', 'NewUpperSouthARegions.csv','NewLowerNorthRegions.csv', 'NewCentralNorthRegions.csv']\n",
    "ClimatePath = '../ClimateDataProcessing/'\n",
    "ElectricityDatafilelist = ['Business_demand_trends_20240901140306.csv', 'Residential_consumption_trends_20240901141207.csv']\n",
    "ElectricityPath = '../ElectricityData/'\n",
    "\n",
    "climate_data = read_climate_list(ClimateDatafilelist, ClimatePath)\n",
    "electricity_data = read_electricity_list(ElectricityDatafilelist, ElectricityPath)"
   ]
  },
  {
   "cell_type": "markdown",
   "metadata": {},
   "source": [
    "Remove the months not recorded"
   ]
  },
  {
   "cell_type": "code",
   "execution_count": 8,
   "metadata": {},
   "outputs": [],
   "source": [
    "unobserved_rows = [175, 176, 177, 178, 179]\n",
    "for i in range(len(climate_data)):\n",
    "    climate_data[i].drop(unobserved_rows, inplace=True)"
   ]
  },
  {
   "cell_type": "markdown",
   "metadata": {},
   "source": [
    "Find which data file has the missing value"
   ]
  },
  {
   "cell_type": "code",
   "execution_count": 9,
   "metadata": {},
   "outputs": [
    {
     "name": "stdout",
     "output_type": "stream",
     "text": [
      "Date                                                       0\n",
      "Total Rainfall Mm                                          0\n",
      "Mean Air Temperature in Celsius                            0\n",
      "Mean Vapour Pressure Hpa                                   0\n",
      "Mean Wind Speed M/Sec                                      0\n",
      "Days Of Wind Gust >= 24 Knots in Day                       1\n",
      "Standard Deviation Of Daily Mean Temperature in Celsius    0\n",
      "Year                                                       0\n",
      "Month                                                      0\n",
      "Region ID                                                  0\n",
      "dtype: int64\n",
      "Date                                                       0\n",
      "Total Rainfall Mm                                          0\n",
      "Mean Air Temperature in Celsius                            0\n",
      "Mean Vapour Pressure Hpa                                   0\n",
      "Mean Wind Speed M/Sec                                      0\n",
      "Days Of Wind Gust >= 24 Knots in Day                       0\n",
      "Standard Deviation Of Daily Mean Temperature in Celsius    0\n",
      "Year                                                       0\n",
      "Month                                                      0\n",
      "Region ID                                                  0\n",
      "dtype: int64\n",
      "Date                                                       0\n",
      "Total Rainfall Mm                                          0\n",
      "Mean Air Temperature in Celsius                            0\n",
      "Mean Vapour Pressure Hpa                                   0\n",
      "Mean Wind Speed M/Sec                                      0\n",
      "Days Of Wind Gust >= 24 Knots in Day                       0\n",
      "Standard Deviation Of Daily Mean Temperature in Celsius    0\n",
      "Year                                                       0\n",
      "Month                                                      0\n",
      "Region ID                                                  0\n",
      "dtype: int64\n",
      "Date                                                       0\n",
      "Total Rainfall Mm                                          0\n",
      "Mean Air Temperature in Celsius                            0\n",
      "Mean Vapour Pressure Hpa                                   0\n",
      "Mean Wind Speed M/Sec                                      0\n",
      "Days Of Wind Gust >= 24 Knots in Day                       0\n",
      "Standard Deviation Of Daily Mean Temperature in Celsius    0\n",
      "Year                                                       0\n",
      "Month                                                      0\n",
      "Region ID                                                  0\n",
      "dtype: int64\n",
      "Date                                                       0\n",
      "Total Rainfall Mm                                          0\n",
      "Mean Air Temperature in Celsius                            0\n",
      "Mean Vapour Pressure Hpa                                   0\n",
      "Mean Wind Speed M/Sec                                      0\n",
      "Days Of Wind Gust >= 24 Knots in Day                       0\n",
      "Standard Deviation Of Daily Mean Temperature in Celsius    0\n",
      "Year                                                       0\n",
      "Month                                                      0\n",
      "Region ID                                                  0\n",
      "dtype: int64\n"
     ]
    }
   ],
   "source": [
    "for i in range(len(climate_data)):\n",
    "    print(climate_data[i].isnull().sum()) "
   ]
  },
  {
   "cell_type": "markdown",
   "metadata": {},
   "source": [
    "Check"
   ]
  },
  {
   "cell_type": "code",
   "execution_count": 10,
   "metadata": {},
   "outputs": [
    {
     "data": {
      "text/html": [
       "<div>\n",
       "<style scoped>\n",
       "    .dataframe tbody tr th:only-of-type {\n",
       "        vertical-align: middle;\n",
       "    }\n",
       "\n",
       "    .dataframe tbody tr th {\n",
       "        vertical-align: top;\n",
       "    }\n",
       "\n",
       "    .dataframe thead th {\n",
       "        text-align: right;\n",
       "    }\n",
       "</style>\n",
       "<table border=\"1\" class=\"dataframe\">\n",
       "  <thead>\n",
       "    <tr style=\"text-align: right;\">\n",
       "      <th></th>\n",
       "      <th>Date</th>\n",
       "      <th>Total Rainfall Mm</th>\n",
       "      <th>Mean Air Temperature in Celsius</th>\n",
       "      <th>Mean Vapour Pressure Hpa</th>\n",
       "      <th>Mean Wind Speed M/Sec</th>\n",
       "      <th>Days Of Wind Gust &gt;= 24 Knots in Day</th>\n",
       "      <th>Standard Deviation Of Daily Mean Temperature in Celsius</th>\n",
       "      <th>Year</th>\n",
       "      <th>Month</th>\n",
       "      <th>Region ID</th>\n",
       "    </tr>\n",
       "  </thead>\n",
       "  <tbody>\n",
       "    <tr>\n",
       "      <th>105</th>\n",
       "      <td>2018-10-01</td>\n",
       "      <td>59.65</td>\n",
       "      <td>14.55</td>\n",
       "      <td>13.2</td>\n",
       "      <td>3.4</td>\n",
       "      <td>NaN</td>\n",
       "      <td>1.45</td>\n",
       "      <td>2018.0</td>\n",
       "      <td>10.0</td>\n",
       "      <td>UNI</td>\n",
       "    </tr>\n",
       "  </tbody>\n",
       "</table>\n",
       "</div>"
      ],
      "text/plain": [
       "          Date  Total Rainfall Mm  Mean Air Temperature in Celsius  \\\n",
       "105 2018-10-01              59.65                            14.55   \n",
       "\n",
       "     Mean Vapour Pressure Hpa  Mean Wind Speed M/Sec  \\\n",
       "105                      13.2                    3.4   \n",
       "\n",
       "     Days Of Wind Gust >= 24 Knots in Day  \\\n",
       "105                                   NaN   \n",
       "\n",
       "     Standard Deviation Of Daily Mean Temperature in Celsius    Year  Month  \\\n",
       "105                                               1.45        2018.0   10.0   \n",
       "\n",
       "    Region ID  \n",
       "105       UNI  "
      ]
     },
     "execution_count": 10,
     "metadata": {},
     "output_type": "execute_result"
    }
   ],
   "source": [
    "climate_data[0][climate_data[0]['Days Of Wind Gust >= 24 Knots in Day'].isnull()]"
   ]
  },
  {
   "cell_type": "markdown",
   "metadata": {},
   "source": [
    "Fill by previous value"
   ]
  },
  {
   "cell_type": "code",
   "execution_count": 11,
   "metadata": {},
   "outputs": [],
   "source": [
    "climate_data[0].ffill(inplace=True)"
   ]
  },
  {
   "cell_type": "markdown",
   "metadata": {},
   "source": [
    "### Merge data files"
   ]
  },
  {
   "cell_type": "markdown",
   "metadata": {},
   "source": [
    "Here we combine the dataframes to perform analysis by region easier."
   ]
  },
  {
   "cell_type": "code",
   "execution_count": 12,
   "metadata": {},
   "outputs": [
    {
     "data": {
      "text/html": [
       "<div>\n",
       "<style scoped>\n",
       "    .dataframe tbody tr th:only-of-type {\n",
       "        vertical-align: middle;\n",
       "    }\n",
       "\n",
       "    .dataframe tbody tr th {\n",
       "        vertical-align: top;\n",
       "    }\n",
       "\n",
       "    .dataframe thead th {\n",
       "        text-align: right;\n",
       "    }\n",
       "</style>\n",
       "<table border=\"1\" class=\"dataframe\">\n",
       "  <thead>\n",
       "    <tr style=\"text-align: right;\">\n",
       "      <th></th>\n",
       "      <th>Period start</th>\n",
       "      <th>Period end</th>\n",
       "      <th>Region ID</th>\n",
       "      <th>Region description</th>\n",
       "      <th>Selected business demand (GWh)</th>\n",
       "      <th>Date</th>\n",
       "      <th>Region</th>\n",
       "      <th>Est. Total consumption (GWh)</th>\n",
       "    </tr>\n",
       "  </thead>\n",
       "  <tbody>\n",
       "    <tr>\n",
       "      <th>0</th>\n",
       "      <td>1/01/10</td>\n",
       "      <td>31/01/10</td>\n",
       "      <td>CNI</td>\n",
       "      <td>Central North Island</td>\n",
       "      <td>502.788</td>\n",
       "      <td>2010-01-01</td>\n",
       "      <td>Central North Island</td>\n",
       "      <td>177.005</td>\n",
       "    </tr>\n",
       "    <tr>\n",
       "      <th>1</th>\n",
       "      <td>1/02/10</td>\n",
       "      <td>28/02/10</td>\n",
       "      <td>CNI</td>\n",
       "      <td>Central North Island</td>\n",
       "      <td>475.792</td>\n",
       "      <td>2010-02-01</td>\n",
       "      <td>Central North Island</td>\n",
       "      <td>162.780</td>\n",
       "    </tr>\n",
       "    <tr>\n",
       "      <th>2</th>\n",
       "      <td>1/03/10</td>\n",
       "      <td>31/03/10</td>\n",
       "      <td>CNI</td>\n",
       "      <td>Central North Island</td>\n",
       "      <td>539.230</td>\n",
       "      <td>2010-03-01</td>\n",
       "      <td>Central North Island</td>\n",
       "      <td>182.505</td>\n",
       "    </tr>\n",
       "    <tr>\n",
       "      <th>3</th>\n",
       "      <td>1/04/10</td>\n",
       "      <td>30/04/10</td>\n",
       "      <td>CNI</td>\n",
       "      <td>Central North Island</td>\n",
       "      <td>505.722</td>\n",
       "      <td>2010-04-01</td>\n",
       "      <td>Central North Island</td>\n",
       "      <td>188.663</td>\n",
       "    </tr>\n",
       "    <tr>\n",
       "      <th>4</th>\n",
       "      <td>1/05/10</td>\n",
       "      <td>31/05/10</td>\n",
       "      <td>CNI</td>\n",
       "      <td>Central North Island</td>\n",
       "      <td>519.263</td>\n",
       "      <td>2010-05-01</td>\n",
       "      <td>Central North Island</td>\n",
       "      <td>222.647</td>\n",
       "    </tr>\n",
       "  </tbody>\n",
       "</table>\n",
       "</div>"
      ],
      "text/plain": [
       "  Period start Period end Region ID    Region description  \\\n",
       "0      1/01/10   31/01/10       CNI  Central North Island   \n",
       "1      1/02/10   28/02/10       CNI  Central North Island   \n",
       "2      1/03/10   31/03/10       CNI  Central North Island   \n",
       "3      1/04/10   30/04/10       CNI  Central North Island   \n",
       "4      1/05/10   31/05/10       CNI  Central North Island   \n",
       "\n",
       "   Selected business demand (GWh)       Date                Region  \\\n",
       "0                         502.788 2010-01-01  Central North Island   \n",
       "1                         475.792 2010-02-01  Central North Island   \n",
       "2                         539.230 2010-03-01  Central North Island   \n",
       "3                         505.722 2010-04-01  Central North Island   \n",
       "4                         519.263 2010-05-01  Central North Island   \n",
       "\n",
       "   Est. Total consumption (GWh)  \n",
       "0                       177.005  \n",
       "1                       162.780  \n",
       "2                       182.505  \n",
       "3                       188.663  \n",
       "4                       222.647  "
      ]
     },
     "execution_count": 12,
     "metadata": {},
     "output_type": "execute_result"
    }
   ],
   "source": [
    "electricity_Bus_res = pd.merge(electricity_data[0], electricity_data[1], how='inner')\n",
    "electricity_Bus_res.head()\n"
   ]
  },
  {
   "cell_type": "code",
   "execution_count": 13,
   "metadata": {},
   "outputs": [],
   "source": [
    "uni_climate_electricity = merge_data(climate_data[0], electricity_Bus_res)\n",
    "cni_climate_electricity = merge_data(climate_data[4], electricity_Bus_res)\n",
    "lni_climate_electricity = merge_data(climate_data[3], electricity_Bus_res)\n",
    "usi_climate_electricity = merge_data(climate_data[2], electricity_Bus_res)\n",
    "lsi_climate_electricity = merge_data(climate_data[1], electricity_Bus_res)"
   ]
  },
  {
   "cell_type": "code",
   "execution_count": 14,
   "metadata": {},
   "outputs": [
    {
     "data": {
      "text/html": [
       "<div>\n",
       "<style scoped>\n",
       "    .dataframe tbody tr th:only-of-type {\n",
       "        vertical-align: middle;\n",
       "    }\n",
       "\n",
       "    .dataframe tbody tr th {\n",
       "        vertical-align: top;\n",
       "    }\n",
       "\n",
       "    .dataframe thead th {\n",
       "        text-align: right;\n",
       "    }\n",
       "</style>\n",
       "<table border=\"1\" class=\"dataframe\">\n",
       "  <thead>\n",
       "    <tr style=\"text-align: right;\">\n",
       "      <th></th>\n",
       "      <th>Date</th>\n",
       "      <th>Total Rainfall Mm</th>\n",
       "      <th>Mean Air Temperature in Celsius</th>\n",
       "      <th>Mean Vapour Pressure Hpa</th>\n",
       "      <th>Mean Wind Speed M/Sec</th>\n",
       "      <th>Days Of Wind Gust &gt;= 24 Knots in Day</th>\n",
       "      <th>Standard Deviation Of Daily Mean Temperature in Celsius</th>\n",
       "      <th>Year</th>\n",
       "      <th>Month</th>\n",
       "      <th>Selected business demand (GWh)</th>\n",
       "      <th>Est. Total consumption (GWh)</th>\n",
       "    </tr>\n",
       "  </thead>\n",
       "  <tbody>\n",
       "    <tr>\n",
       "      <th>0</th>\n",
       "      <td>2010-01-01</td>\n",
       "      <td>41.9</td>\n",
       "      <td>20.05</td>\n",
       "      <td>17.40</td>\n",
       "      <td>4.20</td>\n",
       "      <td>11.0</td>\n",
       "      <td>1.70</td>\n",
       "      <td>2010.0</td>\n",
       "      <td>1.0</td>\n",
       "      <td>572.918</td>\n",
       "      <td>282.000</td>\n",
       "    </tr>\n",
       "    <tr>\n",
       "      <th>1</th>\n",
       "      <td>2010-02-01</td>\n",
       "      <td>34.8</td>\n",
       "      <td>21.35</td>\n",
       "      <td>19.70</td>\n",
       "      <td>3.65</td>\n",
       "      <td>8.0</td>\n",
       "      <td>1.20</td>\n",
       "      <td>2010.0</td>\n",
       "      <td>2.0</td>\n",
       "      <td>564.809</td>\n",
       "      <td>259.792</td>\n",
       "    </tr>\n",
       "    <tr>\n",
       "      <th>2</th>\n",
       "      <td>2010-03-01</td>\n",
       "      <td>7.6</td>\n",
       "      <td>19.30</td>\n",
       "      <td>16.65</td>\n",
       "      <td>4.35</td>\n",
       "      <td>12.5</td>\n",
       "      <td>1.45</td>\n",
       "      <td>2010.0</td>\n",
       "      <td>3.0</td>\n",
       "      <td>621.988</td>\n",
       "      <td>295.270</td>\n",
       "    </tr>\n",
       "    <tr>\n",
       "      <th>3</th>\n",
       "      <td>2010-04-01</td>\n",
       "      <td>48.4</td>\n",
       "      <td>17.05</td>\n",
       "      <td>16.05</td>\n",
       "      <td>3.15</td>\n",
       "      <td>7.0</td>\n",
       "      <td>1.40</td>\n",
       "      <td>2010.0</td>\n",
       "      <td>4.0</td>\n",
       "      <td>573.259</td>\n",
       "      <td>303.576</td>\n",
       "    </tr>\n",
       "    <tr>\n",
       "      <th>4</th>\n",
       "      <td>2010-05-01</td>\n",
       "      <td>197.5</td>\n",
       "      <td>14.60</td>\n",
       "      <td>14.40</td>\n",
       "      <td>3.55</td>\n",
       "      <td>12.5</td>\n",
       "      <td>1.95</td>\n",
       "      <td>2010.0</td>\n",
       "      <td>5.0</td>\n",
       "      <td>608.594</td>\n",
       "      <td>363.480</td>\n",
       "    </tr>\n",
       "  </tbody>\n",
       "</table>\n",
       "</div>"
      ],
      "text/plain": [
       "        Date  Total Rainfall Mm  Mean Air Temperature in Celsius  \\\n",
       "0 2010-01-01               41.9                            20.05   \n",
       "1 2010-02-01               34.8                            21.35   \n",
       "2 2010-03-01                7.6                            19.30   \n",
       "3 2010-04-01               48.4                            17.05   \n",
       "4 2010-05-01              197.5                            14.60   \n",
       "\n",
       "   Mean Vapour Pressure Hpa  Mean Wind Speed M/Sec  \\\n",
       "0                     17.40                   4.20   \n",
       "1                     19.70                   3.65   \n",
       "2                     16.65                   4.35   \n",
       "3                     16.05                   3.15   \n",
       "4                     14.40                   3.55   \n",
       "\n",
       "   Days Of Wind Gust >= 24 Knots in Day  \\\n",
       "0                                  11.0   \n",
       "1                                   8.0   \n",
       "2                                  12.5   \n",
       "3                                   7.0   \n",
       "4                                  12.5   \n",
       "\n",
       "   Standard Deviation Of Daily Mean Temperature in Celsius    Year  Month  \\\n",
       "0                                               1.70        2010.0    1.0   \n",
       "1                                               1.20        2010.0    2.0   \n",
       "2                                               1.45        2010.0    3.0   \n",
       "3                                               1.40        2010.0    4.0   \n",
       "4                                               1.95        2010.0    5.0   \n",
       "\n",
       "   Selected business demand (GWh)  Est. Total consumption (GWh)  \n",
       "0                         572.918                       282.000  \n",
       "1                         564.809                       259.792  \n",
       "2                         621.988                       295.270  \n",
       "3                         573.259                       303.576  \n",
       "4                         608.594                       363.480  "
      ]
     },
     "execution_count": 14,
     "metadata": {},
     "output_type": "execute_result"
    }
   ],
   "source": [
    "uni_climate_electricity.head()"
   ]
  },
  {
   "cell_type": "markdown",
   "metadata": {},
   "source": [
    "# External Data"
   ]
  },
  {
   "cell_type": "markdown",
   "metadata": {},
   "source": [
    "External data we are adding are the population data which is yearly but also in regions. Import and export data are not regional however we can observe quaterly data.\n",
    "\n",
    "TODO:\n",
    "\n",
    "    POPULATION:\n",
    "        map regions to zones\n",
    "        map all years corresponding to the years. This is where the year feature is needed\n",
    "\n",
    "    IMPORT EXPORT:\n",
    "        map years and quaterly years to correct dates and also \n",
    "        aggregate for non months in years\n",
    "\n",
    "\n",
    "\n",
    "\n"
   ]
  },
  {
   "cell_type": "markdown",
   "metadata": {},
   "source": [
    "### Import/ Export Data"
   ]
  },
  {
   "cell_type": "code",
   "execution_count": 15,
   "metadata": {},
   "outputs": [],
   "source": [
    "imex = pd.read_csv('../ExternalData/hm8.csv')\n",
    "imex.drop(index=range(0,4), inplace=True)                       # Remove first 4 rows (meta data of columns)\n",
    "\n",
    "imex.rename(columns={'Unnamed: 0': 'Date'}, inplace=True)       # Rename the column to Date             \n",
    "\n"
   ]
  },
  {
   "cell_type": "code",
   "execution_count": 16,
   "metadata": {},
   "outputs": [],
   "source": [
    "# select the columns that are needed and ignore irrelevant columns\n",
    "valid_columns = ['Date', 'Export prices', 'Export volumes', 'Export values', 'Import prices', 'Import volumes', 'Import values']\n",
    "imex = imex[valid_columns]\n",
    "\n",
    "# Select relevant rows and ignore irrelevant rows\n",
    "valid_rows = range(83, max(imex.index)+1)\n",
    "imex = imex.loc[valid_rows]\n",
    "\n",
    "\n",
    "imex['Date'] = pd.to_datetime(imex['Date'], format='%b %Y')     # Convert the Date column to datetime format\n",
    "imex['Date'] = imex['Date'] + pd.DateOffset(months=1)        # Offset the date by 1 month to match the electricity data \n",
    "\n",
    "imex.set_index('Date', inplace=True, drop=True)                # Set the Date column as the index\n",
    "imex = imex.resample('ME').bfill()                            # Resample the data to monthly and backfill the missing values\n",
    "imex.reset_index(inplace=True)                              \n",
    "\n",
    "imex['Date'] = imex['Date'] - pd.offsets.MonthBegin(1)\n",
    "\n",
    "c = imex.select_dtypes(object).columns\n",
    "imex.replace(',','', regex=True, inplace=True)                # Remove commas from the data\n",
    "imex[c] = imex[c].apply(pd.to_numeric, errors='coerce')            # Convert the data to numeric format\n"
   ]
  },
  {
   "cell_type": "code",
   "execution_count": 17,
   "metadata": {},
   "outputs": [
    {
     "data": {
      "text/plain": [
       "Date              datetime64[ns]\n",
       "Export prices            float64\n",
       "Export volumes           float64\n",
       "Export values            float64\n",
       "Import prices            float64\n",
       "Import volumes           float64\n",
       "Import values            float64\n",
       "dtype: object"
      ]
     },
     "execution_count": 17,
     "metadata": {},
     "output_type": "execute_result"
    }
   ],
   "source": [
    "imex.dtypes"
   ]
  },
  {
   "cell_type": "code",
   "execution_count": 18,
   "metadata": {},
   "outputs": [
    {
     "data": {
      "text/html": [
       "<div>\n",
       "<style scoped>\n",
       "    .dataframe tbody tr th:only-of-type {\n",
       "        vertical-align: middle;\n",
       "    }\n",
       "\n",
       "    .dataframe tbody tr th {\n",
       "        vertical-align: top;\n",
       "    }\n",
       "\n",
       "    .dataframe thead th {\n",
       "        text-align: right;\n",
       "    }\n",
       "</style>\n",
       "<table border=\"1\" class=\"dataframe\">\n",
       "  <thead>\n",
       "    <tr style=\"text-align: right;\">\n",
       "      <th></th>\n",
       "      <th>Date</th>\n",
       "      <th>Export prices</th>\n",
       "      <th>Export volumes</th>\n",
       "      <th>Export values</th>\n",
       "      <th>Import prices</th>\n",
       "      <th>Import volumes</th>\n",
       "      <th>Import values</th>\n",
       "    </tr>\n",
       "  </thead>\n",
       "  <tbody>\n",
       "    <tr>\n",
       "      <th>0</th>\n",
       "      <td>2010-01-01</td>\n",
       "      <td>1072.0</td>\n",
       "      <td>1160.0</td>\n",
       "      <td>10093.0</td>\n",
       "      <td>904.0</td>\n",
       "      <td>1360.0</td>\n",
       "      <td>8827.0</td>\n",
       "    </tr>\n",
       "    <tr>\n",
       "      <th>1</th>\n",
       "      <td>2010-02-01</td>\n",
       "      <td>1072.0</td>\n",
       "      <td>1160.0</td>\n",
       "      <td>10093.0</td>\n",
       "      <td>904.0</td>\n",
       "      <td>1360.0</td>\n",
       "      <td>8827.0</td>\n",
       "    </tr>\n",
       "    <tr>\n",
       "      <th>2</th>\n",
       "      <td>2010-03-01</td>\n",
       "      <td>1072.0</td>\n",
       "      <td>1160.0</td>\n",
       "      <td>10093.0</td>\n",
       "      <td>904.0</td>\n",
       "      <td>1360.0</td>\n",
       "      <td>8827.0</td>\n",
       "    </tr>\n",
       "    <tr>\n",
       "      <th>3</th>\n",
       "      <td>2010-04-01</td>\n",
       "      <td>1112.0</td>\n",
       "      <td>1264.0</td>\n",
       "      <td>11416.0</td>\n",
       "      <td>920.0</td>\n",
       "      <td>1476.0</td>\n",
       "      <td>9740.0</td>\n",
       "    </tr>\n",
       "    <tr>\n",
       "      <th>4</th>\n",
       "      <td>2010-05-01</td>\n",
       "      <td>1112.0</td>\n",
       "      <td>1264.0</td>\n",
       "      <td>11416.0</td>\n",
       "      <td>920.0</td>\n",
       "      <td>1476.0</td>\n",
       "      <td>9740.0</td>\n",
       "    </tr>\n",
       "  </tbody>\n",
       "</table>\n",
       "</div>"
      ],
      "text/plain": [
       "        Date  Export prices  Export volumes  Export values  Import prices  \\\n",
       "0 2010-01-01         1072.0          1160.0        10093.0          904.0   \n",
       "1 2010-02-01         1072.0          1160.0        10093.0          904.0   \n",
       "2 2010-03-01         1072.0          1160.0        10093.0          904.0   \n",
       "3 2010-04-01         1112.0          1264.0        11416.0          920.0   \n",
       "4 2010-05-01         1112.0          1264.0        11416.0          920.0   \n",
       "\n",
       "   Import volumes  Import values  \n",
       "0          1360.0         8827.0  \n",
       "1          1360.0         8827.0  \n",
       "2          1360.0         8827.0  \n",
       "3          1476.0         9740.0  \n",
       "4          1476.0         9740.0  "
      ]
     },
     "execution_count": 18,
     "metadata": {},
     "output_type": "execute_result"
    }
   ],
   "source": [
    "imex.head()"
   ]
  },
  {
   "cell_type": "markdown",
   "metadata": {},
   "source": [
    "### Population Data"
   ]
  },
  {
   "cell_type": "code",
   "execution_count": 19,
   "metadata": {},
   "outputs": [],
   "source": [
    "AnnualPopulation = pd.read_csv('../ExternalData/StatsNZ-subnational-population-estimates-2010-2023.csv')\n",
    "AnnualPopulation=AnnualPopulation.dropna()          # Remove rows with missing values\n",
    "\n",
    "# Format the Date column to datetime format\n",
    "AnnualPopulation.loc[len(AnnualPopulation.index)] = [2024.0] + [None]*len(AnnualPopulation.columns[1:])\n",
    "AnnualPopulation.loc[len(AnnualPopulation.index)] = [2025.0] + [None]*len(AnnualPopulation.columns[1:])\n",
    "AnnualPopulation.rename(columns={'Estimated Resident Population for Regional Council Areas, at 30 June (1996+) (Annual-Jun)': 'Date'}, inplace=True)   \n",
    "AnnualPopulation['Date'] = pd.to_datetime(AnnualPopulation['Date'], format='%Y')\n",
    "\n",
    "\n"
   ]
  },
  {
   "cell_type": "code",
   "execution_count": 20,
   "metadata": {},
   "outputs": [],
   "source": [
    "UNI = ['Northland Region', 'Auckland Region']\n",
    "CNI = ['Waikato Region', 'Bay of Plenty Region', 'Gisborne Region', 'Hawke\\'s Bay Region']\n",
    "LNI = ['Taranaki Region', 'Manawatu-Wanganui Region', 'Wellington Region']\n",
    "USI = ['Tasman Region', 'Nelson Region', 'Marlborough Region', 'West Coast Region', 'Canterbury Region',]\n",
    "LSI = ['Otago Region', 'Southland Region']\n",
    "ZoneList = [UNI, LNI, USI, LSI, CNI]"
   ]
  },
  {
   "cell_type": "code",
   "execution_count": 21,
   "metadata": {},
   "outputs": [],
   "source": [
    "population_data = []\n",
    "for i in ZoneList:\n",
    "    pd.set_option('future.no_silent_downcasting', True)\n",
    "    df = pd.DataFrame(AnnualPopulation.loc[:,'Date'])\n",
    "    df['Population'] = AnnualPopulation[i].sum(axis=1)\n",
    "\n",
    "    df.replace(0, pd.NA, inplace=True)\n",
    "    df.set_index('Date', inplace=True)\n",
    "    df = df.resample('ME').ffill()\n",
    "    df = df.ffill()\n",
    "    df.reset_index(inplace=True)\n",
    "    df['Date'] = df['Date'] - pd.offsets.MonthBegin(1)\n",
    "    \n",
    "    population_data.append(df)\n",
    "    "
   ]
  },
  {
   "cell_type": "code",
   "execution_count": 22,
   "metadata": {},
   "outputs": [
    {
     "data": {
      "text/html": [
       "<div>\n",
       "<style scoped>\n",
       "    .dataframe tbody tr th:only-of-type {\n",
       "        vertical-align: middle;\n",
       "    }\n",
       "\n",
       "    .dataframe tbody tr th {\n",
       "        vertical-align: top;\n",
       "    }\n",
       "\n",
       "    .dataframe thead th {\n",
       "        text-align: right;\n",
       "    }\n",
       "</style>\n",
       "<table border=\"1\" class=\"dataframe\">\n",
       "  <thead>\n",
       "    <tr style=\"text-align: right;\">\n",
       "      <th></th>\n",
       "      <th>Date</th>\n",
       "      <th>Population</th>\n",
       "    </tr>\n",
       "  </thead>\n",
       "  <tbody>\n",
       "    <tr>\n",
       "      <th>0</th>\n",
       "      <td>2010-01-01</td>\n",
       "      <td>1600200.0</td>\n",
       "    </tr>\n",
       "    <tr>\n",
       "      <th>1</th>\n",
       "      <td>2010-02-01</td>\n",
       "      <td>1600200.0</td>\n",
       "    </tr>\n",
       "    <tr>\n",
       "      <th>2</th>\n",
       "      <td>2010-03-01</td>\n",
       "      <td>1600200.0</td>\n",
       "    </tr>\n",
       "    <tr>\n",
       "      <th>3</th>\n",
       "      <td>2010-04-01</td>\n",
       "      <td>1600200.0</td>\n",
       "    </tr>\n",
       "    <tr>\n",
       "      <th>4</th>\n",
       "      <td>2010-05-01</td>\n",
       "      <td>1600200.0</td>\n",
       "    </tr>\n",
       "  </tbody>\n",
       "</table>\n",
       "</div>"
      ],
      "text/plain": [
       "        Date Population\n",
       "0 2010-01-01  1600200.0\n",
       "1 2010-02-01  1600200.0\n",
       "2 2010-03-01  1600200.0\n",
       "3 2010-04-01  1600200.0\n",
       "4 2010-05-01  1600200.0"
      ]
     },
     "execution_count": 22,
     "metadata": {},
     "output_type": "execute_result"
    }
   ],
   "source": [
    "population_data[0].head()"
   ]
  },
  {
   "cell_type": "markdown",
   "metadata": {},
   "source": [
    "UNI_Population = pd.DataFrame((AnnualPopulation['Date']))\n",
    "UNI_Population['Population'] = AnnualPopulation[UNI].sum(axis=1)\n",
    "UNI_Population.replace(0, None, inplace=True)"
   ]
  },
  {
   "cell_type": "markdown",
   "metadata": {},
   "source": [
    "UNI_Population.set_index('Date', inplace=True, drop=True)                # Set the Year column as the index\n",
    "UNI_Population = UNI_Population.resample('ME').ffill()                      # Resample the data to monthly and backfill the missing values\n",
    "UNI_Population.ffill().reset_index(inplace=True) \n"
   ]
  },
  {
   "cell_type": "markdown",
   "metadata": {},
   "source": [
    "# Merge Import and Population data with rest of data"
   ]
  },
  {
   "cell_type": "code",
   "execution_count": 23,
   "metadata": {},
   "outputs": [
    {
     "data": {
      "text/html": [
       "<div>\n",
       "<style scoped>\n",
       "    .dataframe tbody tr th:only-of-type {\n",
       "        vertical-align: middle;\n",
       "    }\n",
       "\n",
       "    .dataframe tbody tr th {\n",
       "        vertical-align: top;\n",
       "    }\n",
       "\n",
       "    .dataframe thead th {\n",
       "        text-align: right;\n",
       "    }\n",
       "</style>\n",
       "<table border=\"1\" class=\"dataframe\">\n",
       "  <thead>\n",
       "    <tr style=\"text-align: right;\">\n",
       "      <th></th>\n",
       "      <th>Date</th>\n",
       "      <th>Export prices</th>\n",
       "      <th>Export volumes</th>\n",
       "      <th>Export values</th>\n",
       "      <th>Import prices</th>\n",
       "      <th>Import volumes</th>\n",
       "      <th>Import values</th>\n",
       "    </tr>\n",
       "  </thead>\n",
       "  <tbody>\n",
       "    <tr>\n",
       "      <th>0</th>\n",
       "      <td>2010-01-01</td>\n",
       "      <td>1072.0</td>\n",
       "      <td>1160.0</td>\n",
       "      <td>10093.0</td>\n",
       "      <td>904.0</td>\n",
       "      <td>1360.0</td>\n",
       "      <td>8827.0</td>\n",
       "    </tr>\n",
       "    <tr>\n",
       "      <th>1</th>\n",
       "      <td>2010-02-01</td>\n",
       "      <td>1072.0</td>\n",
       "      <td>1160.0</td>\n",
       "      <td>10093.0</td>\n",
       "      <td>904.0</td>\n",
       "      <td>1360.0</td>\n",
       "      <td>8827.0</td>\n",
       "    </tr>\n",
       "    <tr>\n",
       "      <th>2</th>\n",
       "      <td>2010-03-01</td>\n",
       "      <td>1072.0</td>\n",
       "      <td>1160.0</td>\n",
       "      <td>10093.0</td>\n",
       "      <td>904.0</td>\n",
       "      <td>1360.0</td>\n",
       "      <td>8827.0</td>\n",
       "    </tr>\n",
       "    <tr>\n",
       "      <th>3</th>\n",
       "      <td>2010-04-01</td>\n",
       "      <td>1112.0</td>\n",
       "      <td>1264.0</td>\n",
       "      <td>11416.0</td>\n",
       "      <td>920.0</td>\n",
       "      <td>1476.0</td>\n",
       "      <td>9740.0</td>\n",
       "    </tr>\n",
       "    <tr>\n",
       "      <th>4</th>\n",
       "      <td>2010-05-01</td>\n",
       "      <td>1112.0</td>\n",
       "      <td>1264.0</td>\n",
       "      <td>11416.0</td>\n",
       "      <td>920.0</td>\n",
       "      <td>1476.0</td>\n",
       "      <td>9740.0</td>\n",
       "    </tr>\n",
       "  </tbody>\n",
       "</table>\n",
       "</div>"
      ],
      "text/plain": [
       "        Date  Export prices  Export volumes  Export values  Import prices  \\\n",
       "0 2010-01-01         1072.0          1160.0        10093.0          904.0   \n",
       "1 2010-02-01         1072.0          1160.0        10093.0          904.0   \n",
       "2 2010-03-01         1072.0          1160.0        10093.0          904.0   \n",
       "3 2010-04-01         1112.0          1264.0        11416.0          920.0   \n",
       "4 2010-05-01         1112.0          1264.0        11416.0          920.0   \n",
       "\n",
       "   Import volumes  Import values  \n",
       "0          1360.0         8827.0  \n",
       "1          1360.0         8827.0  \n",
       "2          1360.0         8827.0  \n",
       "3          1476.0         9740.0  \n",
       "4          1476.0         9740.0  "
      ]
     },
     "execution_count": 23,
     "metadata": {},
     "output_type": "execute_result"
    }
   ],
   "source": [
    "imex.head()"
   ]
  },
  {
   "cell_type": "code",
   "execution_count": 24,
   "metadata": {},
   "outputs": [],
   "source": [
    "uni_climate_electricity = uni_climate_electricity.merge(imex, on='Date')\n",
    "cni_climate_electricity = cni_climate_electricity.merge(imex, on='Date')\n",
    "lni_climate_electricity = lni_climate_electricity.merge(imex, on='Date')\n",
    "usi_climate_electricity = usi_climate_electricity.merge(imex, on='Date')\n",
    "lsi_climate_electricity = lsi_climate_electricity.merge(imex, on='Date')\n",
    "\n",
    "uni_climate_electricity = uni_climate_electricity.merge(population_data[0], on='Date')\n",
    "cni_climate_electricity = cni_climate_electricity.merge(population_data[4], on='Date')\n",
    "lni_climate_electricity = lni_climate_electricity.merge(population_data[3], on='Date')\n",
    "usi_climate_electricity = usi_climate_electricity.merge(population_data[2], on='Date')\n",
    "lsi_climate_electricity = lsi_climate_electricity.merge(population_data[1], on='Date')\n"
   ]
  },
  {
   "cell_type": "markdown",
   "metadata": {},
   "source": [
    "# Dealing with Outliers"
   ]
  },
  {
   "cell_type": "code",
   "execution_count": 25,
   "metadata": {},
   "outputs": [],
   "source": [
    "uni_replacement_avg = (uni_climate_electricity.loc[uni_climate_electricity['Date'] == '2019-04-01', 'Selected business demand (GWh)'].values[0] + uni_climate_electricity.loc[uni_climate_electricity['Date'] == '2021-04-01', 'Selected business demand (GWh)'].values[0]) /2\n",
    "cni_replacement_avg = (cni_climate_electricity.loc[cni_climate_electricity['Date'] == '2019-04-01', 'Selected business demand (GWh)'].values[0] + cni_climate_electricity.loc[uni_climate_electricity['Date'] == '2021-04-01', 'Selected business demand (GWh)'].values[0]) /2\n",
    "lni_replacement_avg = (lni_climate_electricity.loc[lni_climate_electricity['Date'] == '2019-04-01', 'Selected business demand (GWh)'].values[0] + lni_climate_electricity.loc[lni_climate_electricity['Date'] == '2021-04-01', 'Selected business demand (GWh)'].values[0]) /2\n",
    "usi_replacement_avg = (usi_climate_electricity.loc[usi_climate_electricity['Date'] == '2019-04-01', 'Selected business demand (GWh)'].values[0] + usi_climate_electricity.loc[usi_climate_electricity['Date'] == '2021-04-01', 'Selected business demand (GWh)'].values[0]) /2\n",
    "lsi_replacement_avg = (lsi_climate_electricity.loc[lsi_climate_electricity['Date'] == '2019-04-01', 'Selected business demand (GWh)'].values[0] + lsi_climate_electricity.loc[lsi_climate_electricity['Date'] == '2021-04-01', 'Selected business demand (GWh)'].values[0]) /2"
   ]
  },
  {
   "cell_type": "code",
   "execution_count": 26,
   "metadata": {},
   "outputs": [],
   "source": [
    "uni_climate_electricity.loc[uni_climate_electricity['Date'] == '2020-04-01', 'Selected business demand (GWh)'] = uni_replacement_avg\n",
    "cni_climate_electricity.loc[cni_climate_electricity['Date'] == '2020-04-01', 'Selected business demand (GWh)'] = cni_replacement_avg\n",
    "lni_climate_electricity.loc[lni_climate_electricity['Date'] == '2020-04-01', 'Selected business demand (GWh)'] = lni_replacement_avg\n",
    "usi_climate_electricity.loc[usi_climate_electricity['Date'] == '2020-04-01', 'Selected business demand (GWh)'] = usi_replacement_avg\n",
    "lsi_climate_electricity.loc[lsi_climate_electricity['Date'] == '2020-04-01', 'Selected business demand (GWh)'] = lsi_replacement_avg"
   ]
  },
  {
   "cell_type": "markdown",
   "metadata": {},
   "source": [
    "# EXPORT DATA \n",
    "\n",
    "just click the code below and click 'Y' as the hotkey to convert markdown to code.\n"
   ]
  },
  {
   "cell_type": "code",
   "execution_count": 27,
   "metadata": {},
   "outputs": [],
   "source": [
    "uni_climate_electricity.to_csv(f'./ProcessedData_2020-04_Adjusted/Electricity-ResBusClimateUNI.csv', index=False) \n",
    "cni_climate_electricity.to_csv(f'./ProcessedData_2020-04_Adjusted/Electricity-ResBusClimateCNI.csv', index=False)\n",
    "lni_climate_electricity.to_csv(f'./ProcessedData_2020-04_Adjusted/Electricity-ResBusClimateLNI.csv', index=False)\n",
    "usi_climate_electricity.to_csv(f'./ProcessedData_2020-04_Adjusted/Electricity-ResBusClimateUSI.csv', index=False)\n",
    "lsi_climate_electricity.to_csv(f'./ProcessedData_2020-04_Adjusted/Electricity-ResBusClimateLSI.csv', index=False)"
   ]
  },
  {
   "cell_type": "markdown",
   "metadata": {},
   "source": []
  }
 ],
 "metadata": {
  "kernelspec": {
   "display_name": "py3-12_compsci361",
   "language": "python",
   "name": "python3"
  },
  "language_info": {
   "codemirror_mode": {
    "name": "ipython",
    "version": 3
   },
   "file_extension": ".py",
   "mimetype": "text/x-python",
   "name": "python",
   "nbconvert_exporter": "python",
   "pygments_lexer": "ipython3",
   "version": "3.12.2"
  }
 },
 "nbformat": 4,
 "nbformat_minor": 2
}
