{
 "cells": [
  {
   "cell_type": "code",
   "execution_count": 1,
   "metadata": {},
   "outputs": [],
   "source": [
    "import os\n",
    "import pandas as pd\n",
    "from darts import TimeSeries\n",
    "import matplotlib.pyplot as plt\n",
    "from darts.metrics import mape, mae, rmse\n",
    "\n",
    "\n"
   ]
  },
  {
   "cell_type": "code",
   "execution_count": 2,
   "metadata": {},
   "outputs": [],
   "source": [
    "## read data\n",
    "def get_timeseries (filepath):\n",
    "    electricity_consumption = pd.read_csv(filepath)\n",
    "    # Convert dataframe to Timeseries\n",
    "    ts = TimeSeries.from_dataframe(electricity_consumption, time_col=\"Date\" )\n",
    "    return ts\n"
   ]
  },
  {
   "cell_type": "code",
   "execution_count": 3,
   "metadata": {},
   "outputs": [],
   "source": [
    "def eval_model(pred_series, full_data,val_target, DESC):\n",
    "    plt.figure(figsize=(8, 5))\n",
    "    full_data[DESC].plot(label=\"actual\")\n",
    "    pred_series[DESC].plot(label=\"forecast\")\n",
    "    plt.title(\"Seasonal Naive Bayes Model: RMSE: {:.2f}, MAE: {:.2f}, MAPE: {:.2f}\".format(rmse(val_target, pred_series), mae(val_target, pred_series), mape(val_target, pred_series)))\n",
    "    plt.legend()"
   ]
  },
  {
   "cell_type": "markdown",
   "metadata": {},
   "source": [
    "# Read True Data"
   ]
  },
  {
   "cell_type": "code",
   "execution_count": 4,
   "metadata": {},
   "outputs": [],
   "source": [
    "file_list_name = ['Electricity-ResBusClimateUNI.csv', 'Electricity-ResBusClimateCNI.csv', \n",
    "                  'Electricity-ResBusClimateLNI.csv', 'Electricity-ResBusClimateUSI.csv', 'Electricity-ResBusClimateLSI.csv']\n",
    "path_name = '../AnalysisAndPreprocessing/ProcessedData_Original/'\n",
    "timeseries_list = [get_timeseries(path_name + file) for file in file_list_name]\n",
    "TRUE_ORDER = ['UNI', 'CNI', 'LNI', 'USI', 'LSI']"
   ]
  },
  {
   "cell_type": "markdown",
   "metadata": {},
   "source": [
    "# Read residential Data"
   ]
  },
  {
   "cell_type": "code",
   "execution_count": 5,
   "metadata": {},
   "outputs": [],
   "source": [
    "Res_covar = {\n",
    "    'UNI': ['Mean Air Temperature in Celsius', 'Mean Vapour Pressure Hpa', 'Days Of Wind Gust >= 24 Knots in Day'],\n",
    "    'CNI' : None,\n",
    "    'LNI' : ['Mean Air Temperature in Celsius', 'Mean Vapour Pressure Hpa'],\n",
    "    'USI' : ['Mean Air Temperature in Celsius', 'Mean Vapour Pressure Hpa', 'Mean Wind Speed M/Sec'],\n",
    "    'LSI' : ['Mean Air Temperature in Celsius','Mean Vapour Pressure Hpa']\n",
    "}"
   ]
  },
  {
   "cell_type": "code",
   "execution_count": 6,
   "metadata": {},
   "outputs": [],
   "source": [
    "pred_files = '../BestNlinear'\n",
    "\n",
    "files = os.listdir(pred_files)"
   ]
  },
  {
   "cell_type": "code",
   "execution_count": 7,
   "metadata": {},
   "outputs": [],
   "source": [
    "residential = []\n",
    "columns = 'Est. Total consumption (GWh)'\n",
    "zone_list = []\n",
    "\n",
    "for file in files:\n",
    "    if 'res' in file:\n",
    "        if len(residential) == 0:\n",
    "            residential.append(pd.read_csv(pred_files + '/' + file))\n",
    "            zone_list.append(file.split(',')[1])\n",
    "        else:\n",
    "            zone_data = pd.read_csv(pred_files + '/' + file)\n",
    "            residential.append(zone_data[columns])\n",
    "            zone_list.append(file.split(',')[1])\n",
    "\n"
   ]
  },
  {
   "cell_type": "code",
   "execution_count": 8,
   "metadata": {},
   "outputs": [],
   "source": [
    "zone_list\n",
    "residential = pd.concat(residential, axis=1)\n",
    "residential.columns = ['Date'] + zone_list\n",
    "residential = TimeSeries.from_dataframe(residential, time_col=\"Date\")"
   ]
  },
  {
   "cell_type": "markdown",
   "metadata": {},
   "source": [
    "# Read in business"
   ]
  },
  {
   "cell_type": "code",
   "execution_count": 9,
   "metadata": {},
   "outputs": [],
   "source": [
    "bus_covar = {\n",
    "    'UNI': ['Export prices', 'Import values', 'Export values'],\n",
    "    'CNI' : ['Export prices', 'Import values', 'Export values'],\n",
    "    'LNI' : ['Export prices', 'Export values','Mean Air Temperature in Celsius','Mean Vapour Pressure Hpa'],\n",
    "    'USI' : None,\n",
    "    'LSI' : ['Mean Air Temperature in Celsius','Mean Vapour Pressure Hpa', 'Mean Wind Speed M/Sec']\n",
    "}\n",
    "\n"
   ]
  },
  {
   "cell_type": "code",
   "execution_count": 10,
   "metadata": {},
   "outputs": [],
   "source": [
    "business = []\n",
    "columns = 'Selected business demand (GWh)'\n",
    "zone_list_bus = []\n",
    "\n",
    "for file in files:\n",
    "    if 'bus' in file:\n",
    "        if len(business) == 0:\n",
    "            business.append(pd.read_csv(pred_files + '/' + file))\n",
    "            zone_list_bus.append(file.split(',')[1])\n",
    "        else:\n",
    "            zone_data = pd.read_csv(pred_files + '/' + file)\n",
    "            business.append(zone_data[columns])\n",
    "            zone_list_bus.append(file.split(',')[1])\n",
    "\n",
    "\n",
    "business = pd.concat(business, axis=1)\n",
    "business.columns = ['Date'] + zone_list_bus\n",
    "business = TimeSeries.from_dataframe(business, time_col=\"Date\")\n",
    "\n"
   ]
  },
  {
   "cell_type": "markdown",
   "metadata": {},
   "source": [
    "# Evaluation"
   ]
  },
  {
   "cell_type": "markdown",
   "metadata": {},
   "source": [
    "### Residential"
   ]
  },
  {
   "cell_type": "code",
   "execution_count": 11,
   "metadata": {},
   "outputs": [],
   "source": [
    "residential_metrics = pd.DataFrame(columns=['RMSE', 'MAE', 'MAPE', 'Zone'])\n",
    "desc = 'Est. Total consumption (GWh)'\n",
    "\n",
    "for i in zone_list:\n",
    "    # Get the true data\n",
    "    truth_index = TRUE_ORDER.index(i)\n",
    "    true_data = timeseries_list[truth_index]\n",
    "\n",
    "    # Split to pred data\n",
    "    start_pred = pd.Timestamp(\"2018-01-01\")\n",
    "    train, val = true_data.split_after(start_pred)\n",
    "\n",
    "    # Get the zone data\n",
    "    ypred = residential[i]\n",
    "    \n",
    "    residential_metrics.loc[len(residential_metrics.index)] = [rmse(val[desc], ypred), \n",
    "                                                               mae(val[desc], ypred), \n",
    "                                                               mape(val[desc], ypred), \n",
    "                                                                i,]\n",
    "    "
   ]
  },
  {
   "cell_type": "code",
   "execution_count": 12,
   "metadata": {},
   "outputs": [
    {
     "data": {
      "text/html": [
       "<div>\n",
       "<style scoped>\n",
       "    .dataframe tbody tr th:only-of-type {\n",
       "        vertical-align: middle;\n",
       "    }\n",
       "\n",
       "    .dataframe tbody tr th {\n",
       "        vertical-align: top;\n",
       "    }\n",
       "\n",
       "    .dataframe thead th {\n",
       "        text-align: right;\n",
       "    }\n",
       "</style>\n",
       "<table border=\"1\" class=\"dataframe\">\n",
       "  <thead>\n",
       "    <tr style=\"text-align: right;\">\n",
       "      <th></th>\n",
       "      <th>RMSE</th>\n",
       "      <th>MAE</th>\n",
       "      <th>MAPE</th>\n",
       "      <th>Zone</th>\n",
       "    </tr>\n",
       "  </thead>\n",
       "  <tbody>\n",
       "    <tr>\n",
       "      <th>0</th>\n",
       "      <td>10.649168</td>\n",
       "      <td>8.613445</td>\n",
       "      <td>3.727516</td>\n",
       "      <td>CNI</td>\n",
       "    </tr>\n",
       "    <tr>\n",
       "      <th>1</th>\n",
       "      <td>10.947812</td>\n",
       "      <td>8.307235</td>\n",
       "      <td>4.060857</td>\n",
       "      <td>LNI</td>\n",
       "    </tr>\n",
       "    <tr>\n",
       "      <th>2</th>\n",
       "      <td>6.837435</td>\n",
       "      <td>5.210282</td>\n",
       "      <td>4.378534</td>\n",
       "      <td>LSI</td>\n",
       "    </tr>\n",
       "    <tr>\n",
       "      <th>3</th>\n",
       "      <td>23.851384</td>\n",
       "      <td>17.727212</td>\n",
       "      <td>4.585845</td>\n",
       "      <td>UNI</td>\n",
       "    </tr>\n",
       "    <tr>\n",
       "      <th>4</th>\n",
       "      <td>12.760862</td>\n",
       "      <td>9.560666</td>\n",
       "      <td>4.550774</td>\n",
       "      <td>USI</td>\n",
       "    </tr>\n",
       "  </tbody>\n",
       "</table>\n",
       "</div>"
      ],
      "text/plain": [
       "        RMSE        MAE      MAPE Zone\n",
       "0  10.649168   8.613445  3.727516  CNI\n",
       "1  10.947812   8.307235  4.060857  LNI\n",
       "2   6.837435   5.210282  4.378534  LSI\n",
       "3  23.851384  17.727212  4.585845  UNI\n",
       "4  12.760862   9.560666  4.550774  USI"
      ]
     },
     "execution_count": 12,
     "metadata": {},
     "output_type": "execute_result"
    }
   ],
   "source": [
    "residential_metrics"
   ]
  },
  {
   "cell_type": "code",
   "execution_count": 13,
   "metadata": {},
   "outputs": [
    {
     "data": {
      "text/plain": [
       "{'UNI': ['Mean Air Temperature in Celsius',\n",
       "  'Mean Vapour Pressure Hpa',\n",
       "  'Days Of Wind Gust >= 24 Knots in Day'],\n",
       " 'CNI': None,\n",
       " 'LNI': ['Mean Air Temperature in Celsius', 'Mean Vapour Pressure Hpa'],\n",
       " 'USI': ['Mean Air Temperature in Celsius',\n",
       "  'Mean Vapour Pressure Hpa',\n",
       "  'Mean Wind Speed M/Sec'],\n",
       " 'LSI': ['Mean Air Temperature in Celsius', 'Mean Vapour Pressure Hpa']}"
      ]
     },
     "execution_count": 13,
     "metadata": {},
     "output_type": "execute_result"
    }
   ],
   "source": [
    "Res_covar"
   ]
  },
  {
   "cell_type": "markdown",
   "metadata": {},
   "source": [
    "### Business"
   ]
  },
  {
   "cell_type": "code",
   "execution_count": 14,
   "metadata": {},
   "outputs": [],
   "source": [
    "business_metrics = pd.DataFrame(columns=['RMSE', 'MAE', 'MAPE', 'Zone'])\n",
    "desc = 'Selected business demand (GWh)'\n",
    "\n",
    "for i in zone_list_bus:\n",
    "    # Get the true data\n",
    "    truth_index = TRUE_ORDER.index(i)\n",
    "    true_data = timeseries_list[truth_index]\n",
    "\n",
    "    # Split to pred data\n",
    "    start_pred = pd.Timestamp(\"2018-01-01\")\n",
    "    train, val = true_data.split_after(start_pred)\n",
    "\n",
    "    # Get the zone data\n",
    "    ypred = business[i]\n",
    "    \n",
    "    business_metrics.loc[len(business_metrics.index)] = [rmse(val[desc], ypred), \n",
    "                                                               mae(val[desc], ypred), \n",
    "                                                               mape(val[desc], ypred), \n",
    "                                                                i,]\n",
    "    "
   ]
  },
  {
   "cell_type": "code",
   "execution_count": 15,
   "metadata": {},
   "outputs": [
    {
     "data": {
      "text/html": [
       "<div>\n",
       "<style scoped>\n",
       "    .dataframe tbody tr th:only-of-type {\n",
       "        vertical-align: middle;\n",
       "    }\n",
       "\n",
       "    .dataframe tbody tr th {\n",
       "        vertical-align: top;\n",
       "    }\n",
       "\n",
       "    .dataframe thead th {\n",
       "        text-align: right;\n",
       "    }\n",
       "</style>\n",
       "<table border=\"1\" class=\"dataframe\">\n",
       "  <thead>\n",
       "    <tr style=\"text-align: right;\">\n",
       "      <th></th>\n",
       "      <th>RMSE</th>\n",
       "      <th>MAE</th>\n",
       "      <th>MAPE</th>\n",
       "      <th>Zone</th>\n",
       "    </tr>\n",
       "  </thead>\n",
       "  <tbody>\n",
       "    <tr>\n",
       "      <th>0</th>\n",
       "      <td>27.774127</td>\n",
       "      <td>18.980568</td>\n",
       "      <td>4.395407</td>\n",
       "      <td>CNI</td>\n",
       "    </tr>\n",
       "    <tr>\n",
       "      <th>1</th>\n",
       "      <td>13.261595</td>\n",
       "      <td>10.232979</td>\n",
       "      <td>4.084249</td>\n",
       "      <td>LNI</td>\n",
       "    </tr>\n",
       "    <tr>\n",
       "      <th>2</th>\n",
       "      <td>21.578079</td>\n",
       "      <td>17.554347</td>\n",
       "      <td>2.722862</td>\n",
       "      <td>LSI</td>\n",
       "    </tr>\n",
       "    <tr>\n",
       "      <th>3</th>\n",
       "      <td>40.334553</td>\n",
       "      <td>28.429646</td>\n",
       "      <td>5.073832</td>\n",
       "      <td>UNI</td>\n",
       "    </tr>\n",
       "    <tr>\n",
       "      <th>4</th>\n",
       "      <td>28.644798</td>\n",
       "      <td>20.717688</td>\n",
       "      <td>7.036064</td>\n",
       "      <td>USI</td>\n",
       "    </tr>\n",
       "  </tbody>\n",
       "</table>\n",
       "</div>"
      ],
      "text/plain": [
       "        RMSE        MAE      MAPE Zone\n",
       "0  27.774127  18.980568  4.395407  CNI\n",
       "1  13.261595  10.232979  4.084249  LNI\n",
       "2  21.578079  17.554347  2.722862  LSI\n",
       "3  40.334553  28.429646  5.073832  UNI\n",
       "4  28.644798  20.717688  7.036064  USI"
      ]
     },
     "execution_count": 15,
     "metadata": {},
     "output_type": "execute_result"
    }
   ],
   "source": [
    "business_metrics"
   ]
  },
  {
   "cell_type": "code",
   "execution_count": 16,
   "metadata": {},
   "outputs": [
    {
     "data": {
      "text/plain": [
       "{'UNI': ['Export prices', 'Import values', 'Export values'],\n",
       " 'CNI': ['Export prices', 'Import values', 'Export values'],\n",
       " 'LNI': ['Export prices',\n",
       "  'Export values',\n",
       "  'Mean Air Temperature in Celsius',\n",
       "  'Mean Vapour Pressure Hpa'],\n",
       " 'USI': None,\n",
       " 'LSI': ['Mean Air Temperature in Celsius',\n",
       "  'Mean Vapour Pressure Hpa',\n",
       "  'Mean Wind Speed M/Sec']}"
      ]
     },
     "execution_count": 16,
     "metadata": {},
     "output_type": "execute_result"
    }
   ],
   "source": [
    "bus_covar"
   ]
  }
 ],
 "metadata": {
  "kernelspec": {
   "display_name": "py3-12-CS361",
   "language": "python",
   "name": "python3"
  },
  "language_info": {
   "codemirror_mode": {
    "name": "ipython",
    "version": 3
   },
   "file_extension": ".py",
   "mimetype": "text/x-python",
   "name": "python",
   "nbconvert_exporter": "python",
   "pygments_lexer": "ipython3",
   "version": "3.12.2"
  }
 },
 "nbformat": 4,
 "nbformat_minor": 2
}
