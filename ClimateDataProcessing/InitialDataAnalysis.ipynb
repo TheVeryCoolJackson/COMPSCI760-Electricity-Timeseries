{
 "cells": [
  {
   "cell_type": "code",
   "execution_count": 4,
   "metadata": {},
   "outputs": [],
   "source": [
    "import pandas as pd"
   ]
  },
  {
   "cell_type": "code",
   "metadata": {
    "ExecuteTime": {
     "end_time": "2024-08-26T03:35:21.744504Z",
     "start_time": "2024-08-26T03:35:21.243011Z"
    }
   },
   "source": [
    "data = pd.read_csv('NewCentralNorthRegions.csv')"
   ],
   "outputs": [
    {
     "ename": "NameError",
     "evalue": "name 'pd' is not defined",
     "output_type": "error",
     "traceback": [
      "\u001B[1;31m---------------------------------------------------------------------------\u001B[0m",
      "\u001B[1;31mNameError\u001B[0m                                 Traceback (most recent call last)",
      "Cell \u001B[1;32mIn[1], line 1\u001B[0m\n\u001B[1;32m----> 1\u001B[0m data \u001B[38;5;241m=\u001B[39m pd\u001B[38;5;241m.\u001B[39mread_csv(\u001B[38;5;124m'\u001B[39m\u001B[38;5;124mNewCentralNorthRegions.csv\u001B[39m\u001B[38;5;124m'\u001B[39m)\n",
      "\u001B[1;31mNameError\u001B[0m: name 'pd' is not defined"
     ]
    }
   ],
   "execution_count": 1
  },
  {
   "cell_type": "code",
   "execution_count": 6,
   "metadata": {},
   "outputs": [
    {
     "data": {
      "text/html": [
       "<div>\n",
       "<style scoped>\n",
       "    .dataframe tbody tr th:only-of-type {\n",
       "        vertical-align: middle;\n",
       "    }\n",
       "\n",
       "    .dataframe tbody tr th {\n",
       "        vertical-align: top;\n",
       "    }\n",
       "\n",
       "    .dataframe thead th {\n",
       "        text-align: right;\n",
       "    }\n",
       "</style>\n",
       "<table border=\"1\" class=\"dataframe\">\n",
       "  <thead>\n",
       "    <tr style=\"text-align: right;\">\n",
       "      <th></th>\n",
       "      <th>Date</th>\n",
       "      <th>Station</th>\n",
       "      <th>Total Rainfall Mm</th>\n",
       "      <th>Mean Air Temperature in Celsius</th>\n",
       "      <th>Mean Vapour Pressure Hpa</th>\n",
       "      <th>Mean Wind Speed M/Sec</th>\n",
       "      <th>Days Of Wind Gust &gt;= 24 Knots in Day</th>\n",
       "      <th>Standard Deviation Of Daily Mean Temperature in Celsius</th>\n",
       "    </tr>\n",
       "  </thead>\n",
       "  <tbody>\n",
       "    <tr>\n",
       "      <th>0</th>\n",
       "      <td>2010-04-01</td>\n",
       "      <td>1673</td>\n",
       "      <td>79.8</td>\n",
       "      <td>15.2</td>\n",
       "      <td>14.2</td>\n",
       "      <td>2.7</td>\n",
       "      <td>2</td>\n",
       "      <td>2.2</td>\n",
       "    </tr>\n",
       "    <tr>\n",
       "      <th>1</th>\n",
       "      <td>2010-08-01</td>\n",
       "      <td>1673</td>\n",
       "      <td>251.9</td>\n",
       "      <td>11.4</td>\n",
       "      <td>12.4</td>\n",
       "      <td>3.7</td>\n",
       "      <td>-</td>\n",
       "      <td>2.3</td>\n",
       "    </tr>\n",
       "    <tr>\n",
       "      <th>2</th>\n",
       "      <td>2010-12-01</td>\n",
       "      <td>1673</td>\n",
       "      <td>130.8</td>\n",
       "      <td>19.1</td>\n",
       "      <td>17.9</td>\n",
       "      <td>4.1</td>\n",
       "      <td>9</td>\n",
       "      <td>1.7</td>\n",
       "    </tr>\n",
       "    <tr>\n",
       "      <th>3</th>\n",
       "      <td>2010-02-01</td>\n",
       "      <td>1673</td>\n",
       "      <td>29.4</td>\n",
       "      <td>20.3</td>\n",
       "      <td>19.3</td>\n",
       "      <td>2.9</td>\n",
       "      <td>2</td>\n",
       "      <td>1.6</td>\n",
       "    </tr>\n",
       "    <tr>\n",
       "      <th>4</th>\n",
       "      <td>2010-01-01</td>\n",
       "      <td>1673</td>\n",
       "      <td>132.4</td>\n",
       "      <td>18.8</td>\n",
       "      <td>16.7</td>\n",
       "      <td>3.5</td>\n",
       "      <td>5</td>\n",
       "      <td>2.2</td>\n",
       "    </tr>\n",
       "  </tbody>\n",
       "</table>\n",
       "</div>"
      ],
      "text/plain": [
       "         Date  Station Total Rainfall Mm Mean Air Temperature in Celsius  \\\n",
       "0  2010-04-01     1673              79.8                            15.2   \n",
       "1  2010-08-01     1673             251.9                            11.4   \n",
       "2  2010-12-01     1673             130.8                            19.1   \n",
       "3  2010-02-01     1673              29.4                            20.3   \n",
       "4  2010-01-01     1673             132.4                            18.8   \n",
       "\n",
       "  Mean Vapour Pressure Hpa Mean Wind Speed M/Sec  \\\n",
       "0                     14.2                   2.7   \n",
       "1                     12.4                   3.7   \n",
       "2                     17.9                   4.1   \n",
       "3                     19.3                   2.9   \n",
       "4                     16.7                   3.5   \n",
       "\n",
       "  Days Of Wind Gust >= 24 Knots in Day  \\\n",
       "0                                    2   \n",
       "1                                    -   \n",
       "2                                    9   \n",
       "3                                    2   \n",
       "4                                    5   \n",
       "\n",
       "  Standard Deviation Of Daily Mean Temperature in Celsius  \n",
       "0                                                2.2       \n",
       "1                                                2.3       \n",
       "2                                                1.7       \n",
       "3                                                1.6       \n",
       "4                                                2.2       "
      ]
     },
     "execution_count": 6,
     "metadata": {},
     "output_type": "execute_result"
    }
   ],
   "source": [
    "data.head()"
   ]
  }
 ],
 "metadata": {
  "kernelspec": {
   "display_name": "py3-12_compsci361",
   "language": "python",
   "name": "python3"
  },
  "language_info": {
   "codemirror_mode": {
    "name": "ipython",
    "version": 3
   },
   "file_extension": ".py",
   "mimetype": "text/x-python",
   "name": "python",
   "nbconvert_exporter": "python",
   "pygments_lexer": "ipython3",
   "version": "3.12.2"
  }
 },
 "nbformat": 4,
 "nbformat_minor": 2
}
