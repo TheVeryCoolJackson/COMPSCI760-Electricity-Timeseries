{
 "cells": [
  {
   "cell_type": "markdown",
   "metadata": {},
   "source": [
    "# Data Aggregation NoteBook\n",
    "\n",
    "Climatic data was extracted from CliFlo Niwa, Niwa's Climate Database.\n",
    "\n",
    "Statistic extracted from each station includes: Total rainfall, Mean air tempature, Mean vapor pressure, Mean wind speed, Days of wind gusts >= 24 knots and Standard deviation of daily mean tempature with the respected statistic code from CliFlo Niwa being: 00,02,16,33,60,61\n",
    "\n",
    "Stations were chosen based on EMI's zones with respected regions which needs to be aggregated to represent the EMI zones which are Upper North Island, Central North island, Lower North island, Upper South island and Lower South island. \n",
    "\n",
    "The stats codes are:\n",
    "\n",
    "Code\tDescription\tUnits\n",
    "0\tTotal Rainfall\tMm\n",
    "2\tMean Air Temperature\tCelsius\n",
    "16\tMean Vapour Pressure\tHpa\n",
    "33\tMean Wind Speed\tM/Sec\n",
    "60\tDays Of Wind Gust >= 24 Knots\tDay\n",
    "61\tStandard Deviation Of Daily Mean Temperature.\tCelsius\n",
    "\n",
    "\n"
   ]
  },
  {
   "cell_type": "markdown",
   "metadata": {},
   "source": [
    "### Import libraries"
   ]
  },
  {
   "cell_type": "code",
   "execution_count": 1,
   "metadata": {},
   "outputs": [],
   "source": [
    "import pandas as pd"
   ]
  },
  {
   "cell_type": "code",
   "execution_count": 2,
   "metadata": {},
   "outputs": [],
   "source": [
    "def CliFloReshape(filepath):\n",
    "    '''\n",
    "    CliFloReshape transforms the data from CliFlo in order to prepare for the timeseries analysis\n",
    "\n",
    "        args: \n",
    "         filepath: cliflo proccessed tab seperated text file (remove all meta data attached and only include relevant data)\n",
    "\n",
    "        Returns:\n",
    "         a processed dataframe such the the data is now ready for time series analysis\n",
    "\n",
    "    '''\n",
    "\n",
    "    data = pd.read_csv(filepath, sep = '\\t') #Read in file path\n",
    "    \n",
    "    data = data.rename(columns={'Year ': 'Year'}) #Rename 'Year ' to 'Year' as per formating for date time\n",
    "\n",
    "    data = pd.melt(data, id_vars=['Station','Year', 'Stats_Code' ], \n",
    "                   value_vars=['Jan', 'Feb','Mar','Apr','May','Jun','Jul','Aug','Sep','Oct','Nov','Dec'], var_name=\"Month\") #Convert months from wide to long\n",
    "    \n",
    "    data = pd.pivot(data,index=['Station', 'Year', 'Month'], \n",
    "                    columns='Stats_Code', values='value').reset_index() #Convert Stats Code values from long to wide\n",
    "    \n",
    "    # Renaming\n",
    "    nameMapping = {0: 'Total Rainfall Mm', 2: 'Mean Air Temperature in Celsius', \n",
    "                   16: 'Mean Vapour Pressure Hpa', 33: 'Mean Wind Speed M/Sec',\n",
    "                   60: 'Days Of Wind Gust >= 24 Knots in Day',\n",
    "                   61: 'Standard Deviation Of Daily Mean Temperature in Celsius'}\n",
    "    \n",
    "    monthMapping = {'Apr':4, 'Aug':8, 'Dec':12, 'Feb' : 2, 'Jan' : 1, 'Jul' : 7, 'Jun' : 6, 'Mar' : 3, 'May' : 5,\n",
    "       'Nov' : 11, 'Oct' : 10, 'Sep' : 9}\n",
    "    \n",
    "    data['Month'] = data['Month'].map(monthMapping)\n",
    "\n",
    "    data = data.rename(columns=nameMapping)\n",
    "\n",
    "    data['Day'] = 1 # Adding day var as per formating for date time\n",
    "\n",
    "    \n",
    "    # Date formatting\n",
    "\n",
    "    datetimes = pd.to_datetime(data[['Year', 'Month', 'Day']]) # create series of dates corresponding to respective months and year\n",
    "\n",
    "    data = pd.concat([datetimes, data[['Total Rainfall Mm',\n",
    "       'Mean Air Temperature in Celsius', 'Mean Vapour Pressure Hpa',\n",
    "       'Mean Wind Speed M/Sec', 'Days Of Wind Gust >= 24 Knots in Day',\n",
    "       'Standard Deviation Of Daily Mean Temperature in Celsius']]], axis=1) # Replace old data with the dates and the following measurements\n",
    "    \n",
    "    data = data.rename(columns={0: 'Date'}) # Renaming date (currently named as 0) column to date\n",
    "\n",
    "    return data\n",
    "\n"
   ]
  },
  {
   "cell_type": "code",
   "execution_count": 3,
   "metadata": {},
   "outputs": [],
   "source": [
    "def Ouput_as_csv (filelist, path = ''):\n",
    "    '''\n",
    "    To download and save the processed csv files\n",
    "\n",
    "        args:\n",
    "            filelist: a list of files including extension (should be in tab seperated as a txt file)\n",
    "            path: absolute path if files not in same directory\n",
    "\n",
    "    '''\n",
    "\n",
    "    for i in filelist:\n",
    "        data = CliFloReshape(path+i)\n",
    "        data.to_csv(f'New{i[:-4]}.csv', index=False) \n",
    "\n",
    "\n"
   ]
  },
  {
   "cell_type": "code",
   "execution_count": 4,
   "metadata": {},
   "outputs": [],
   "source": [
    "filelist = ['UpperNorthRegions.txt', 'SouthSouthRegions.txt', 'UpperSouthARegions.txt','SouthNorthRegions.txt', 'CentralNorthRegions.txt']\n",
    "path = '../RegionsCSVfiles/'"
   ]
  },
  {
   "cell_type": "code",
   "execution_count": 5,
   "metadata": {},
   "outputs": [],
   "source": [
    "Ouput_as_csv(filelist, path)"
   ]
  }
 ],
 "metadata": {
  "kernelspec": {
   "display_name": "py3-12_compsci361",
   "language": "python",
   "name": "python3"
  },
  "language_info": {
   "codemirror_mode": {
    "name": "ipython",
    "version": 3
   },
   "file_extension": ".py",
   "mimetype": "text/x-python",
   "name": "python",
   "nbconvert_exporter": "python",
   "pygments_lexer": "ipython3",
   "version": "3.12.2"
  }
 },
 "nbformat": 4,
 "nbformat_minor": 2
}
