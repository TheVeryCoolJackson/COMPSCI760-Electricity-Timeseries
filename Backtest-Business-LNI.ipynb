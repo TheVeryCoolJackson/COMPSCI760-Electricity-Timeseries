{
 "cells": [
  {
   "cell_type": "code",
   "execution_count": 1,
   "id": "c91cb395-a173-4fb5-9fb8-d0592c732c60",
   "metadata": {},
   "outputs": [
    {
     "name": "stderr",
     "output_type": "stream",
     "text": [
      "/Users/richardpeng/anaconda3/envs/Richard/lib/python3.12/site-packages/tqdm/auto.py:21: TqdmWarning: IProgress not found. Please update jupyter and ipywidgets. See https://ipywidgets.readthedocs.io/en/stable/user_install.html\n",
      "  from .autonotebook import tqdm as notebook_tqdm\n"
     ]
    }
   ],
   "source": [
    "import pandas as pd\n",
    "from darts import TimeSeries\n",
    "from darts.models import AutoARIMA, ARIMA\n",
    "from darts.metrics import mape, mae, rmse\n",
    "import matplotlib.pyplot as plt"
   ]
  },
  {
   "cell_type": "code",
   "execution_count": 2,
   "id": "99174d43-5caf-4f3b-a9db-2c6c17c409e3",
   "metadata": {},
   "outputs": [],
   "source": [
    "# Load the business demand data\n",
    "BD = pd.read_csv(\"Business_demand_trends_20240901140306.csv\")\n",
    "\n",
    "# Remove the first 9 rows\n",
    "BD = BD.iloc[9:].reset_index(drop=True)\n",
    "\n",
    "# Convert 'Period start' to datetime format\n",
    "BD['Period start'] = pd.to_datetime(BD['Period start'], format='%d/%m/%y')\n",
    "\n",
    "# Filter by a specific \"Region ID\", for instance \"CNI\" (Central North Island) – adjust as needed\n",
    "region_id = \"LNI\"  # Replace with the desired \"Region ID\"\n",
    "BD_region = BD[BD['Region ID'] == region_id]\n",
    "\n",
    "# Set 'Period start' as the index\n",
    "BD_region.set_index('Period start', inplace=True)\n",
    "\n",
    "# Convert to a Darts TimeSeries object, selecting \"Est. Total consumption (GWh)\" as the target variable\n",
    "series = TimeSeries.from_series(BD_region['Selected business demand (GWh)'])\n",
    "\n",
    "# Define training series and validation series\n",
    "train_series = series.slice(pd.Timestamp('2010-01-01'), pd.Timestamp('2017-12-31'))\n",
    "validation_series = series.slice(pd.Timestamp('2018-01-01'), pd.Timestamp('2024-06-01'))"
   ]
  },
  {
   "cell_type": "code",
   "execution_count": 3,
   "id": "fa929982-c1c5-4d53-98fc-fcb41c02b124",
   "metadata": {},
   "outputs": [
    {
     "name": "stdout",
     "output_type": "stream",
     "text": [
      "Backtesting SARIMA Model (4, 1, 0)x(0, 1, 1, 12)\n",
      "MAPE for SARIMA (4, 1, 0)x(0, 1, 1, 12) during backtesting: 3.2163447814395463\n"
     ]
    }
   ],
   "source": [
    "# Initialize SARIMA model with (4, 1, 0)x(0, 1, 1, 12)\n",
    "sarima_model = ARIMA(4, 1, 0, seasonal_order=(0, 1, 1, 12))\n",
    "\n",
    "# Conduct backtesting on pre-COVID data (2018-2019)\n",
    "print(\"Backtesting SARIMA Model (4, 1, 0)x(0, 1, 1, 12)\")\n",
    "\n",
    "backtest_mape = sarima_model.backtest(\n",
    "    series=series,\n",
    "    start=pd.Timestamp('2018-01-01'),\n",
    "    forecast_horizon=3,\n",
    "    stride=1,\n",
    "    metric=mape,\n",
    "    train_length=None,\n",
    "    retrain=True\n",
    ")\n",
    "\n",
    "print(f\"MAPE for SARIMA (4, 1, 0)x(0, 1, 1, 12) during backtesting: {backtest_mape}\")"
   ]
  },
  {
   "cell_type": "code",
   "execution_count": 4,
   "id": "3efd7a87-a5d7-4be9-80b3-602d5fd7b882",
   "metadata": {},
   "outputs": [],
   "source": [
    "# Generate historical forecasts for visualization\n",
    "forecast_sarima = sarima_model.historical_forecasts(\n",
    "    series=series,\n",
    "    start=pd.Timestamp('2018-01-01'),\n",
    "    forecast_horizon=3,\n",
    "    stride=1,\n",
    "    retrain=True\n",
    ")\n",
    "\n",
    "# Plot actual vs. forecast\n",
    "#plt.figure(figsize=(12, 6))\n",
    "#series.plot(label=\"Actual\")\n",
    "#forecast_sarima.plot(label=\"SARIMA Forecast\")\n",
    "#plt.legend()\n",
    "#plt.title(\"Pre-COVID Backtesting (2018-2019) - Forecast vs Actual\")\n",
    "#plt.show()"
   ]
  },
  {
   "cell_type": "code",
   "execution_count": 5,
   "id": "83a041f4-f952-4a5c-ae85-d18dfb3f8cc0",
   "metadata": {},
   "outputs": [],
   "source": [
    "# Convert forecasted values to a pandas DataFrame\n",
    "backtest_pred = forecast_sarima.pd_dataframe()\n",
    "\n",
    "# Rename the prediction column\n",
    "backtest_pred.rename(columns={backtest_pred.columns[0]: \"predictions\"}, inplace=True)\n",
    "\n",
    "# Define the validation period (2018-2024)\n",
    "validation_series = series.slice(pd.Timestamp('2018-01-01'), pd.Timestamp('2024-06-01'))\n",
    "\n",
    "# Join the validation data (actual values) with the forecasted predictions\n",
    "backtest_pred = backtest_pred.join(validation_series.pd_dataframe(), how='inner')\n",
    "\n",
    "# Rename the actual values column\n",
    "backtest_pred.rename(columns={backtest_pred.columns[1]: \"actual\"}, inplace=True)\n",
    "\n",
    "# Calculate the difference between actual and predictions\n",
    "backtest_pred['difference'] = backtest_pred['predictions'] - backtest_pred['actual']\n",
    "\n",
    "#backtest_pred.head()\n",
    "# Save the output to a CSV file\n",
    "#backtest_pred.to_csv('SARIMA,LNI,bus.csv', index=True)"
   ]
  },
  {
   "cell_type": "code",
   "execution_count": 6,
   "id": "95b426d6-9054-4996-a4b6-5ab55efc97bf",
   "metadata": {},
   "outputs": [
    {
     "name": "stdout",
     "output_type": "stream",
     "text": [
      "MAPE: 3.5423\n",
      "RMSE: 12.5159\n",
      "MAE: 8.8529\n"
     ]
    }
   ],
   "source": [
    "# Calculate metrics: MAPE, RMSE, and MAE\n",
    "mape_value = mape(validation_series, forecast_sarima)\n",
    "rmse_value = rmse(validation_series, forecast_sarima)\n",
    "mae_value = mae(validation_series, forecast_sarima)\n",
    "\n",
    "# Print out the results\n",
    "print(f\"MAPE: {mape_value:.4f}\")\n",
    "print(f\"RMSE: {rmse_value:.4f}\")\n",
    "print(f\"MAE: {mae_value:.4f}\")"
   ]
  }
 ],
 "metadata": {
  "kernelspec": {
   "display_name": "Python 3 (ipykernel)",
   "language": "python",
   "name": "python3"
  },
  "language_info": {
   "codemirror_mode": {
    "name": "ipython",
    "version": 3
   },
   "file_extension": ".py",
   "mimetype": "text/x-python",
   "name": "python",
   "nbconvert_exporter": "python",
   "pygments_lexer": "ipython3",
   "version": "3.12.7"
  }
 },
 "nbformat": 4,
 "nbformat_minor": 5
}
