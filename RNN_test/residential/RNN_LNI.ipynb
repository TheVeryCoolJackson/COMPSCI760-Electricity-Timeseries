{
 "cells": [
  {
   "metadata": {
    "ExecuteTime": {
     "end_time": "2024-09-25T09:57:38.927957Z",
     "start_time": "2024-09-25T09:57:38.922861Z"
    }
   },
   "cell_type": "code",
   "source": [
    "from torch.backends.mkl import verbose\n",
    "%matplotlib inline\n",
    "\n",
    "import pandas as pd\n",
    "import numpy as np\n",
    "import matplotlib.pyplot as plt\n",
    "\n",
    "from darts import TimeSeries\n"
   ],
   "id": "4ccc06ffd0bcb14f",
   "outputs": [],
   "execution_count": 4
  },
  {
   "metadata": {},
   "cell_type": "markdown",
   "source": "## Read data",
   "id": "af6067d055274330"
  },
  {
   "metadata": {
    "ExecuteTime": {
     "end_time": "2024-09-25T09:57:38.975317Z",
     "start_time": "2024-09-25T09:57:38.954987Z"
    }
   },
   "cell_type": "code",
   "source": [
    "electricity_consumption = pd.read_csv(\"../AnalysisAndPreprocessing/ProcessedData/Electricity-ResBusClimateLNI.csv\")\n",
    "electricity_consumption.drop(['Period start', 'Import values', 'Export values'], axis=1, inplace=True)\n",
    "electricity_consumption"
   ],
   "id": "52987e668dd89e77",
   "outputs": [
    {
     "data": {
      "text/plain": [
       "           Date  Total Rainfall Mm  Mean Air Temperature in Celsius  \\\n",
       "0    2010-01-01          67.866667                        17.233333   \n",
       "1    2010-02-01          71.333333                        18.733333   \n",
       "2    2010-03-01          46.000000                        16.633333   \n",
       "3    2010-04-01          41.733333                        14.966667   \n",
       "4    2010-05-01         149.600000                        12.500000   \n",
       "..          ...                ...                              ...   \n",
       "169  2024-02-01          45.133333                        17.966667   \n",
       "170  2024-03-01          61.866667                        15.600000   \n",
       "171  2024-04-01         117.100000                        14.533333   \n",
       "172  2024-05-01          78.700000                        10.800000   \n",
       "173  2024-06-01          73.933333                        11.000000   \n",
       "\n",
       "     Mean Vapour Pressure Hpa  Mean Wind Speed M/Sec  \\\n",
       "0                   15.766667               5.766667   \n",
       "1                   17.800000               4.833333   \n",
       "2                   14.366667               5.766667   \n",
       "3                   13.966667               5.433333   \n",
       "4                   12.500000               4.733333   \n",
       "..                        ...                    ...   \n",
       "169                 15.400000               5.866667   \n",
       "170                 13.333333               5.833333   \n",
       "171                 13.333333               4.733333   \n",
       "172                 10.733333               4.600000   \n",
       "173                 10.866667               4.400000   \n",
       "\n",
       "     Days Of Wind Gust >= 24 Knots in Day  \\\n",
       "0                               18.333333   \n",
       "1                                7.500000   \n",
       "2                               22.666667   \n",
       "3                               17.666667   \n",
       "4                               14.500000   \n",
       "..                                    ...   \n",
       "169                             19.000000   \n",
       "170                             22.333333   \n",
       "171                             12.000000   \n",
       "172                             16.666667   \n",
       "173                             13.333333   \n",
       "\n",
       "     Standard Deviation Of Daily Mean Temperature in Celsius    Year  Month  \\\n",
       "0                                             2.533333        2010.0    1.0   \n",
       "1                                             1.766667        2010.0    2.0   \n",
       "2                                             2.166667        2010.0    3.0   \n",
       "3                                             2.166667        2010.0    4.0   \n",
       "4                                             2.000000        2010.0    5.0   \n",
       "..                                                 ...           ...    ...   \n",
       "169                                           2.033333        2024.0    2.0   \n",
       "170                                           2.366667        2024.0    3.0   \n",
       "171                                           2.200000        2024.0    4.0   \n",
       "172                                           1.900000        2024.0    5.0   \n",
       "173                                           1.666667        2024.0    6.0   \n",
       "\n",
       "     Selected business demand (GWh)  Est. Total consumption (GWh)  \\\n",
       "0                           246.968                       158.147   \n",
       "1                           240.083                       144.080   \n",
       "2                           274.398                       163.344   \n",
       "3                           254.165                       174.786   \n",
       "4                           270.760                       209.621   \n",
       "..                              ...                           ...   \n",
       "169                         247.053                       148.392   \n",
       "170                         253.768                       169.994   \n",
       "171                         243.587                       184.402   \n",
       "172                         262.416                       246.995   \n",
       "173                         240.388                       249.659   \n",
       "\n",
       "     Export prices  Export volumes  Import prices  Import volumes  Population  \n",
       "0             1072            1160            904            1360    299300.0  \n",
       "1             1072            1160            904            1360    299300.0  \n",
       "2             1072            1160            904            1360    299300.0  \n",
       "3             1112            1264            920            1476    299300.0  \n",
       "4             1112            1264            920            1476    299300.0  \n",
       "..             ...             ...            ...             ...         ...  \n",
       "169           1362            1465            998            2381    358500.0  \n",
       "170           1362            1465            998            2381    358500.0  \n",
       "171           1433            1584           1029            2414    358500.0  \n",
       "172           1433            1584           1029            2414    358500.0  \n",
       "173           1433            1584           1029            2414    358500.0  \n",
       "\n",
       "[174 rows x 16 columns]"
      ],
      "text/html": [
       "<div>\n",
       "<style scoped>\n",
       "    .dataframe tbody tr th:only-of-type {\n",
       "        vertical-align: middle;\n",
       "    }\n",
       "\n",
       "    .dataframe tbody tr th {\n",
       "        vertical-align: top;\n",
       "    }\n",
       "\n",
       "    .dataframe thead th {\n",
       "        text-align: right;\n",
       "    }\n",
       "</style>\n",
       "<table border=\"1\" class=\"dataframe\">\n",
       "  <thead>\n",
       "    <tr style=\"text-align: right;\">\n",
       "      <th></th>\n",
       "      <th>Date</th>\n",
       "      <th>Total Rainfall Mm</th>\n",
       "      <th>Mean Air Temperature in Celsius</th>\n",
       "      <th>Mean Vapour Pressure Hpa</th>\n",
       "      <th>Mean Wind Speed M/Sec</th>\n",
       "      <th>Days Of Wind Gust &gt;= 24 Knots in Day</th>\n",
       "      <th>Standard Deviation Of Daily Mean Temperature in Celsius</th>\n",
       "      <th>Year</th>\n",
       "      <th>Month</th>\n",
       "      <th>Selected business demand (GWh)</th>\n",
       "      <th>Est. Total consumption (GWh)</th>\n",
       "      <th>Export prices</th>\n",
       "      <th>Export volumes</th>\n",
       "      <th>Import prices</th>\n",
       "      <th>Import volumes</th>\n",
       "      <th>Population</th>\n",
       "    </tr>\n",
       "  </thead>\n",
       "  <tbody>\n",
       "    <tr>\n",
       "      <th>0</th>\n",
       "      <td>2010-01-01</td>\n",
       "      <td>67.866667</td>\n",
       "      <td>17.233333</td>\n",
       "      <td>15.766667</td>\n",
       "      <td>5.766667</td>\n",
       "      <td>18.333333</td>\n",
       "      <td>2.533333</td>\n",
       "      <td>2010.0</td>\n",
       "      <td>1.0</td>\n",
       "      <td>246.968</td>\n",
       "      <td>158.147</td>\n",
       "      <td>1072</td>\n",
       "      <td>1160</td>\n",
       "      <td>904</td>\n",
       "      <td>1360</td>\n",
       "      <td>299300.0</td>\n",
       "    </tr>\n",
       "    <tr>\n",
       "      <th>1</th>\n",
       "      <td>2010-02-01</td>\n",
       "      <td>71.333333</td>\n",
       "      <td>18.733333</td>\n",
       "      <td>17.800000</td>\n",
       "      <td>4.833333</td>\n",
       "      <td>7.500000</td>\n",
       "      <td>1.766667</td>\n",
       "      <td>2010.0</td>\n",
       "      <td>2.0</td>\n",
       "      <td>240.083</td>\n",
       "      <td>144.080</td>\n",
       "      <td>1072</td>\n",
       "      <td>1160</td>\n",
       "      <td>904</td>\n",
       "      <td>1360</td>\n",
       "      <td>299300.0</td>\n",
       "    </tr>\n",
       "    <tr>\n",
       "      <th>2</th>\n",
       "      <td>2010-03-01</td>\n",
       "      <td>46.000000</td>\n",
       "      <td>16.633333</td>\n",
       "      <td>14.366667</td>\n",
       "      <td>5.766667</td>\n",
       "      <td>22.666667</td>\n",
       "      <td>2.166667</td>\n",
       "      <td>2010.0</td>\n",
       "      <td>3.0</td>\n",
       "      <td>274.398</td>\n",
       "      <td>163.344</td>\n",
       "      <td>1072</td>\n",
       "      <td>1160</td>\n",
       "      <td>904</td>\n",
       "      <td>1360</td>\n",
       "      <td>299300.0</td>\n",
       "    </tr>\n",
       "    <tr>\n",
       "      <th>3</th>\n",
       "      <td>2010-04-01</td>\n",
       "      <td>41.733333</td>\n",
       "      <td>14.966667</td>\n",
       "      <td>13.966667</td>\n",
       "      <td>5.433333</td>\n",
       "      <td>17.666667</td>\n",
       "      <td>2.166667</td>\n",
       "      <td>2010.0</td>\n",
       "      <td>4.0</td>\n",
       "      <td>254.165</td>\n",
       "      <td>174.786</td>\n",
       "      <td>1112</td>\n",
       "      <td>1264</td>\n",
       "      <td>920</td>\n",
       "      <td>1476</td>\n",
       "      <td>299300.0</td>\n",
       "    </tr>\n",
       "    <tr>\n",
       "      <th>4</th>\n",
       "      <td>2010-05-01</td>\n",
       "      <td>149.600000</td>\n",
       "      <td>12.500000</td>\n",
       "      <td>12.500000</td>\n",
       "      <td>4.733333</td>\n",
       "      <td>14.500000</td>\n",
       "      <td>2.000000</td>\n",
       "      <td>2010.0</td>\n",
       "      <td>5.0</td>\n",
       "      <td>270.760</td>\n",
       "      <td>209.621</td>\n",
       "      <td>1112</td>\n",
       "      <td>1264</td>\n",
       "      <td>920</td>\n",
       "      <td>1476</td>\n",
       "      <td>299300.0</td>\n",
       "    </tr>\n",
       "    <tr>\n",
       "      <th>...</th>\n",
       "      <td>...</td>\n",
       "      <td>...</td>\n",
       "      <td>...</td>\n",
       "      <td>...</td>\n",
       "      <td>...</td>\n",
       "      <td>...</td>\n",
       "      <td>...</td>\n",
       "      <td>...</td>\n",
       "      <td>...</td>\n",
       "      <td>...</td>\n",
       "      <td>...</td>\n",
       "      <td>...</td>\n",
       "      <td>...</td>\n",
       "      <td>...</td>\n",
       "      <td>...</td>\n",
       "      <td>...</td>\n",
       "    </tr>\n",
       "    <tr>\n",
       "      <th>169</th>\n",
       "      <td>2024-02-01</td>\n",
       "      <td>45.133333</td>\n",
       "      <td>17.966667</td>\n",
       "      <td>15.400000</td>\n",
       "      <td>5.866667</td>\n",
       "      <td>19.000000</td>\n",
       "      <td>2.033333</td>\n",
       "      <td>2024.0</td>\n",
       "      <td>2.0</td>\n",
       "      <td>247.053</td>\n",
       "      <td>148.392</td>\n",
       "      <td>1362</td>\n",
       "      <td>1465</td>\n",
       "      <td>998</td>\n",
       "      <td>2381</td>\n",
       "      <td>358500.0</td>\n",
       "    </tr>\n",
       "    <tr>\n",
       "      <th>170</th>\n",
       "      <td>2024-03-01</td>\n",
       "      <td>61.866667</td>\n",
       "      <td>15.600000</td>\n",
       "      <td>13.333333</td>\n",
       "      <td>5.833333</td>\n",
       "      <td>22.333333</td>\n",
       "      <td>2.366667</td>\n",
       "      <td>2024.0</td>\n",
       "      <td>3.0</td>\n",
       "      <td>253.768</td>\n",
       "      <td>169.994</td>\n",
       "      <td>1362</td>\n",
       "      <td>1465</td>\n",
       "      <td>998</td>\n",
       "      <td>2381</td>\n",
       "      <td>358500.0</td>\n",
       "    </tr>\n",
       "    <tr>\n",
       "      <th>171</th>\n",
       "      <td>2024-04-01</td>\n",
       "      <td>117.100000</td>\n",
       "      <td>14.533333</td>\n",
       "      <td>13.333333</td>\n",
       "      <td>4.733333</td>\n",
       "      <td>12.000000</td>\n",
       "      <td>2.200000</td>\n",
       "      <td>2024.0</td>\n",
       "      <td>4.0</td>\n",
       "      <td>243.587</td>\n",
       "      <td>184.402</td>\n",
       "      <td>1433</td>\n",
       "      <td>1584</td>\n",
       "      <td>1029</td>\n",
       "      <td>2414</td>\n",
       "      <td>358500.0</td>\n",
       "    </tr>\n",
       "    <tr>\n",
       "      <th>172</th>\n",
       "      <td>2024-05-01</td>\n",
       "      <td>78.700000</td>\n",
       "      <td>10.800000</td>\n",
       "      <td>10.733333</td>\n",
       "      <td>4.600000</td>\n",
       "      <td>16.666667</td>\n",
       "      <td>1.900000</td>\n",
       "      <td>2024.0</td>\n",
       "      <td>5.0</td>\n",
       "      <td>262.416</td>\n",
       "      <td>246.995</td>\n",
       "      <td>1433</td>\n",
       "      <td>1584</td>\n",
       "      <td>1029</td>\n",
       "      <td>2414</td>\n",
       "      <td>358500.0</td>\n",
       "    </tr>\n",
       "    <tr>\n",
       "      <th>173</th>\n",
       "      <td>2024-06-01</td>\n",
       "      <td>73.933333</td>\n",
       "      <td>11.000000</td>\n",
       "      <td>10.866667</td>\n",
       "      <td>4.400000</td>\n",
       "      <td>13.333333</td>\n",
       "      <td>1.666667</td>\n",
       "      <td>2024.0</td>\n",
       "      <td>6.0</td>\n",
       "      <td>240.388</td>\n",
       "      <td>249.659</td>\n",
       "      <td>1433</td>\n",
       "      <td>1584</td>\n",
       "      <td>1029</td>\n",
       "      <td>2414</td>\n",
       "      <td>358500.0</td>\n",
       "    </tr>\n",
       "  </tbody>\n",
       "</table>\n",
       "<p>174 rows × 16 columns</p>\n",
       "</div>"
      ]
     },
     "execution_count": 5,
     "metadata": {},
     "output_type": "execute_result"
    }
   ],
   "execution_count": 5
  },
  {
   "metadata": {
    "ExecuteTime": {
     "end_time": "2024-09-25T09:57:39.046874Z",
     "start_time": "2024-09-25T09:57:39.043606Z"
    }
   },
   "cell_type": "code",
   "source": [
    "# read immigration data\n",
    "# immigration = pd.read_csv(\"../immigrationData/immigration_population_type.csv\")\n",
    "# immigration['Date'] = pd.to_datetime(immigration['Date'], format='%Y-%m-%d')\n",
    "# immigration['Date'] = immigration['Date'] - pd.offsets.MonthEnd(1) + pd.offsets.Day(1)\n",
    "# electricity_consumption['Date'] = pd.to_datetime(electricity_consumption['Date'], format='%Y-%m-%d')\n",
    "# electricity_consumption = electricity_consumption.merge(immigration, on='Date', how='left')\n"
   ],
   "id": "276fdc412ce89264",
   "outputs": [],
   "execution_count": 6
  },
  {
   "metadata": {
    "ExecuteTime": {
     "end_time": "2024-09-25T09:57:39.118145Z",
     "start_time": "2024-09-25T09:57:39.108379Z"
    }
   },
   "cell_type": "code",
   "source": [
    "# Convert dataframe to Timeseries\n",
    "ts = TimeSeries.from_dataframe(electricity_consumption, time_col=\"Date\" )"
   ],
   "id": "d3f68880a921731d",
   "outputs": [],
   "execution_count": 7
  },
  {
   "metadata": {
    "ExecuteTime": {
     "end_time": "2024-09-25T09:57:39.264867Z",
     "start_time": "2024-09-25T09:57:39.259004Z"
    }
   },
   "cell_type": "code",
   "source": [
    "# training and validation split\n",
    "train, val = ts.split_before(pd.Timestamp('2021-01-01'))"
   ],
   "id": "204dba317234b680",
   "outputs": [],
   "execution_count": 8
  },
  {
   "metadata": {},
   "cell_type": "markdown",
   "source": "## Preprocessing",
   "id": "235356ad51cd280"
  },
  {
   "metadata": {
    "ExecuteTime": {
     "end_time": "2024-09-25T10:10:05.530737Z",
     "start_time": "2024-09-25T10:10:05.238141Z"
    }
   },
   "cell_type": "code",
   "source": [
    "%load_ext autoreload\n",
    "%autoreload 2\n",
    "%matplotlib inline\n",
    "\n",
    "import torch\n",
    "import torch.nn as nn\n",
    "import torch.optim as optim\n",
    "import shutil\n",
    "from sklearn.preprocessing import MinMaxScaler\n",
    "\n",
    "from darts.dataprocessing.transformers import Scaler\n",
    "from darts.models import RNNModel, ExponentialSmoothing, BlockRNNModel\n",
    "from darts.metrics import mape, mae, rmse\n",
    "from darts.utils.statistics import check_seasonality, plot_acf\n",
    "from darts.datasets import AirPassengersDataset, SunspotsDataset\n",
    "from darts.utils.timeseries_generation import datetime_attribute_timeseries\n",
    "\n",
    "scaler = MinMaxScaler(feature_range=(0, 1))\n",
    "transformer = Scaler(scaler)\n",
    "transformer_target = Scaler(scaler)\n",
    "\n",
    "train_target_og = train['Est. Total consumption (GWh)']\n",
    "val_target_og = val['Est. Total consumption (GWh)']\n",
    "train_target = transformer_target.fit_transform(train_target_og)\n",
    "val_target = transformer_target.transform(val_target_og)\n",
    "\n",
    "train_transformed = transformer.fit_transform(train)\n",
    "val_transformed = transformer.transform(val)\n",
    "series_transformed = transformer.transform(ts)\n",
    "\n",
    "#split past covariates\n",
    "train_past_cov = train_transformed[[ 'Mean Air Temperature in Celsius', 'Mean Vapour Pressure Hpa', 'Mean Wind Speed M/Sec']]\n",
    "val_past_cov = val_transformed[['Days Of Wind Gust >= 24 Knots in Day', 'Mean Air Temperature in Celsius', 'Mean Vapour Pressure Hpa']]\n",
    "\n",
    "# replace missing value with the mean of column\n",
    "train_past_cov = train_past_cov.pd_dataframe()\n",
    "train_past_cov = train_past_cov.apply(lambda col: col.fillna(col.mean()))\n",
    "train_past_cov = TimeSeries.from_dataframe(train_past_cov)\n",
    "\n"
   ],
   "id": "40e03bb1e6205fb1",
   "outputs": [
    {
     "name": "stdout",
     "output_type": "stream",
     "text": [
      "The autoreload extension is already loaded. To reload it, use:\n",
      "  %reload_ext autoreload\n"
     ]
    }
   ],
   "execution_count": 36
  },
  {
   "metadata": {
    "ExecuteTime": {
     "end_time": "2024-09-25T10:10:07.636925Z",
     "start_time": "2024-09-25T10:10:07.366183Z"
    }
   },
   "cell_type": "code",
   "source": [
    "series_transformed = series_transformed.pd_dataframe()\n",
    "series_transformed = series_transformed.apply(lambda col: col.fillna(col.mean()))\n",
    "series_transformed = TimeSeries.from_dataframe(series_transformed)"
   ],
   "id": "c403e8e90f1c42e",
   "outputs": [],
   "execution_count": 37
  },
  {
   "metadata": {},
   "cell_type": "markdown",
   "source": "## Model training and testing",
   "id": "87761b9305d8ab55"
  },
  {
   "metadata": {
    "ExecuteTime": {
     "end_time": "2024-09-25T09:57:44.553857Z",
     "start_time": "2024-09-25T09:57:44.292594Z"
    }
   },
   "cell_type": "code",
   "source": [
    "import warnings\n",
    "\n",
    "warnings.filterwarnings(\"ignore\")\n",
    "import logging\n",
    "\n",
    "logging.disable(logging.CRITICAL)"
   ],
   "id": "1528a04b5624a049",
   "outputs": [],
   "execution_count": 11
  },
  {
   "metadata": {
    "ExecuteTime": {
     "end_time": "2024-09-25T10:10:17.748559Z",
     "start_time": "2024-09-25T10:10:09.938051Z"
    }
   },
   "cell_type": "code",
   "source": [
    "# with past covariates\n",
    "model_gru = BlockRNNModel(\n",
    "    model=\"GRU\",\n",
    "    n_rnn_layers=3,\n",
    "    hidden_dim=100,\n",
    "    n_epochs=150,\n",
    "    optimizer_kwargs={\"lr\": 1e-2},\n",
    "    model_name=\"Electricity_GRU_with_past_cov_LNI\",\n",
    "    log_tensorboard=False,\n",
    "    input_chunk_length=66,\n",
    "    save_checkpoints=True,\n",
    "    force_reset = True,\n",
    "    output_chunk_length=42,\n",
    "    random_state=5\n",
    ")\n",
    "\n",
    "model_gru.fit(train_target,\n",
    "   past_covariates = train_past_cov,\n",
    "    verbose=False)"
   ],
   "id": "ccb125c9ead22f48",
   "outputs": [
    {
     "data": {
      "text/plain": [
       "BlockRNNModel(output_chunk_shift=0, model=GRU, hidden_dim=100, n_rnn_layers=3, hidden_fc_sizes=None, dropout=0.0, n_epochs=150, optimizer_kwargs={'lr': 0.01}, model_name=Electricity_GRU_with_past_cov_LNI, log_tensorboard=False, input_chunk_length=66, save_checkpoints=True, force_reset=True, output_chunk_length=42, random_state=5)"
      ]
     },
     "execution_count": 38,
     "metadata": {},
     "output_type": "execute_result"
    }
   ],
   "execution_count": 38
  },
  {
   "metadata": {
    "ExecuteTime": {
     "end_time": "2024-09-25T10:10:26.204419Z",
     "start_time": "2024-09-25T10:10:18.874284Z"
    }
   },
   "cell_type": "code",
   "source": [
    "# without past covariates\n",
    "model_gru_no_past_cov = BlockRNNModel(\n",
    "    model=\"GRU\",\n",
    "    n_rnn_layers=3,\n",
    "    hidden_dim=100,\n",
    "    n_epochs=150,\n",
    "    optimizer_kwargs={\"lr\": 1e-2},\n",
    "    model_name=\"Electricity_GRU_LNI\",\n",
    "    log_tensorboard=True,\n",
    "    input_chunk_length=66,\n",
    "    save_checkpoints=True,\n",
    "    force_reset = True,\n",
    "    output_chunk_length=42,\n",
    "    random_state=5\n",
    ")\n",
    "\n",
    "# with past covariates\n",
    "model_gru_no_past_cov.fit(train_target,\n",
    "    verbose=False)"
   ],
   "id": "3f5a72501b85061b",
   "outputs": [
    {
     "data": {
      "text/plain": [
       "BlockRNNModel(output_chunk_shift=0, model=GRU, hidden_dim=100, n_rnn_layers=3, hidden_fc_sizes=None, dropout=0.0, n_epochs=150, optimizer_kwargs={'lr': 0.01}, model_name=Electricity_GRU_LNI, log_tensorboard=True, input_chunk_length=66, save_checkpoints=True, force_reset=True, output_chunk_length=42, random_state=5)"
      ]
     },
     "execution_count": 39,
     "metadata": {},
     "output_type": "execute_result"
    }
   ],
   "execution_count": 39
  },
  {
   "metadata": {
    "ExecuteTime": {
     "end_time": "2024-09-25T10:10:28.791826Z",
     "start_time": "2024-09-25T10:10:27.454706Z"
    }
   },
   "cell_type": "code",
   "source": [
    "def eval_model(model):\n",
    "    pred_series = model.predict(n=42)\n",
    "    plt.figure(figsize=(8, 5))\n",
    "    pred_series_reversed = transformer_target.inverse_transform(pred_series)\n",
    "    ts['Est. Total consumption (GWh)'].plot(label=\"actual\")\n",
    "    pred_series_reversed['Est. Total consumption (GWh)'].plot(label=\"forecast\")\n",
    "    if model.model_name.find(\"past_cov\") != -1:\n",
    "        plt.title(\"Model with past covariates: RMSE: {:.2f}, MAE: {:.2f}, MAPE: {:.2f}\".format(rmse(val_target_og, pred_series_reversed), mae(val_target_og, pred_series_reversed), mape(val_target_og, pred_series_reversed)))\n",
    "        plt.legend()\n",
    "        return pred_series\n",
    "    else:\n",
    "        plt.title(\"Model without past covariates: RMSE: {:.2f}, MAE: {:.2f}, MAPE: {:.2f}\".format(rmse(val_target_og, pred_series_reversed), mae(val_target_og, pred_series_reversed), mape(val_target_og, pred_series_reversed)))\n",
    "        plt.legend()\n",
    "        return pred_series\n",
    "\n",
    "pred_series_transformed = eval_model(model_gru)\n",
    "pred_series_transformed_no_past_cov = eval_model(model_gru_no_past_cov)"
   ],
   "id": "a58d568b479c0c98",
   "outputs": [
    {
     "data": {
      "text/plain": [
       "Predicting: |          | 0/? [00:00<?, ?it/s]"
      ],
      "application/vnd.jupyter.widget-view+json": {
       "version_major": 2,
       "version_minor": 0,
       "model_id": "6c93f0be89204ce4a8ef93b9a19ac650"
      }
     },
     "metadata": {},
     "output_type": "display_data"
    },
    {
     "data": {
      "text/plain": [
       "Predicting: |          | 0/? [00:00<?, ?it/s]"
      ],
      "application/vnd.jupyter.widget-view+json": {
       "version_major": 2,
       "version_minor": 0,
       "model_id": "23b8dbd8645743aaa12a7f926fdf123f"
      }
     },
     "metadata": {},
     "output_type": "display_data"
    },
    {
     "data": {
      "text/plain": [
       "<Figure size 800x500 with 1 Axes>"
      ],
      "image/png": "[encoded data removed]"
     },
     "metadata": {},
     "output_type": "display_data"
    },
    {
     "data": {
      "text/plain": [
       "<Figure size 800x500 with 1 Axes>"
      ],
      "image/png": "[encoded data removed]"
     },
     "metadata": {},
     "output_type": "display_data"
    }
   ],
   "execution_count": 40
  },
  {
   "metadata": {},
   "cell_type": "markdown",
   "source": "## Backtesting using 3 month forecast horizon",
   "id": "5a7a5a08d242f1d"
  },
  {
   "metadata": {
    "ExecuteTime": {
     "end_time": "2024-09-12T02:54:36.659878Z",
     "start_time": "2024-09-12T02:54:36.393281Z"
    }
   },
   "cell_type": "code",
   "source": [
    "model_gru_backtest = BlockRNNModel(\n",
    "    model=\"GRU\",\n",
    "    n_rnn_layers=3,\n",
    "    hidden_dim=100,\n",
    "    n_epochs=150,\n",
    "    optimizer_kwargs={\"lr\": 1e-2},\n",
    "    model_name=\"Electricity_GRU\",\n",
    "    log_tensorboard=True,\n",
    "    input_chunk_length=66,\n",
    "    save_checkpoints=True,\n",
    "    force_reset = True,\n",
    "    output_chunk_length=3,\n",
    "    random_state=5\n",
    ")"
   ],
   "id": "b230f8df18695637",
   "outputs": [],
   "execution_count": 51
  },
  {
   "metadata": {
    "ExecuteTime": {
     "end_time": "2024-09-12T03:12:11.231769Z",
     "start_time": "2024-09-12T02:54:38.588209Z"
    }
   },
   "cell_type": "code",
   "source": [
    "# without past covariates\n",
    "backtest_series = model_gru_backtest.historical_forecasts(\n",
    "    series_transformed['Est. Total consumption (GWh)'],\n",
    "    start=pd.Timestamp(\"20180101\"),\n",
    "    forecast_horizon=3,\n",
    "    retrain=True,\n",
    "    verbose=False,\n",
    ")\n",
    "\n",
    "backtest_series_reversed = transformer_target.inverse_transform(backtest_series)\n",
    "\n",
    "plt.figure(figsize=(8, 5))\n",
    "ts['Est. Total consumption (GWh)'].plot(label=\"actual\")\n",
    "backtest_series_reversed.plot(label=\"backtest\")\n",
    "plt.legend()\n",
    "plt.title(\"Backtest, starting Jan 2018, 3-months horizon, no past covariates\")\n",
    "print(\n",
    "    \"MAPE: {:.2f}%, RMSE: {:.2f}\".format(\n",
    "        mape(\n",
    "            ts['Est. Total consumption (GWh)'],\n",
    "            backtest_series_reversed,\n",
    "        ),\n",
    "        rmse(\n",
    "            ts['Est. Total consumption (GWh)'],\n",
    "            backtest_series_reversed,\n",
    "        )\n",
    "    )\n",
    ")"
   ],
   "id": "88c16bedc33a48ca",
   "outputs": [
    {
     "data": {
      "text/plain": [
       "Training: |          | 0/? [00:00<?, ?it/s]"
      ],
      "application/vnd.jupyter.widget-view+json": {
       "version_major": 2,
       "version_minor": 0,
       "model_id": "3af8744c002a425c82b803db572423f6"
      }
     },
     "metadata": {},
     "output_type": "display_data"
    },
    {
     "data": {
      "text/plain": [
       "Training: |          | 0/? [00:00<?, ?it/s]"
      ],
      "application/vnd.jupyter.widget-view+json": {
       "version_major": 2,
       "version_minor": 0,
       "model_id": "c8722e6f2e474911b16d9a3f5159be9e"
      }
     },
     "metadata": {},
     "output_type": "display_data"
    },
    {
     "data": {
      "text/plain": [
       "Training: |          | 0/? [00:00<?, ?it/s]"
      ],
      "application/vnd.jupyter.widget-view+json": {
       "version_major": 2,
       "version_minor": 0,
       "model_id": "b47ac0c74ee5474ba74f1f51ea91ed8a"
      }
     },
     "metadata": {},
     "output_type": "display_data"
    },
    {
     "data": {
      "text/plain": [
       "Training: |          | 0/? [00:00<?, ?it/s]"
      ],
      "application/vnd.jupyter.widget-view+json": {
       "version_major": 2,
       "version_minor": 0,
       "model_id": "61b8db210259497fbe7b5c51ab9fa369"
      }
     },
     "metadata": {},
     "output_type": "display_data"
    },
    {
     "data": {
      "text/plain": [
       "Training: |          | 0/? [00:00<?, ?it/s]"
      ],
      "application/vnd.jupyter.widget-view+json": {
       "version_major": 2,
       "version_minor": 0,
       "model_id": "f5c4a8be955b452fbac74f548ca71d40"
      }
     },
     "metadata": {},
     "output_type": "display_data"
    },
    {
     "data": {
      "text/plain": [
       "Training: |          | 0/? [00:00<?, ?it/s]"
      ],
      "application/vnd.jupyter.widget-view+json": {
       "version_major": 2,
       "version_minor": 0,
       "model_id": "4ad7a6fc29a946c18723ed89e2b9ab3c"
      }
     },
     "metadata": {},
     "output_type": "display_data"
    },
    {
     "data": {
      "text/plain": [
       "Training: |          | 0/? [00:00<?, ?it/s]"
      ],
      "application/vnd.jupyter.widget-view+json": {
       "version_major": 2,
       "version_minor": 0,
       "model_id": "1aee42d25b0142bfb34a17843983b581"
      }
     },
     "metadata": {},
     "output_type": "display_data"
    },
    {
     "data": {
      "text/plain": [
       "Training: |          | 0/? [00:00<?, ?it/s]"
      ],
      "application/vnd.jupyter.widget-view+json": {
       "version_major": 2,
       "version_minor": 0,
       "model_id": "303431b2de7249d59eb0e9c062067096"
      }
     },
     "metadata": {},
     "output_type": "display_data"
    },
    {
     "data": {
      "text/plain": [
       "Training: |          | 0/? [00:00<?, ?it/s]"
      ],
      "application/vnd.jupyter.widget-view+json": {
       "version_major": 2,
       "version_minor": 0,
       "model_id": "65daf3019b2a48b7a7e896649de8cdea"
      }
     },
     "metadata": {},
     "output_type": "display_data"
    },
    {
     "data": {
      "text/plain": [
       "Training: |          | 0/? [00:00<?, ?it/s]"
      ],
      "application/vnd.jupyter.widget-view+json": {
       "version_major": 2,
       "version_minor": 0,
       "model_id": "1c20a324d81943a0bdc983ec004a1a97"
      }
     },
     "metadata": {},
     "output_type": "display_data"
    },
    {
     "data": {
      "text/plain": [
       "Training: |          | 0/? [00:00<?, ?it/s]"
      ],
      "application/vnd.jupyter.widget-view+json": {
       "version_major": 2,
       "version_minor": 0,
       "model_id": "fcdca6a66a4c4db5834d7316eea6b63e"
      }
     },
     "metadata": {},
     "output_type": "display_data"
    },
    {
     "data": {
      "text/plain": [
       "Training: |          | 0/? [00:00<?, ?it/s]"
      ],
      "application/vnd.jupyter.widget-view+json": {
       "version_major": 2,
       "version_minor": 0,
       "model_id": "3aca69ff2ee74cefac8441f8c7732253"
      }
     },
     "metadata": {},
     "output_type": "display_data"
    },
    {
     "data": {
      "text/plain": [
       "Training: |          | 0/? [00:00<?, ?it/s]"
      ],
      "application/vnd.jupyter.widget-view+json": {
       "version_major": 2,
       "version_minor": 0,
       "model_id": "7a03ef3fc4e9498da38bab57854eb403"
      }
     },
     "metadata": {},
     "output_type": "display_data"
    },
    {
     "data": {
      "text/plain": [
       "Training: |          | 0/? [00:00<?, ?it/s]"
      ],
      "application/vnd.jupyter.widget-view+json": {
       "version_major": 2,
       "version_minor": 0,
       "model_id": "f841fc31c4184df0924a2381a72d31a9"
      }
     },
     "metadata": {},
     "output_type": "display_data"
    },
    {
     "data": {
      "text/plain": [
       "Training: |          | 0/? [00:00<?, ?it/s]"
      ],
      "application/vnd.jupyter.widget-view+json": {
       "version_major": 2,
       "version_minor": 0,
       "model_id": "d64662f9d4ee4cb3aa0cfe8ab8931003"
      }
     },
     "metadata": {},
     "output_type": "display_data"
    },
    {
     "data": {
      "text/plain": [
       "Training: |          | 0/? [00:00<?, ?it/s]"
      ],
      "application/vnd.jupyter.widget-view+json": {
       "version_major": 2,
       "version_minor": 0,
       "model_id": "3f6a5be46eb642c3a6654eb857a72f5a"
      }
     },
     "metadata": {},
     "output_type": "display_data"
    },
    {
     "data": {
      "text/plain": [
       "Training: |          | 0/? [00:00<?, ?it/s]"
      ],
      "application/vnd.jupyter.widget-view+json": {
       "version_major": 2,
       "version_minor": 0,
       "model_id": "89601f0540834d4fb83b45ba21403f21"
      }
     },
     "metadata": {},
     "output_type": "display_data"
    },
    {
     "data": {
      "text/plain": [
       "Training: |          | 0/? [00:00<?, ?it/s]"
      ],
      "application/vnd.jupyter.widget-view+json": {
       "version_major": 2,
       "version_minor": 0,
       "model_id": "445b6a291f434dee90edfd913b7b76f2"
      }
     },
     "metadata": {},
     "output_type": "display_data"
    },
    {
     "data": {
      "text/plain": [
       "Training: |          | 0/? [00:00<?, ?it/s]"
      ],
      "application/vnd.jupyter.widget-view+json": {
       "version_major": 2,
       "version_minor": 0,
       "model_id": "433001029c2540f48a1ad8b9b4b34aff"
      }
     },
     "metadata": {},
     "output_type": "display_data"
    },
    {
     "data": {
      "text/plain": [
       "Training: |          | 0/? [00:00<?, ?it/s]"
      ],
      "application/vnd.jupyter.widget-view+json": {
       "version_major": 2,
       "version_minor": 0,
       "model_id": "eea16f261808496a83dc4423e5c102fb"
      }
     },
     "metadata": {},
     "output_type": "display_data"
    },
    {
     "data": {
      "text/plain": [
       "Training: |          | 0/? [00:00<?, ?it/s]"
      ],
      "application/vnd.jupyter.widget-view+json": {
       "version_major": 2,
       "version_minor": 0,
       "model_id": "ea3a4948670045d0914b96d13d4e9e09"
      }
     },
     "metadata": {},
     "output_type": "display_data"
    },
    {
     "data": {
      "text/plain": [
       "Training: |          | 0/? [00:00<?, ?it/s]"
      ],
      "application/vnd.jupyter.widget-view+json": {
       "version_major": 2,
       "version_minor": 0,
       "model_id": "e37c69102aee46b280d31a8fe9128372"
      }
     },
     "metadata": {},
     "output_type": "display_data"
    },
    {
     "data": {
      "text/plain": [
       "Training: |          | 0/? [00:00<?, ?it/s]"
      ],
      "application/vnd.jupyter.widget-view+json": {
       "version_major": 2,
       "version_minor": 0,
       "model_id": "2578f674828f479688256101d51e4d3f"
      }
     },
     "metadata": {},
     "output_type": "display_data"
    },
    {
     "data": {
      "text/plain": [
       "Training: |          | 0/? [00:00<?, ?it/s]"
      ],
      "application/vnd.jupyter.widget-view+json": {
       "version_major": 2,
       "version_minor": 0,
       "model_id": "9ef3546e553f4d37bf13db1112a401cc"
      }
     },
     "metadata": {},
     "output_type": "display_data"
    },
    {
     "data": {
      "text/plain": [
       "Training: |          | 0/? [00:00<?, ?it/s]"
      ],
      "application/vnd.jupyter.widget-view+json": {
       "version_major": 2,
       "version_minor": 0,
       "model_id": "759e9f0867844af48179a5045b733e19"
      }
     },
     "metadata": {},
     "output_type": "display_data"
    },
    {
     "data": {
      "text/plain": [
       "Training: |          | 0/? [00:00<?, ?it/s]"
      ],
      "application/vnd.jupyter.widget-view+json": {
       "version_major": 2,
       "version_minor": 0,
       "model_id": "c0bf616f08ce40cd82719ae05863fe1e"
      }
     },
     "metadata": {},
     "output_type": "display_data"
    },
    {
     "data": {
      "text/plain": [
       "Training: |          | 0/? [00:00<?, ?it/s]"
      ],
      "application/vnd.jupyter.widget-view+json": {
       "version_major": 2,
       "version_minor": 0,
       "model_id": "c919a84d527e4523a6e36b755dd29cf6"
      }
     },
     "metadata": {},
     "output_type": "display_data"
    },
    {
     "data": {
      "text/plain": [
       "Training: |          | 0/? [00:00<?, ?it/s]"
      ],
      "application/vnd.jupyter.widget-view+json": {
       "version_major": 2,
       "version_minor": 0,
       "model_id": "a18e55234ec44a429b3a45c565cff9fb"
      }
     },
     "metadata": {},
     "output_type": "display_data"
    },
    {
     "data": {
      "text/plain": [
       "Training: |          | 0/? [00:00<?, ?it/s]"
      ],
      "application/vnd.jupyter.widget-view+json": {
       "version_major": 2,
       "version_minor": 0,
       "model_id": "67fe4a4719b941b094809ea65723a14f"
      }
     },
     "metadata": {},
     "output_type": "display_data"
    },
    {
     "data": {
      "text/plain": [
       "Training: |          | 0/? [00:00<?, ?it/s]"
      ],
      "application/vnd.jupyter.widget-view+json": {
       "version_major": 2,
       "version_minor": 0,
       "model_id": "71417672597c48c9ba4bcf9268a39b4d"
      }
     },
     "metadata": {},
     "output_type": "display_data"
    },
    {
     "data": {
      "text/plain": [
       "Training: |          | 0/? [00:00<?, ?it/s]"
      ],
      "application/vnd.jupyter.widget-view+json": {
       "version_major": 2,
       "version_minor": 0,
       "model_id": "53c79cc571af4d4c84865e2d07a3e94a"
      }
     },
     "metadata": {},
     "output_type": "display_data"
    },
    {
     "data": {
      "text/plain": [
       "Training: |          | 0/? [00:00<?, ?it/s]"
      ],
      "application/vnd.jupyter.widget-view+json": {
       "version_major": 2,
       "version_minor": 0,
       "model_id": "bba45f8ea6b94499a10e77de9d43b0ce"
      }
     },
     "metadata": {},
     "output_type": "display_data"
    },
    {
     "data": {
      "text/plain": [
       "Training: |          | 0/? [00:00<?, ?it/s]"
      ],
      "application/vnd.jupyter.widget-view+json": {
       "version_major": 2,
       "version_minor": 0,
       "model_id": "e76a81d6c6af4386a77fdfb525568a15"
      }
     },
     "metadata": {},
     "output_type": "display_data"
    },
    {
     "data": {
      "text/plain": [
       "Training: |          | 0/? [00:00<?, ?it/s]"
      ],
      "application/vnd.jupyter.widget-view+json": {
       "version_major": 2,
       "version_minor": 0,
       "model_id": "52d0d9d5a32848bc94c677b3eff01b97"
      }
     },
     "metadata": {},
     "output_type": "display_data"
    },
    {
     "data": {
      "text/plain": [
       "Training: |          | 0/? [00:00<?, ?it/s]"
      ],
      "application/vnd.jupyter.widget-view+json": {
       "version_major": 2,
       "version_minor": 0,
       "model_id": "0bc1797818b4409eb25747219f72086f"
      }
     },
     "metadata": {},
     "output_type": "display_data"
    },
    {
     "data": {
      "text/plain": [
       "Training: |          | 0/? [00:00<?, ?it/s]"
      ],
      "application/vnd.jupyter.widget-view+json": {
       "version_major": 2,
       "version_minor": 0,
       "model_id": "8dee99b32bc9455abc143c9e4efe4ff3"
      }
     },
     "metadata": {},
     "output_type": "display_data"
    },
    {
     "data": {
      "text/plain": [
       "Training: |          | 0/? [00:00<?, ?it/s]"
      ],
      "application/vnd.jupyter.widget-view+json": {
       "version_major": 2,
       "version_minor": 0,
       "model_id": "7d38bdd8855b4d1cb56d39e639d49e46"
      }
     },
     "metadata": {},
     "output_type": "display_data"
    },
    {
     "data": {
      "text/plain": [
       "Training: |          | 0/? [00:00<?, ?it/s]"
      ],
      "application/vnd.jupyter.widget-view+json": {
       "version_major": 2,
       "version_minor": 0,
       "model_id": "9f5258d01c9b4e5caa335ea7b77e7642"
      }
     },
     "metadata": {},
     "output_type": "display_data"
    },
    {
     "data": {
      "text/plain": [
       "Training: |          | 0/? [00:00<?, ?it/s]"
      ],
      "application/vnd.jupyter.widget-view+json": {
       "version_major": 2,
       "version_minor": 0,
       "model_id": "2563452df97443a584774b477be87321"
      }
     },
     "metadata": {},
     "output_type": "display_data"
    },
    {
     "data": {
      "text/plain": [
       "Training: |          | 0/? [00:00<?, ?it/s]"
      ],
      "application/vnd.jupyter.widget-view+json": {
       "version_major": 2,
       "version_minor": 0,
       "model_id": "c43d3e69eb1e4d0cba3195209081e43c"
      }
     },
     "metadata": {},
     "output_type": "display_data"
    },
    {
     "data": {
      "text/plain": [
       "Training: |          | 0/? [00:00<?, ?it/s]"
      ],
      "application/vnd.jupyter.widget-view+json": {
       "version_major": 2,
       "version_minor": 0,
       "model_id": "930371676a144d71ae47350a5f18712a"
      }
     },
     "metadata": {},
     "output_type": "display_data"
    },
    {
     "data": {
      "text/plain": [
       "Training: |          | 0/? [00:00<?, ?it/s]"
      ],
      "application/vnd.jupyter.widget-view+json": {
       "version_major": 2,
       "version_minor": 0,
       "model_id": "c8773783a030439a92e94c6f7347f43d"
      }
     },
     "metadata": {},
     "output_type": "display_data"
    },
    {
     "data": {
      "text/plain": [
       "Training: |          | 0/? [00:00<?, ?it/s]"
      ],
      "application/vnd.jupyter.widget-view+json": {
       "version_major": 2,
       "version_minor": 0,
       "model_id": "b5464ac22fd24533b927b8ac94fc7107"
      }
     },
     "metadata": {},
     "output_type": "display_data"
    },
    {
     "data": {
      "text/plain": [
       "Training: |          | 0/? [00:00<?, ?it/s]"
      ],
      "application/vnd.jupyter.widget-view+json": {
       "version_major": 2,
       "version_minor": 0,
       "model_id": "4423180c2ec54c2aa7ab7c3b4b5ee852"
      }
     },
     "metadata": {},
     "output_type": "display_data"
    },
    {
     "data": {
      "text/plain": [
       "Training: |          | 0/? [00:00<?, ?it/s]"
      ],
      "application/vnd.jupyter.widget-view+json": {
       "version_major": 2,
       "version_minor": 0,
       "model_id": "6580e0eb9a4840e6a59d67c2597eed8f"
      }
     },
     "metadata": {},
     "output_type": "display_data"
    },
    {
     "data": {
      "text/plain": [
       "Training: |          | 0/? [00:00<?, ?it/s]"
      ],
      "application/vnd.jupyter.widget-view+json": {
       "version_major": 2,
       "version_minor": 0,
       "model_id": "b28120d87c6c44de9fa706e079727766"
      }
     },
     "metadata": {},
     "output_type": "display_data"
    },
    {
     "data": {
      "text/plain": [
       "Training: |          | 0/? [00:00<?, ?it/s]"
      ],
      "application/vnd.jupyter.widget-view+json": {
       "version_major": 2,
       "version_minor": 0,
       "model_id": "e51acaef362e48b0843cfe5cf80f90e4"
      }
     },
     "metadata": {},
     "output_type": "display_data"
    },
    {
     "data": {
      "text/plain": [
       "Training: |          | 0/? [00:00<?, ?it/s]"
      ],
      "application/vnd.jupyter.widget-view+json": {
       "version_major": 2,
       "version_minor": 0,
       "model_id": "d0c589e637dd4d4090186243a662118c"
      }
     },
     "metadata": {},
     "output_type": "display_data"
    },
    {
     "data": {
      "text/plain": [
       "Training: |          | 0/? [00:00<?, ?it/s]"
      ],
      "application/vnd.jupyter.widget-view+json": {
       "version_major": 2,
       "version_minor": 0,
       "model_id": "c6f08cd84b7b4485978de3dcbfa775fe"
      }
     },
     "metadata": {},
     "output_type": "display_data"
    },
    {
     "data": {
      "text/plain": [
       "Training: |          | 0/? [00:00<?, ?it/s]"
      ],
      "application/vnd.jupyter.widget-view+json": {
       "version_major": 2,
       "version_minor": 0,
       "model_id": "16cadf4ba0864141b1fb3f538512502b"
      }
     },
     "metadata": {},
     "output_type": "display_data"
    },
    {
     "data": {
      "text/plain": [
       "Training: |          | 0/? [00:00<?, ?it/s]"
      ],
      "application/vnd.jupyter.widget-view+json": {
       "version_major": 2,
       "version_minor": 0,
       "model_id": "1f6a5f555f774e6188b7482a9e99d2a1"
      }
     },
     "metadata": {},
     "output_type": "display_data"
    },
    {
     "data": {
      "text/plain": [
       "Training: |          | 0/? [00:00<?, ?it/s]"
      ],
      "application/vnd.jupyter.widget-view+json": {
       "version_major": 2,
       "version_minor": 0,
       "model_id": "11e3db3a0ddf42eda5360de919287a25"
      }
     },
     "metadata": {},
     "output_type": "display_data"
    },
    {
     "data": {
      "text/plain": [
       "Training: |          | 0/? [00:00<?, ?it/s]"
      ],
      "application/vnd.jupyter.widget-view+json": {
       "version_major": 2,
       "version_minor": 0,
       "model_id": "ed475272012e4c8bb7fe38ae4468a8c5"
      }
     },
     "metadata": {},
     "output_type": "display_data"
    },
    {
     "data": {
      "text/plain": [
       "Training: |          | 0/? [00:00<?, ?it/s]"
      ],
      "application/vnd.jupyter.widget-view+json": {
       "version_major": 2,
       "version_minor": 0,
       "model_id": "b18c6fc26a9f470782d92b696a8cfc2a"
      }
     },
     "metadata": {},
     "output_type": "display_data"
    },
    {
     "data": {
      "text/plain": [
       "Training: |          | 0/? [00:00<?, ?it/s]"
      ],
      "application/vnd.jupyter.widget-view+json": {
       "version_major": 2,
       "version_minor": 0,
       "model_id": "d4c83cbfb05b47c5b181d4e3456f1a88"
      }
     },
     "metadata": {},
     "output_type": "display_data"
    },
    {
     "data": {
      "text/plain": [
       "Training: |          | 0/? [00:00<?, ?it/s]"
      ],
      "application/vnd.jupyter.widget-view+json": {
       "version_major": 2,
       "version_minor": 0,
       "model_id": "2a4ff5b431d34119a436013c7dd35882"
      }
     },
     "metadata": {},
     "output_type": "display_data"
    },
    {
     "data": {
      "text/plain": [
       "Training: |          | 0/? [00:00<?, ?it/s]"
      ],
      "application/vnd.jupyter.widget-view+json": {
       "version_major": 2,
       "version_minor": 0,
       "model_id": "147e9f5da4b8460585e5d55d9fe65cf1"
      }
     },
     "metadata": {},
     "output_type": "display_data"
    },
    {
     "data": {
      "text/plain": [
       "Training: |          | 0/? [00:00<?, ?it/s]"
      ],
      "application/vnd.jupyter.widget-view+json": {
       "version_major": 2,
       "version_minor": 0,
       "model_id": "d60c293d50ee4506afc12b546447f340"
      }
     },
     "metadata": {},
     "output_type": "display_data"
    },
    {
     "data": {
      "text/plain": [
       "Training: |          | 0/? [00:00<?, ?it/s]"
      ],
      "application/vnd.jupyter.widget-view+json": {
       "version_major": 2,
       "version_minor": 0,
       "model_id": "3c87de291ce0461b8fd485469c53e33a"
      }
     },
     "metadata": {},
     "output_type": "display_data"
    },
    {
     "data": {
      "text/plain": [
       "Training: |          | 0/? [00:00<?, ?it/s]"
      ],
      "application/vnd.jupyter.widget-view+json": {
       "version_major": 2,
       "version_minor": 0,
       "model_id": "f9fdfb821f844bccb9d1595507b950fb"
      }
     },
     "metadata": {},
     "output_type": "display_data"
    },
    {
     "data": {
      "text/plain": [
       "Training: |          | 0/? [00:00<?, ?it/s]"
      ],
      "application/vnd.jupyter.widget-view+json": {
       "version_major": 2,
       "version_minor": 0,
       "model_id": "c426c63d0f414202b8de3fd00d0e2db9"
      }
     },
     "metadata": {},
     "output_type": "display_data"
    },
    {
     "data": {
      "text/plain": [
       "Training: |          | 0/? [00:00<?, ?it/s]"
      ],
      "application/vnd.jupyter.widget-view+json": {
       "version_major": 2,
       "version_minor": 0,
       "model_id": "6b4339f554d746f2aa264a0c52a2eebc"
      }
     },
     "metadata": {},
     "output_type": "display_data"
    },
    {
     "data": {
      "text/plain": [
       "Training: |          | 0/? [00:00<?, ?it/s]"
      ],
      "application/vnd.jupyter.widget-view+json": {
       "version_major": 2,
       "version_minor": 0,
       "model_id": "ba10af2598814e43a6b1bcaab45daf3b"
      }
     },
     "metadata": {},
     "output_type": "display_data"
    },
    {
     "data": {
      "text/plain": [
       "Training: |          | 0/? [00:00<?, ?it/s]"
      ],
      "application/vnd.jupyter.widget-view+json": {
       "version_major": 2,
       "version_minor": 0,
       "model_id": "de78ad0b035846eb82d296b3bef6864e"
      }
     },
     "metadata": {},
     "output_type": "display_data"
    },
    {
     "data": {
      "text/plain": [
       "Training: |          | 0/? [00:00<?, ?it/s]"
      ],
      "application/vnd.jupyter.widget-view+json": {
       "version_major": 2,
       "version_minor": 0,
       "model_id": "7348f5db56b24111805008f844bf1eb3"
      }
     },
     "metadata": {},
     "output_type": "display_data"
    },
    {
     "data": {
      "text/plain": [
       "Training: |          | 0/? [00:00<?, ?it/s]"
      ],
      "application/vnd.jupyter.widget-view+json": {
       "version_major": 2,
       "version_minor": 0,
       "model_id": "d83f5f69b4df4537bd6be8be5415d212"
      }
     },
     "metadata": {},
     "output_type": "display_data"
    },
    {
     "data": {
      "text/plain": [
       "Training: |          | 0/? [00:00<?, ?it/s]"
      ],
      "application/vnd.jupyter.widget-view+json": {
       "version_major": 2,
       "version_minor": 0,
       "model_id": "ed6617d245964073a2086a9fda6bb2ca"
      }
     },
     "metadata": {},
     "output_type": "display_data"
    },
    {
     "data": {
      "text/plain": [
       "Training: |          | 0/? [00:00<?, ?it/s]"
      ],
      "application/vnd.jupyter.widget-view+json": {
       "version_major": 2,
       "version_minor": 0,
       "model_id": "d2012378272745708398bc58d8d5b2e2"
      }
     },
     "metadata": {},
     "output_type": "display_data"
    },
    {
     "data": {
      "text/plain": [
       "Training: |          | 0/? [00:00<?, ?it/s]"
      ],
      "application/vnd.jupyter.widget-view+json": {
       "version_major": 2,
       "version_minor": 0,
       "model_id": "3e83241e35be477b9432f3d0979ee605"
      }
     },
     "metadata": {},
     "output_type": "display_data"
    },
    {
     "data": {
      "text/plain": [
       "Training: |          | 0/? [00:00<?, ?it/s]"
      ],
      "application/vnd.jupyter.widget-view+json": {
       "version_major": 2,
       "version_minor": 0,
       "model_id": "38f95e0c1fe8470d9b58ac6d98a6eefd"
      }
     },
     "metadata": {},
     "output_type": "display_data"
    },
    {
     "data": {
      "text/plain": [
       "Training: |          | 0/? [00:00<?, ?it/s]"
      ],
      "application/vnd.jupyter.widget-view+json": {
       "version_major": 2,
       "version_minor": 0,
       "model_id": "cc534d1b839540c7b3156045ad8639c6"
      }
     },
     "metadata": {},
     "output_type": "display_data"
    },
    {
     "data": {
      "text/plain": [
       "Training: |          | 0/? [00:00<?, ?it/s]"
      ],
      "application/vnd.jupyter.widget-view+json": {
       "version_major": 2,
       "version_minor": 0,
       "model_id": "8980298e42624f3996cc1423fcfb7f24"
      }
     },
     "metadata": {},
     "output_type": "display_data"
    },
    {
     "data": {
      "text/plain": [
       "Training: |          | 0/? [00:00<?, ?it/s]"
      ],
      "application/vnd.jupyter.widget-view+json": {
       "version_major": 2,
       "version_minor": 0,
       "model_id": "236b8026ae274b21adbe4369ef59847d"
      }
     },
     "metadata": {},
     "output_type": "display_data"
    },
    {
     "data": {
      "text/plain": [
       "Training: |          | 0/? [00:00<?, ?it/s]"
      ],
      "application/vnd.jupyter.widget-view+json": {
       "version_major": 2,
       "version_minor": 0,
       "model_id": "aee886c56ca7456d8ae1e5b21facee20"
      }
     },
     "metadata": {},
     "output_type": "display_data"
    },
    {
     "data": {
      "text/plain": [
       "Training: |          | 0/? [00:00<?, ?it/s]"
      ],
      "application/vnd.jupyter.widget-view+json": {
       "version_major": 2,
       "version_minor": 0,
       "model_id": "47af0c2e4ab041648a5252127d346a87"
      }
     },
     "metadata": {},
     "output_type": "display_data"
    },
    {
     "data": {
      "text/plain": [
       "Training: |          | 0/? [00:00<?, ?it/s]"
      ],
      "application/vnd.jupyter.widget-view+json": {
       "version_major": 2,
       "version_minor": 0,
       "model_id": "6ac66aa807dd480a8b203d7871776136"
      }
     },
     "metadata": {},
     "output_type": "display_data"
    },
    {
     "name": "stdout",
     "output_type": "stream",
     "text": [
      "MAPE: 6.11%, RMSE: 30.42\n"
     ]
    },
    {
     "data": {
      "text/plain": [
       "<Figure size 800x500 with 1 Axes>"
      ],
      "image/png": "[encoded data removed]"
     },
     "metadata": {},
     "output_type": "display_data"
    }
   ],
   "execution_count": 52
  },
  {
   "metadata": {
    "ExecuteTime": {
     "end_time": "2024-09-12T03:30:29.462537Z",
     "start_time": "2024-09-12T03:12:11.288905Z"
    }
   },
   "cell_type": "code",
   "source": [
    "# with past covariates\n",
    "backtest_series = model_gru_backtest.historical_forecasts(\n",
    "    series_transformed['Est. Total consumption (GWh)'],\n",
    "    past_covariates=series_transformed[['Mean Air Temperature in Celsius', 'Mean Vapour Pressure Hpa']],\n",
    "    start=pd.Timestamp(\"20180101\"),\n",
    "    forecast_horizon=3,\n",
    "    retrain=True,\n",
    "    verbose=False,\n",
    ")\n",
    "\n",
    "backtest_series_reversed = transformer_target.inverse_transform(backtest_series)\n",
    "\n",
    "plt.figure(figsize=(8, 5))\n",
    "ts['Est. Total consumption (GWh)'].plot(label=\"actual\")\n",
    "backtest_series_reversed.plot(label=\"backtest\")\n",
    "plt.legend()\n",
    "plt.title(\"Backtest, starting Jan 2018, 3-months horizon\")\n",
    "print(\n",
    "    \"MAPE: {:.2f}%, RMSE: {:.2f}\".format(\n",
    "        mape(\n",
    "            ts['Est. Total consumption (GWh)'],\n",
    "            backtest_series_reversed,\n",
    "        ),\n",
    "        rmse(\n",
    "            ts['Est. Total consumption (GWh)'],\n",
    "            backtest_series_reversed,\n",
    "        )\n",
    "    )\n",
    ")"
   ],
   "id": "eda360fd7d9a6ba4",
   "outputs": [
    {
     "data": {
      "text/plain": [
       "Training: |          | 0/? [00:00<?, ?it/s]"
      ],
      "application/vnd.jupyter.widget-view+json": {
       "version_major": 2,
       "version_minor": 0,
       "model_id": "de789e8c7cf04465bdd8ca3287d35e12"
      }
     },
     "metadata": {},
     "output_type": "display_data"
    },
    {
     "data": {
      "text/plain": [
       "Training: |          | 0/? [00:00<?, ?it/s]"
      ],
      "application/vnd.jupyter.widget-view+json": {
       "version_major": 2,
       "version_minor": 0,
       "model_id": "56e13713fc194177a2b04a1f25247496"
      }
     },
     "metadata": {},
     "output_type": "display_data"
    },
    {
     "data": {
      "text/plain": [
       "Training: |          | 0/? [00:00<?, ?it/s]"
      ],
      "application/vnd.jupyter.widget-view+json": {
       "version_major": 2,
       "version_minor": 0,
       "model_id": "43b837d8da624f72ba176ba96f5c8a69"
      }
     },
     "metadata": {},
     "output_type": "display_data"
    },
    {
     "data": {
      "text/plain": [
       "Training: |          | 0/? [00:00<?, ?it/s]"
      ],
      "application/vnd.jupyter.widget-view+json": {
       "version_major": 2,
       "version_minor": 0,
       "model_id": "ce38c1cf44a34fa089110ac75040aef1"
      }
     },
     "metadata": {},
     "output_type": "display_data"
    },
    {
     "data": {
      "text/plain": [
       "Training: |          | 0/? [00:00<?, ?it/s]"
      ],
      "application/vnd.jupyter.widget-view+json": {
       "version_major": 2,
       "version_minor": 0,
       "model_id": "1ca1b2526fcc4ef4b68e1cc4a986cd0f"
      }
     },
     "metadata": {},
     "output_type": "display_data"
    },
    {
     "data": {
      "text/plain": [
       "Training: |          | 0/? [00:00<?, ?it/s]"
      ],
      "application/vnd.jupyter.widget-view+json": {
       "version_major": 2,
       "version_minor": 0,
       "model_id": "86a4a5475f194dedb8d18f0d436abb88"
      }
     },
     "metadata": {},
     "output_type": "display_data"
    },
    {
     "data": {
      "text/plain": [
       "Training: |          | 0/? [00:00<?, ?it/s]"
      ],
      "application/vnd.jupyter.widget-view+json": {
       "version_major": 2,
       "version_minor": 0,
       "model_id": "353f8c911a9a44bbaf7620e97a6004eb"
      }
     },
     "metadata": {},
     "output_type": "display_data"
    },
    {
     "data": {
      "text/plain": [
       "Training: |          | 0/? [00:00<?, ?it/s]"
      ],
      "application/vnd.jupyter.widget-view+json": {
       "version_major": 2,
       "version_minor": 0,
       "model_id": "e14b96029e1c4442b184706db46a75db"
      }
     },
     "metadata": {},
     "output_type": "display_data"
    },
    {
     "data": {
      "text/plain": [
       "Training: |          | 0/? [00:00<?, ?it/s]"
      ],
      "application/vnd.jupyter.widget-view+json": {
       "version_major": 2,
       "version_minor": 0,
       "model_id": "7c7266c2c2c04e93a8521b9d82bdabe9"
      }
     },
     "metadata": {},
     "output_type": "display_data"
    },
    {
     "data": {
      "text/plain": [
       "Training: |          | 0/? [00:00<?, ?it/s]"
      ],
      "application/vnd.jupyter.widget-view+json": {
       "version_major": 2,
       "version_minor": 0,
       "model_id": "9ab9be8e4f0d459897c91143807bc0be"
      }
     },
     "metadata": {},
     "output_type": "display_data"
    },
    {
     "data": {
      "text/plain": [
       "Training: |          | 0/? [00:00<?, ?it/s]"
      ],
      "application/vnd.jupyter.widget-view+json": {
       "version_major": 2,
       "version_minor": 0,
       "model_id": "06d21369a6b2423cb0a4560db8c1f552"
      }
     },
     "metadata": {},
     "output_type": "display_data"
    },
    {
     "data": {
      "text/plain": [
       "Training: |          | 0/? [00:00<?, ?it/s]"
      ],
      "application/vnd.jupyter.widget-view+json": {
       "version_major": 2,
       "version_minor": 0,
       "model_id": "1353fcb0ec384d06b1b38cfcb0119351"
      }
     },
     "metadata": {},
     "output_type": "display_data"
    },
    {
     "data": {
      "text/plain": [
       "Training: |          | 0/? [00:00<?, ?it/s]"
      ],
      "application/vnd.jupyter.widget-view+json": {
       "version_major": 2,
       "version_minor": 0,
       "model_id": "d45b7ac3bff740d9b23d51726aa8de63"
      }
     },
     "metadata": {},
     "output_type": "display_data"
    },
    {
     "data": {
      "text/plain": [
       "Training: |          | 0/? [00:00<?, ?it/s]"
      ],
      "application/vnd.jupyter.widget-view+json": {
       "version_major": 2,
       "version_minor": 0,
       "model_id": "3090c8f915084bcfa8b440d523ed8513"
      }
     },
     "metadata": {},
     "output_type": "display_data"
    },
    {
     "data": {
      "text/plain": [
       "Training: |          | 0/? [00:00<?, ?it/s]"
      ],
      "application/vnd.jupyter.widget-view+json": {
       "version_major": 2,
       "version_minor": 0,
       "model_id": "90b58e08e12b46dd86f12704492ecb70"
      }
     },
     "metadata": {},
     "output_type": "display_data"
    },
    {
     "data": {
      "text/plain": [
       "Training: |          | 0/? [00:00<?, ?it/s]"
      ],
      "application/vnd.jupyter.widget-view+json": {
       "version_major": 2,
       "version_minor": 0,
       "model_id": "fded75e8171a4f8785827515c6927d52"
      }
     },
     "metadata": {},
     "output_type": "display_data"
    },
    {
     "data": {
      "text/plain": [
       "Training: |          | 0/? [00:00<?, ?it/s]"
      ],
      "application/vnd.jupyter.widget-view+json": {
       "version_major": 2,
       "version_minor": 0,
       "model_id": "fb53a4dd12ae47fdb03523e716562518"
      }
     },
     "metadata": {},
     "output_type": "display_data"
    },
    {
     "data": {
      "text/plain": [
       "Training: |          | 0/? [00:00<?, ?it/s]"
      ],
      "application/vnd.jupyter.widget-view+json": {
       "version_major": 2,
       "version_minor": 0,
       "model_id": "c4b27c7995a9460aa09bd976fdf5b387"
      }
     },
     "metadata": {},
     "output_type": "display_data"
    },
    {
     "data": {
      "text/plain": [
       "Training: |          | 0/? [00:00<?, ?it/s]"
      ],
      "application/vnd.jupyter.widget-view+json": {
       "version_major": 2,
       "version_minor": 0,
       "model_id": "550f81ab133b43588287c78b36a948a3"
      }
     },
     "metadata": {},
     "output_type": "display_data"
    },
    {
     "data": {
      "text/plain": [
       "Training: |          | 0/? [00:00<?, ?it/s]"
      ],
      "application/vnd.jupyter.widget-view+json": {
       "version_major": 2,
       "version_minor": 0,
       "model_id": "2de64c186cfc44f7950d0bfd2dd47ec5"
      }
     },
     "metadata": {},
     "output_type": "display_data"
    },
    {
     "data": {
      "text/plain": [
       "Training: |          | 0/? [00:00<?, ?it/s]"
      ],
      "application/vnd.jupyter.widget-view+json": {
       "version_major": 2,
       "version_minor": 0,
       "model_id": "4ba4d048dce34c95909a18bba7f4ffbc"
      }
     },
     "metadata": {},
     "output_type": "display_data"
    },
    {
     "data": {
      "text/plain": [
       "Training: |          | 0/? [00:00<?, ?it/s]"
      ],
      "application/vnd.jupyter.widget-view+json": {
       "version_major": 2,
       "version_minor": 0,
       "model_id": "8d992316e2f14d689aa64cd2bf93eb7d"
      }
     },
     "metadata": {},
     "output_type": "display_data"
    },
    {
     "data": {
      "text/plain": [
       "Training: |          | 0/? [00:00<?, ?it/s]"
      ],
      "application/vnd.jupyter.widget-view+json": {
       "version_major": 2,
       "version_minor": 0,
       "model_id": "41eecec3b687403aa2fae4edb6268582"
      }
     },
     "metadata": {},
     "output_type": "display_data"
    },
    {
     "data": {
      "text/plain": [
       "Training: |          | 0/? [00:00<?, ?it/s]"
      ],
      "application/vnd.jupyter.widget-view+json": {
       "version_major": 2,
       "version_minor": 0,
       "model_id": "f6ddd7c4da814e2aae4006dc71c27e18"
      }
     },
     "metadata": {},
     "output_type": "display_data"
    },
    {
     "data": {
      "text/plain": [
       "Training: |          | 0/? [00:00<?, ?it/s]"
      ],
      "application/vnd.jupyter.widget-view+json": {
       "version_major": 2,
       "version_minor": 0,
       "model_id": "10ce3c27fcb84d0e9ba7b9bc609a628f"
      }
     },
     "metadata": {},
     "output_type": "display_data"
    },
    {
     "data": {
      "text/plain": [
       "Training: |          | 0/? [00:00<?, ?it/s]"
      ],
      "application/vnd.jupyter.widget-view+json": {
       "version_major": 2,
       "version_minor": 0,
       "model_id": "b77ea6d9244a42868aebf7b7db2c1621"
      }
     },
     "metadata": {},
     "output_type": "display_data"
    },
    {
     "data": {
      "text/plain": [
       "Training: |          | 0/? [00:00<?, ?it/s]"
      ],
      "application/vnd.jupyter.widget-view+json": {
       "version_major": 2,
       "version_minor": 0,
       "model_id": "73b370437a9542a794e709a217b7e17c"
      }
     },
     "metadata": {},
     "output_type": "display_data"
    },
    {
     "data": {
      "text/plain": [
       "Training: |          | 0/? [00:00<?, ?it/s]"
      ],
      "application/vnd.jupyter.widget-view+json": {
       "version_major": 2,
       "version_minor": 0,
       "model_id": "69e1013d9541451bbc5567e667eab8bc"
      }
     },
     "metadata": {},
     "output_type": "display_data"
    },
    {
     "data": {
      "text/plain": [
       "Training: |          | 0/? [00:00<?, ?it/s]"
      ],
      "application/vnd.jupyter.widget-view+json": {
       "version_major": 2,
       "version_minor": 0,
       "model_id": "2f6b9827e4b94f12ba3487e727b51ee8"
      }
     },
     "metadata": {},
     "output_type": "display_data"
    },
    {
     "data": {
      "text/plain": [
       "Training: |          | 0/? [00:00<?, ?it/s]"
      ],
      "application/vnd.jupyter.widget-view+json": {
       "version_major": 2,
       "version_minor": 0,
       "model_id": "1ae2d9a93f6a439cae96d08d51232a0d"
      }
     },
     "metadata": {},
     "output_type": "display_data"
    },
    {
     "data": {
      "text/plain": [
       "Training: |          | 0/? [00:00<?, ?it/s]"
      ],
      "application/vnd.jupyter.widget-view+json": {
       "version_major": 2,
       "version_minor": 0,
       "model_id": "55b3f591bb4d4f1db0d7efa97b0c0e99"
      }
     },
     "metadata": {},
     "output_type": "display_data"
    },
    {
     "data": {
      "text/plain": [
       "Training: |          | 0/? [00:00<?, ?it/s]"
      ],
      "application/vnd.jupyter.widget-view+json": {
       "version_major": 2,
       "version_minor": 0,
       "model_id": "7941d01bf5aa4fb48e21e59d3077ca3c"
      }
     },
     "metadata": {},
     "output_type": "display_data"
    },
    {
     "data": {
      "text/plain": [
       "Training: |          | 0/? [00:00<?, ?it/s]"
      ],
      "application/vnd.jupyter.widget-view+json": {
       "version_major": 2,
       "version_minor": 0,
       "model_id": "8b55cca691b44131ade59e7d420a5aec"
      }
     },
     "metadata": {},
     "output_type": "display_data"
    },
    {
     "data": {
      "text/plain": [
       "Training: |          | 0/? [00:00<?, ?it/s]"
      ],
      "application/vnd.jupyter.widget-view+json": {
       "version_major": 2,
       "version_minor": 0,
       "model_id": "dd1a9b87dadf4df7a6859ee5cbde7c63"
      }
     },
     "metadata": {},
     "output_type": "display_data"
    },
    {
     "data": {
      "text/plain": [
       "Training: |          | 0/? [00:00<?, ?it/s]"
      ],
      "application/vnd.jupyter.widget-view+json": {
       "version_major": 2,
       "version_minor": 0,
       "model_id": "b092c8c740ea44dfa6c7160d45e093cd"
      }
     },
     "metadata": {},
     "output_type": "display_data"
    },
    {
     "data": {
      "text/plain": [
       "Training: |          | 0/? [00:00<?, ?it/s]"
      ],
      "application/vnd.jupyter.widget-view+json": {
       "version_major": 2,
       "version_minor": 0,
       "model_id": "e7e03dce2f68402c8f95e638c97db378"
      }
     },
     "metadata": {},
     "output_type": "display_data"
    },
    {
     "data": {
      "text/plain": [
       "Training: |          | 0/? [00:00<?, ?it/s]"
      ],
      "application/vnd.jupyter.widget-view+json": {
       "version_major": 2,
       "version_minor": 0,
       "model_id": "d37e96d99f134bde92473415338cecb2"
      }
     },
     "metadata": {},
     "output_type": "display_data"
    },
    {
     "data": {
      "text/plain": [
       "Training: |          | 0/? [00:00<?, ?it/s]"
      ],
      "application/vnd.jupyter.widget-view+json": {
       "version_major": 2,
       "version_minor": 0,
       "model_id": "8854e0793fbc4c0ea7ad4fb5ff2ffb1e"
      }
     },
     "metadata": {},
     "output_type": "display_data"
    },
    {
     "data": {
      "text/plain": [
       "Training: |          | 0/? [00:00<?, ?it/s]"
      ],
      "application/vnd.jupyter.widget-view+json": {
       "version_major": 2,
       "version_minor": 0,
       "model_id": "f679afa46cdc4b18acc9a753f1c4e5b0"
      }
     },
     "metadata": {},
     "output_type": "display_data"
    },
    {
     "data": {
      "text/plain": [
       "Training: |          | 0/? [00:00<?, ?it/s]"
      ],
      "application/vnd.jupyter.widget-view+json": {
       "version_major": 2,
       "version_minor": 0,
       "model_id": "5d6fdd25ff254884a56cf96842732796"
      }
     },
     "metadata": {},
     "output_type": "display_data"
    },
    {
     "data": {
      "text/plain": [
       "Training: |          | 0/? [00:00<?, ?it/s]"
      ],
      "application/vnd.jupyter.widget-view+json": {
       "version_major": 2,
       "version_minor": 0,
       "model_id": "92c51df709ff4a5e9a859d9641bee6cb"
      }
     },
     "metadata": {},
     "output_type": "display_data"
    },
    {
     "data": {
      "text/plain": [
       "Training: |          | 0/? [00:00<?, ?it/s]"
      ],
      "application/vnd.jupyter.widget-view+json": {
       "version_major": 2,
       "version_minor": 0,
       "model_id": "5a5905c64fd1401d9201c4aca9340bb5"
      }
     },
     "metadata": {},
     "output_type": "display_data"
    },
    {
     "data": {
      "text/plain": [
       "Training: |          | 0/? [00:00<?, ?it/s]"
      ],
      "application/vnd.jupyter.widget-view+json": {
       "version_major": 2,
       "version_minor": 0,
       "model_id": "f5e18960f3174039b465eab7d5de54bc"
      }
     },
     "metadata": {},
     "output_type": "display_data"
    },
    {
     "data": {
      "text/plain": [
       "Training: |          | 0/? [00:00<?, ?it/s]"
      ],
      "application/vnd.jupyter.widget-view+json": {
       "version_major": 2,
       "version_minor": 0,
       "model_id": "c4b7700e0f284bf8b6e9a9466ebafa39"
      }
     },
     "metadata": {},
     "output_type": "display_data"
    },
    {
     "data": {
      "text/plain": [
       "Training: |          | 0/? [00:00<?, ?it/s]"
      ],
      "application/vnd.jupyter.widget-view+json": {
       "version_major": 2,
       "version_minor": 0,
       "model_id": "31cf8e652a6f4bedaf084ade75abe800"
      }
     },
     "metadata": {},
     "output_type": "display_data"
    },
    {
     "data": {
      "text/plain": [
       "Training: |          | 0/? [00:00<?, ?it/s]"
      ],
      "application/vnd.jupyter.widget-view+json": {
       "version_major": 2,
       "version_minor": 0,
       "model_id": "e7fb1bb36cbf4451a1a3bae820ff9c03"
      }
     },
     "metadata": {},
     "output_type": "display_data"
    },
    {
     "data": {
      "text/plain": [
       "Training: |          | 0/? [00:00<?, ?it/s]"
      ],
      "application/vnd.jupyter.widget-view+json": {
       "version_major": 2,
       "version_minor": 0,
       "model_id": "237de4ec8a6a45d4ac2aa267250298ec"
      }
     },
     "metadata": {},
     "output_type": "display_data"
    },
    {
     "data": {
      "text/plain": [
       "Training: |          | 0/? [00:00<?, ?it/s]"
      ],
      "application/vnd.jupyter.widget-view+json": {
       "version_major": 2,
       "version_minor": 0,
       "model_id": "ead80d7310a1429b988b36a102f7332e"
      }
     },
     "metadata": {},
     "output_type": "display_data"
    },
    {
     "data": {
      "text/plain": [
       "Training: |          | 0/? [00:00<?, ?it/s]"
      ],
      "application/vnd.jupyter.widget-view+json": {
       "version_major": 2,
       "version_minor": 0,
       "model_id": "dead979ea1594ee2bcf4e442feba2ff2"
      }
     },
     "metadata": {},
     "output_type": "display_data"
    },
    {
     "data": {
      "text/plain": [
       "Training: |          | 0/? [00:00<?, ?it/s]"
      ],
      "application/vnd.jupyter.widget-view+json": {
       "version_major": 2,
       "version_minor": 0,
       "model_id": "60cb273ab95246cb9eb3a93bd94d9ee3"
      }
     },
     "metadata": {},
     "output_type": "display_data"
    },
    {
     "data": {
      "text/plain": [
       "Training: |          | 0/? [00:00<?, ?it/s]"
      ],
      "application/vnd.jupyter.widget-view+json": {
       "version_major": 2,
       "version_minor": 0,
       "model_id": "366b4bc4ab564ebcaa9012931ad96c40"
      }
     },
     "metadata": {},
     "output_type": "display_data"
    },
    {
     "data": {
      "text/plain": [
       "Training: |          | 0/? [00:00<?, ?it/s]"
      ],
      "application/vnd.jupyter.widget-view+json": {
       "version_major": 2,
       "version_minor": 0,
       "model_id": "2c804eaa7b914c3c861a881397953301"
      }
     },
     "metadata": {},
     "output_type": "display_data"
    },
    {
     "data": {
      "text/plain": [
       "Training: |          | 0/? [00:00<?, ?it/s]"
      ],
      "application/vnd.jupyter.widget-view+json": {
       "version_major": 2,
       "version_minor": 0,
       "model_id": "c1cfe6fd49764dbe9ee755f48056a69b"
      }
     },
     "metadata": {},
     "output_type": "display_data"
    },
    {
     "data": {
      "text/plain": [
       "Training: |          | 0/? [00:00<?, ?it/s]"
      ],
      "application/vnd.jupyter.widget-view+json": {
       "version_major": 2,
       "version_minor": 0,
       "model_id": "1b5935c31d574357acea049a71a9b3b0"
      }
     },
     "metadata": {},
     "output_type": "display_data"
    },
    {
     "data": {
      "text/plain": [
       "Training: |          | 0/? [00:00<?, ?it/s]"
      ],
      "application/vnd.jupyter.widget-view+json": {
       "version_major": 2,
       "version_minor": 0,
       "model_id": "4a12cf16a57049e3aa4e2b5ed6fdbe0f"
      }
     },
     "metadata": {},
     "output_type": "display_data"
    },
    {
     "data": {
      "text/plain": [
       "Training: |          | 0/? [00:00<?, ?it/s]"
      ],
      "application/vnd.jupyter.widget-view+json": {
       "version_major": 2,
       "version_minor": 0,
       "model_id": "7bdf3733ccae4e259885093c132ebeaf"
      }
     },
     "metadata": {},
     "output_type": "display_data"
    },
    {
     "data": {
      "text/plain": [
       "Training: |          | 0/? [00:00<?, ?it/s]"
      ],
      "application/vnd.jupyter.widget-view+json": {
       "version_major": 2,
       "version_minor": 0,
       "model_id": "13327b4e4569481c8ff2c62651be7b5d"
      }
     },
     "metadata": {},
     "output_type": "display_data"
    },
    {
     "data": {
      "text/plain": [
       "Training: |          | 0/? [00:00<?, ?it/s]"
      ],
      "application/vnd.jupyter.widget-view+json": {
       "version_major": 2,
       "version_minor": 0,
       "model_id": "41110e890b364bd0b4e633e75fc4fd33"
      }
     },
     "metadata": {},
     "output_type": "display_data"
    },
    {
     "data": {
      "text/plain": [
       "Training: |          | 0/? [00:00<?, ?it/s]"
      ],
      "application/vnd.jupyter.widget-view+json": {
       "version_major": 2,
       "version_minor": 0,
       "model_id": "2794fa8599054dc4822458fe7e6417a1"
      }
     },
     "metadata": {},
     "output_type": "display_data"
    },
    {
     "data": {
      "text/plain": [
       "Training: |          | 0/? [00:00<?, ?it/s]"
      ],
      "application/vnd.jupyter.widget-view+json": {
       "version_major": 2,
       "version_minor": 0,
       "model_id": "2dea08c77a014ac9b4f96a9f02cbeb62"
      }
     },
     "metadata": {},
     "output_type": "display_data"
    },
    {
     "data": {
      "text/plain": [
       "Training: |          | 0/? [00:00<?, ?it/s]"
      ],
      "application/vnd.jupyter.widget-view+json": {
       "version_major": 2,
       "version_minor": 0,
       "model_id": "71416dbb850d4a99b948e8fb4ead1ada"
      }
     },
     "metadata": {},
     "output_type": "display_data"
    },
    {
     "data": {
      "text/plain": [
       "Training: |          | 0/? [00:00<?, ?it/s]"
      ],
      "application/vnd.jupyter.widget-view+json": {
       "version_major": 2,
       "version_minor": 0,
       "model_id": "a1d87541c5ba4ab6b563ceaa470a5eef"
      }
     },
     "metadata": {},
     "output_type": "display_data"
    },
    {
     "data": {
      "text/plain": [
       "Training: |          | 0/? [00:00<?, ?it/s]"
      ],
      "application/vnd.jupyter.widget-view+json": {
       "version_major": 2,
       "version_minor": 0,
       "model_id": "5788beb798bd4f6ca142f413cb2ed3ab"
      }
     },
     "metadata": {},
     "output_type": "display_data"
    },
    {
     "data": {
      "text/plain": [
       "Training: |          | 0/? [00:00<?, ?it/s]"
      ],
      "application/vnd.jupyter.widget-view+json": {
       "version_major": 2,
       "version_minor": 0,
       "model_id": "082b77299b4a47bebf08ed9f8843135c"
      }
     },
     "metadata": {},
     "output_type": "display_data"
    },
    {
     "data": {
      "text/plain": [
       "Training: |          | 0/? [00:00<?, ?it/s]"
      ],
      "application/vnd.jupyter.widget-view+json": {
       "version_major": 2,
       "version_minor": 0,
       "model_id": "48e342613910425f9c37a3e67f0c015c"
      }
     },
     "metadata": {},
     "output_type": "display_data"
    },
    {
     "data": {
      "text/plain": [
       "Training: |          | 0/? [00:00<?, ?it/s]"
      ],
      "application/vnd.jupyter.widget-view+json": {
       "version_major": 2,
       "version_minor": 0,
       "model_id": "93862e5b24f64913a2e640a22451d2cc"
      }
     },
     "metadata": {},
     "output_type": "display_data"
    },
    {
     "data": {
      "text/plain": [
       "Training: |          | 0/? [00:00<?, ?it/s]"
      ],
      "application/vnd.jupyter.widget-view+json": {
       "version_major": 2,
       "version_minor": 0,
       "model_id": "107ba9172fa545f58275e46ef3368bca"
      }
     },
     "metadata": {},
     "output_type": "display_data"
    },
    {
     "data": {
      "text/plain": [
       "Training: |          | 0/? [00:00<?, ?it/s]"
      ],
      "application/vnd.jupyter.widget-view+json": {
       "version_major": 2,
       "version_minor": 0,
       "model_id": "b0e7ee3661754dd29a3fd5cd550d92bd"
      }
     },
     "metadata": {},
     "output_type": "display_data"
    },
    {
     "data": {
      "text/plain": [
       "Training: |          | 0/? [00:00<?, ?it/s]"
      ],
      "application/vnd.jupyter.widget-view+json": {
       "version_major": 2,
       "version_minor": 0,
       "model_id": "6660326eac4d4545a82003b6d936f62e"
      }
     },
     "metadata": {},
     "output_type": "display_data"
    },
    {
     "data": {
      "text/plain": [
       "Training: |          | 0/? [00:00<?, ?it/s]"
      ],
      "application/vnd.jupyter.widget-view+json": {
       "version_major": 2,
       "version_minor": 0,
       "model_id": "e290f321e08b4d15916ed165ce29496a"
      }
     },
     "metadata": {},
     "output_type": "display_data"
    },
    {
     "data": {
      "text/plain": [
       "Training: |          | 0/? [00:00<?, ?it/s]"
      ],
      "application/vnd.jupyter.widget-view+json": {
       "version_major": 2,
       "version_minor": 0,
       "model_id": "693d5d143602407080a53041637d1c3c"
      }
     },
     "metadata": {},
     "output_type": "display_data"
    },
    {
     "data": {
      "text/plain": [
       "Training: |          | 0/? [00:00<?, ?it/s]"
      ],
      "application/vnd.jupyter.widget-view+json": {
       "version_major": 2,
       "version_minor": 0,
       "model_id": "21d3972873c447f3bfb03f96afd4c7ab"
      }
     },
     "metadata": {},
     "output_type": "display_data"
    },
    {
     "data": {
      "text/plain": [
       "Training: |          | 0/? [00:00<?, ?it/s]"
      ],
      "application/vnd.jupyter.widget-view+json": {
       "version_major": 2,
       "version_minor": 0,
       "model_id": "b279f6978d8a40f5af99c0cd782e1af2"
      }
     },
     "metadata": {},
     "output_type": "display_data"
    },
    {
     "data": {
      "text/plain": [
       "Training: |          | 0/? [00:00<?, ?it/s]"
      ],
      "application/vnd.jupyter.widget-view+json": {
       "version_major": 2,
       "version_minor": 0,
       "model_id": "da388c58f0304abda3994cffd48a5db2"
      }
     },
     "metadata": {},
     "output_type": "display_data"
    },
    {
     "data": {
      "text/plain": [
       "Training: |          | 0/? [00:00<?, ?it/s]"
      ],
      "application/vnd.jupyter.widget-view+json": {
       "version_major": 2,
       "version_minor": 0,
       "model_id": "b4194f838d69460f96e6c3fbc3003c8b"
      }
     },
     "metadata": {},
     "output_type": "display_data"
    },
    {
     "data": {
      "text/plain": [
       "Training: |          | 0/? [00:00<?, ?it/s]"
      ],
      "application/vnd.jupyter.widget-view+json": {
       "version_major": 2,
       "version_minor": 0,
       "model_id": "92d7b045874a401e804f7028e6a02820"
      }
     },
     "metadata": {},
     "output_type": "display_data"
    },
    {
     "name": "stdout",
     "output_type": "stream",
     "text": [
      "MAPE: 5.53%, RMSE: 28.50\n"
     ]
    },
    {
     "data": {
      "text/plain": [
       "<Figure size 800x500 with 1 Axes>"
      ],
      "image/png": "[encoded data removed]"
     },
     "metadata": {},
     "output_type": "display_data"
    }
   ],
   "execution_count": 53
  }
 ],
 "metadata": {
  "kernelspec": {
   "display_name": "Python 3",
   "language": "python",
   "name": "python3"
  },
  "language_info": {
   "codemirror_mode": {
    "name": "ipython",
    "version": 2
   },
   "file_extension": ".py",
   "mimetype": "text/x-python",
   "name": "python",
   "nbconvert_exporter": "python",
   "pygments_lexer": "ipython2",
   "version": "2.7.6"
  }
 },
 "nbformat": 4,
 "nbformat_minor": 5
}
