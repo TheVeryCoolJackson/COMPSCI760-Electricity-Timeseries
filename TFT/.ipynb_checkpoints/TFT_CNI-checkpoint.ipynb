{
 "cells": [
  {
   "cell_type": "code",
   "execution_count": 2,
   "id": "abfccd90-0b0f-4158-b905-551fbf06c656",
   "metadata": {},
   "outputs": [
    {
     "name": "stdout",
     "output_type": "stream",
     "text": [
      "* TFT\n",
      "  main\n",
      "M\tTFT.ipynb\n",
      "Your branch is up to date with 'origin/TFT'.\n"
     ]
    },
    {
     "name": "stderr",
     "output_type": "stream",
     "text": [
      "Already on 'TFT'\n"
     ]
    },
    {
     "name": "stdout",
     "output_type": "stream",
     "text": [
      "* TFT\n",
      "  main\n"
     ]
    }
   ],
   "source": [
    "!git branch\n",
    "!git checkout TFT\n",
    "!git branch"
   ]
  },
  {
   "cell_type": "code",
   "execution_count": 3,
   "id": "5fd27920-aaf5-45e4-86d0-87e2253c4f94",
   "metadata": {},
   "outputs": [],
   "source": [
    "%load_ext autoreload\n",
    "%autoreload 2\n",
    "%matplotlib inline"
   ]
  },
  {
   "cell_type": "code",
   "execution_count": 4,
   "id": "62158184-8662-4ba5-96e3-b6d468a5c2a6",
   "metadata": {},
   "outputs": [],
   "source": [
    "import numpy as np\n",
    "import pandas as pd\n",
    "from tqdm import tqdm_notebook as tqdm\n",
    "\n",
    "import matplotlib.pyplot as plt\n",
    "from sklearn.preprocessing import MinMaxScaler\n",
    "from darts import TimeSeries, concatenate\n",
    "from darts.dataprocessing.transformers import Scaler\n",
    "from darts.models import TFTModel\n",
    "from darts.metrics import mape\n",
    "from torch.nn import MSELoss\n",
    "import warnings\n",
    "\n",
    "warnings.filterwarnings(\"ignore\")\n",
    "import logging\n",
    "\n",
    "logging.disable(logging.CRITICAL)"
   ]
  },
  {
   "cell_type": "markdown",
   "id": "1099198a-7cbc-447d-b5b4-2e3fe9f04d19",
   "metadata": {},
   "source": [
    "# Weather Dataset"
   ]
  },
  {
   "cell_type": "code",
   "execution_count": 5,
   "id": "5b0183b9-0472-4412-b4df-d351e416c252",
   "metadata": {},
   "outputs": [
    {
     "data": {
      "text/html": [
       "<div>\n",
       "<style scoped>\n",
       "    .dataframe tbody tr th:only-of-type {\n",
       "        vertical-align: middle;\n",
       "    }\n",
       "\n",
       "    .dataframe tbody tr th {\n",
       "        vertical-align: top;\n",
       "    }\n",
       "\n",
       "    .dataframe thead th {\n",
       "        text-align: right;\n",
       "    }\n",
       "</style>\n",
       "<table border=\"1\" class=\"dataframe\">\n",
       "  <thead>\n",
       "    <tr style=\"text-align: right;\">\n",
       "      <th></th>\n",
       "      <th>Date</th>\n",
       "      <th>Total Rainfall Mm</th>\n",
       "      <th>Mean Air Temperature in Celsius</th>\n",
       "      <th>Mean Vapour Pressure Hpa</th>\n",
       "      <th>Mean Wind Speed M/Sec</th>\n",
       "      <th>Days Of Wind Gust &gt;= 24 Knots in Day</th>\n",
       "      <th>Standard Deviation Of Daily Mean Temperature in Celsius</th>\n",
       "      <th>Year</th>\n",
       "      <th>Month</th>\n",
       "      <th>Selected business demand (GWh)</th>\n",
       "      <th>Est. Total consumption (GWh)</th>\n",
       "      <th>Export prices</th>\n",
       "      <th>Export volumes</th>\n",
       "      <th>Export values</th>\n",
       "      <th>Import prices</th>\n",
       "      <th>Import volumes</th>\n",
       "      <th>Import values</th>\n",
       "      <th>Population</th>\n",
       "    </tr>\n",
       "  </thead>\n",
       "  <tbody>\n",
       "    <tr>\n",
       "      <th>0</th>\n",
       "      <td>2010-01-01</td>\n",
       "      <td>172.500000</td>\n",
       "      <td>18.600000</td>\n",
       "      <td>16.500</td>\n",
       "      <td>3.500</td>\n",
       "      <td>9.250000</td>\n",
       "      <td>2.475000</td>\n",
       "      <td>2010.0</td>\n",
       "      <td>1.0</td>\n",
       "      <td>502.788</td>\n",
       "      <td>177.005</td>\n",
       "      <td>1072.0</td>\n",
       "      <td>1160.0</td>\n",
       "      <td>10093.0</td>\n",
       "      <td>904.0</td>\n",
       "      <td>1360.0</td>\n",
       "      <td>8827.0</td>\n",
       "      <td>891100.0</td>\n",
       "    </tr>\n",
       "    <tr>\n",
       "      <th>1</th>\n",
       "      <td>2010-02-01</td>\n",
       "      <td>27.150000</td>\n",
       "      <td>19.900000</td>\n",
       "      <td>18.875</td>\n",
       "      <td>2.700</td>\n",
       "      <td>2.500000</td>\n",
       "      <td>1.750000</td>\n",
       "      <td>2010.0</td>\n",
       "      <td>2.0</td>\n",
       "      <td>475.792</td>\n",
       "      <td>162.780</td>\n",
       "      <td>1072.0</td>\n",
       "      <td>1160.0</td>\n",
       "      <td>10093.0</td>\n",
       "      <td>904.0</td>\n",
       "      <td>1360.0</td>\n",
       "      <td>8827.0</td>\n",
       "      <td>891100.0</td>\n",
       "    </tr>\n",
       "    <tr>\n",
       "      <th>2</th>\n",
       "      <td>2010-03-01</td>\n",
       "      <td>21.825000</td>\n",
       "      <td>17.650000</td>\n",
       "      <td>14.525</td>\n",
       "      <td>3.300</td>\n",
       "      <td>6.666667</td>\n",
       "      <td>2.175000</td>\n",
       "      <td>2010.0</td>\n",
       "      <td>3.0</td>\n",
       "      <td>539.230</td>\n",
       "      <td>182.505</td>\n",
       "      <td>1072.0</td>\n",
       "      <td>1160.0</td>\n",
       "      <td>10093.0</td>\n",
       "      <td>904.0</td>\n",
       "      <td>1360.0</td>\n",
       "      <td>8827.0</td>\n",
       "      <td>891100.0</td>\n",
       "    </tr>\n",
       "    <tr>\n",
       "      <th>3</th>\n",
       "      <td>2010-04-01</td>\n",
       "      <td>58.150000</td>\n",
       "      <td>15.075000</td>\n",
       "      <td>13.800</td>\n",
       "      <td>2.775</td>\n",
       "      <td>5.500000</td>\n",
       "      <td>2.200000</td>\n",
       "      <td>2010.0</td>\n",
       "      <td>4.0</td>\n",
       "      <td>505.722</td>\n",
       "      <td>188.663</td>\n",
       "      <td>1112.0</td>\n",
       "      <td>1264.0</td>\n",
       "      <td>11416.0</td>\n",
       "      <td>920.0</td>\n",
       "      <td>1476.0</td>\n",
       "      <td>9740.0</td>\n",
       "      <td>891100.0</td>\n",
       "    </tr>\n",
       "    <tr>\n",
       "      <th>4</th>\n",
       "      <td>2010-05-01</td>\n",
       "      <td>197.350000</td>\n",
       "      <td>12.533333</td>\n",
       "      <td>12.375</td>\n",
       "      <td>2.650</td>\n",
       "      <td>7.333333</td>\n",
       "      <td>2.333333</td>\n",
       "      <td>2010.0</td>\n",
       "      <td>5.0</td>\n",
       "      <td>519.263</td>\n",
       "      <td>222.647</td>\n",
       "      <td>1112.0</td>\n",
       "      <td>1264.0</td>\n",
       "      <td>11416.0</td>\n",
       "      <td>920.0</td>\n",
       "      <td>1476.0</td>\n",
       "      <td>9740.0</td>\n",
       "      <td>891100.0</td>\n",
       "    </tr>\n",
       "    <tr>\n",
       "      <th>...</th>\n",
       "      <td>...</td>\n",
       "      <td>...</td>\n",
       "      <td>...</td>\n",
       "      <td>...</td>\n",
       "      <td>...</td>\n",
       "      <td>...</td>\n",
       "      <td>...</td>\n",
       "      <td>...</td>\n",
       "      <td>...</td>\n",
       "      <td>...</td>\n",
       "      <td>...</td>\n",
       "      <td>...</td>\n",
       "      <td>...</td>\n",
       "      <td>...</td>\n",
       "      <td>...</td>\n",
       "      <td>...</td>\n",
       "      <td>...</td>\n",
       "      <td>...</td>\n",
       "    </tr>\n",
       "    <tr>\n",
       "      <th>169</th>\n",
       "      <td>2024-02-01</td>\n",
       "      <td>43.575000</td>\n",
       "      <td>19.275000</td>\n",
       "      <td>16.800</td>\n",
       "      <td>3.525</td>\n",
       "      <td>6.750000</td>\n",
       "      <td>2.000000</td>\n",
       "      <td>2024.0</td>\n",
       "      <td>2.0</td>\n",
       "      <td>415.395</td>\n",
       "      <td>185.524</td>\n",
       "      <td>1362.0</td>\n",
       "      <td>1465.0</td>\n",
       "      <td>16196.0</td>\n",
       "      <td>998.0</td>\n",
       "      <td>2381.0</td>\n",
       "      <td>17050.0</td>\n",
       "      <td>1114100.0</td>\n",
       "    </tr>\n",
       "    <tr>\n",
       "      <th>170</th>\n",
       "      <td>2024-03-01</td>\n",
       "      <td>63.200000</td>\n",
       "      <td>16.225000</td>\n",
       "      <td>13.725</td>\n",
       "      <td>3.800</td>\n",
       "      <td>13.000000</td>\n",
       "      <td>2.625000</td>\n",
       "      <td>2024.0</td>\n",
       "      <td>3.0</td>\n",
       "      <td>439.393</td>\n",
       "      <td>204.168</td>\n",
       "      <td>1362.0</td>\n",
       "      <td>1465.0</td>\n",
       "      <td>16196.0</td>\n",
       "      <td>998.0</td>\n",
       "      <td>2381.0</td>\n",
       "      <td>17050.0</td>\n",
       "      <td>1114100.0</td>\n",
       "    </tr>\n",
       "    <tr>\n",
       "      <th>171</th>\n",
       "      <td>2024-04-01</td>\n",
       "      <td>52.350000</td>\n",
       "      <td>14.800000</td>\n",
       "      <td>13.700</td>\n",
       "      <td>3.175</td>\n",
       "      <td>7.500000</td>\n",
       "      <td>2.725000</td>\n",
       "      <td>2024.0</td>\n",
       "      <td>4.0</td>\n",
       "      <td>450.067</td>\n",
       "      <td>214.703</td>\n",
       "      <td>1433.0</td>\n",
       "      <td>1584.0</td>\n",
       "      <td>18433.0</td>\n",
       "      <td>1029.0</td>\n",
       "      <td>2414.0</td>\n",
       "      <td>17823.0</td>\n",
       "      <td>1114100.0</td>\n",
       "    </tr>\n",
       "    <tr>\n",
       "      <th>172</th>\n",
       "      <td>2024-05-01</td>\n",
       "      <td>100.400000</td>\n",
       "      <td>10.950000</td>\n",
       "      <td>10.750</td>\n",
       "      <td>3.150</td>\n",
       "      <td>8.000000</td>\n",
       "      <td>1.650000</td>\n",
       "      <td>2024.0</td>\n",
       "      <td>5.0</td>\n",
       "      <td>471.065</td>\n",
       "      <td>279.464</td>\n",
       "      <td>1433.0</td>\n",
       "      <td>1584.0</td>\n",
       "      <td>18433.0</td>\n",
       "      <td>1029.0</td>\n",
       "      <td>2414.0</td>\n",
       "      <td>17823.0</td>\n",
       "      <td>1114100.0</td>\n",
       "    </tr>\n",
       "    <tr>\n",
       "      <th>173</th>\n",
       "      <td>2024-06-01</td>\n",
       "      <td>166.466667</td>\n",
       "      <td>11.000000</td>\n",
       "      <td>11.125</td>\n",
       "      <td>3.275</td>\n",
       "      <td>7.500000</td>\n",
       "      <td>2.000000</td>\n",
       "      <td>2024.0</td>\n",
       "      <td>6.0</td>\n",
       "      <td>412.198</td>\n",
       "      <td>283.221</td>\n",
       "      <td>1433.0</td>\n",
       "      <td>1584.0</td>\n",
       "      <td>18433.0</td>\n",
       "      <td>1029.0</td>\n",
       "      <td>2414.0</td>\n",
       "      <td>17823.0</td>\n",
       "      <td>1114100.0</td>\n",
       "    </tr>\n",
       "  </tbody>\n",
       "</table>\n",
       "<p>174 rows × 18 columns</p>\n",
       "</div>"
      ],
      "text/plain": [
       "           Date  Total Rainfall Mm  Mean Air Temperature in Celsius  \\\n",
       "0    2010-01-01         172.500000                        18.600000   \n",
       "1    2010-02-01          27.150000                        19.900000   \n",
       "2    2010-03-01          21.825000                        17.650000   \n",
       "3    2010-04-01          58.150000                        15.075000   \n",
       "4    2010-05-01         197.350000                        12.533333   \n",
       "..          ...                ...                              ...   \n",
       "169  2024-02-01          43.575000                        19.275000   \n",
       "170  2024-03-01          63.200000                        16.225000   \n",
       "171  2024-04-01          52.350000                        14.800000   \n",
       "172  2024-05-01         100.400000                        10.950000   \n",
       "173  2024-06-01         166.466667                        11.000000   \n",
       "\n",
       "     Mean Vapour Pressure Hpa  Mean Wind Speed M/Sec  \\\n",
       "0                      16.500                  3.500   \n",
       "1                      18.875                  2.700   \n",
       "2                      14.525                  3.300   \n",
       "3                      13.800                  2.775   \n",
       "4                      12.375                  2.650   \n",
       "..                        ...                    ...   \n",
       "169                    16.800                  3.525   \n",
       "170                    13.725                  3.800   \n",
       "171                    13.700                  3.175   \n",
       "172                    10.750                  3.150   \n",
       "173                    11.125                  3.275   \n",
       "\n",
       "     Days Of Wind Gust >= 24 Knots in Day  \\\n",
       "0                                9.250000   \n",
       "1                                2.500000   \n",
       "2                                6.666667   \n",
       "3                                5.500000   \n",
       "4                                7.333333   \n",
       "..                                    ...   \n",
       "169                              6.750000   \n",
       "170                             13.000000   \n",
       "171                              7.500000   \n",
       "172                              8.000000   \n",
       "173                              7.500000   \n",
       "\n",
       "     Standard Deviation Of Daily Mean Temperature in Celsius    Year  Month  \\\n",
       "0                                             2.475000        2010.0    1.0   \n",
       "1                                             1.750000        2010.0    2.0   \n",
       "2                                             2.175000        2010.0    3.0   \n",
       "3                                             2.200000        2010.0    4.0   \n",
       "4                                             2.333333        2010.0    5.0   \n",
       "..                                                 ...           ...    ...   \n",
       "169                                           2.000000        2024.0    2.0   \n",
       "170                                           2.625000        2024.0    3.0   \n",
       "171                                           2.725000        2024.0    4.0   \n",
       "172                                           1.650000        2024.0    5.0   \n",
       "173                                           2.000000        2024.0    6.0   \n",
       "\n",
       "     Selected business demand (GWh)  Est. Total consumption (GWh)  \\\n",
       "0                           502.788                       177.005   \n",
       "1                           475.792                       162.780   \n",
       "2                           539.230                       182.505   \n",
       "3                           505.722                       188.663   \n",
       "4                           519.263                       222.647   \n",
       "..                              ...                           ...   \n",
       "169                         415.395                       185.524   \n",
       "170                         439.393                       204.168   \n",
       "171                         450.067                       214.703   \n",
       "172                         471.065                       279.464   \n",
       "173                         412.198                       283.221   \n",
       "\n",
       "     Export prices  Export volumes  Export values  Import prices  \\\n",
       "0           1072.0          1160.0        10093.0          904.0   \n",
       "1           1072.0          1160.0        10093.0          904.0   \n",
       "2           1072.0          1160.0        10093.0          904.0   \n",
       "3           1112.0          1264.0        11416.0          920.0   \n",
       "4           1112.0          1264.0        11416.0          920.0   \n",
       "..             ...             ...            ...            ...   \n",
       "169         1362.0          1465.0        16196.0          998.0   \n",
       "170         1362.0          1465.0        16196.0          998.0   \n",
       "171         1433.0          1584.0        18433.0         1029.0   \n",
       "172         1433.0          1584.0        18433.0         1029.0   \n",
       "173         1433.0          1584.0        18433.0         1029.0   \n",
       "\n",
       "     Import volumes  Import values  Population  \n",
       "0            1360.0         8827.0    891100.0  \n",
       "1            1360.0         8827.0    891100.0  \n",
       "2            1360.0         8827.0    891100.0  \n",
       "3            1476.0         9740.0    891100.0  \n",
       "4            1476.0         9740.0    891100.0  \n",
       "..              ...            ...         ...  \n",
       "169          2381.0        17050.0   1114100.0  \n",
       "170          2381.0        17050.0   1114100.0  \n",
       "171          2414.0        17823.0   1114100.0  \n",
       "172          2414.0        17823.0   1114100.0  \n",
       "173          2414.0        17823.0   1114100.0  \n",
       "\n",
       "[174 rows x 18 columns]"
      ]
     },
     "execution_count": 5,
     "metadata": {},
     "output_type": "execute_result"
    }
   ],
   "source": [
    "electricity_consumption = pd.read_csv(\"../ProcessedData/Electricity-ResBusClimateCNI.csv\")\n",
    "electricity_consumption"
   ]
  },
  {
   "cell_type": "code",
   "execution_count": 6,
   "id": "f4af85d4-be35-4cfa-9ef0-79c094af27f1",
   "metadata": {},
   "outputs": [],
   "source": [
    "# Convert dataframe to Timeseries\n",
    "ts = TimeSeries.from_dataframe(electricity_consumption, time_col=\"Date\" )"
   ]
  },
  {
   "cell_type": "code",
   "execution_count": 7,
   "id": "99b6c011-a538-40a6-9951-cf18e5f8815a",
   "metadata": {},
   "outputs": [],
   "source": [
    "# training and validation split\n",
    "training_cutoff = pd.Timestamp('2021-01-01')\n",
    "train, val = ts.split_before(training_cutoff)"
   ]
  },
  {
   "cell_type": "code",
   "execution_count": 8,
   "id": "52c2cb25-13ce-4179-8bf9-45fb8c9f96e2",
   "metadata": {},
   "outputs": [],
   "source": [
    "scaler = MinMaxScaler(feature_range=(0, 1))\n",
    "transformer = Scaler(scaler)\n",
    "transformer_target = Scaler(scaler)\n",
    "\n",
    "train_target_og = train['Est. Total consumption (GWh)']\n",
    "val_target_og = val['Est. Total consumption (GWh)']\n",
    "train_target = transformer_target.fit_transform(train_target_og)\n",
    "val_target = transformer_target.transform(val_target_og)\n",
    "\n",
    "train_transformed = transformer.fit_transform(train)\n",
    "val_transformed = transformer.transform(val)\n",
    "series_transformed = transformer.transform(ts)\n",
    "\n",
    "#split past covariates\n",
    "train_past_cov = train_transformed[\n",
    "    [ \n",
    "        'Mean Air Temperature in Celsius', \n",
    "        'Mean Vapour Pressure Hpa'\n",
    "    ]\n",
    "]\n",
    "\n",
    "# replace missing value with the mean of column\n",
    "train_past_cov = train_past_cov.pd_dataframe()\n",
    "train_past_cov = train_past_cov.apply(lambda col: col.fillna(col.mean()))\n",
    "train_past_cov = TimeSeries.from_dataframe(train_past_cov)"
   ]
  },
  {
   "cell_type": "code",
   "execution_count": 9,
   "id": "306889e7-3f58-493d-af0a-434bf8ed0f60",
   "metadata": {},
   "outputs": [],
   "source": [
    "series_transformed = series_transformed.pd_dataframe()\n",
    "series_transformed = series_transformed.apply(lambda col: col.fillna(col.mean()))\n",
    "series_transformed = TimeSeries.from_dataframe(series_transformed)"
   ]
  },
  {
   "cell_type": "markdown",
   "id": "d3e9d358-b7d1-4de2-88d6-4412b0c9f774",
   "metadata": {},
   "source": [
    "# Model Training Forecasting"
   ]
  },
  {
   "cell_type": "code",
   "execution_count": 10,
   "id": "7870630c-3ca0-4fbe-846e-40ed39cc5bbe",
   "metadata": {},
   "outputs": [
    {
     "data": {
      "application/vnd.jupyter.widget-view+json": {
       "model_id": "88366607eb3848b88e85766c6b173762",
       "version_major": 2,
       "version_minor": 0
      },
      "text/plain": [
       "Training: |                                                                                      | 0/? [00:00<…"
      ]
     },
     "metadata": {},
     "output_type": "display_data"
    },
    {
     "data": {
      "text/plain": [
       "TFTModel(output_chunk_shift=0, hidden_size=150, lstm_layers=3, num_attention_heads=3, full_attention=False, feed_forward=GatedResidualNetwork, dropout=0.1, hidden_continuous_size=8, categorical_embedding_sizes=None, add_relative_index=False, loss_fn=MSELoss(), likelihood=None, norm_type=LayerNorm, use_static_covariates=True, input_chunk_length=72, output_chunk_length=42, batch_size=30, n_epochs=300, add_encoders={'cyclic': {'past': ['month']}, 'datetime_attribute': {'future': ['month', 'year']}}, random_state=5, optimizer_kwargs={'lr': 0.01}, log_tensorboard=False, save_checkpoints=True, force_reset=True)"
      ]
     },
     "execution_count": 10,
     "metadata": {},
     "output_type": "execute_result"
    }
   ],
   "source": [
    "# with past covariates\n",
    "input_chunk_length = 72\n",
    "forecast_horizon = 42\n",
    "\n",
    "my_model_withpast = TFTModel(\n",
    "    input_chunk_length=input_chunk_length,\n",
    "    output_chunk_length=forecast_horizon,\n",
    "    hidden_size=150,\n",
    "    lstm_layers=3,\n",
    "    num_attention_heads=3,\n",
    "    dropout=0.1,\n",
    "    batch_size=30,\n",
    "    n_epochs=300,\n",
    "    add_relative_index=False,\n",
    "    add_encoders={\n",
    "        'cyclic': {'past': ['month']},  \n",
    "        'datetime_attribute': {'future': ['month', 'year']},\n",
    "    },\n",
    "    loss_fn=MSELoss(),\n",
    "    likelihood=None,\n",
    "    random_state=5,\n",
    "    optimizer_kwargs={\"lr\": 1e-2},  \n",
    "    log_tensorboard=False,          \n",
    "    save_checkpoints=True,        \n",
    "    force_reset=True, \n",
    ")\n",
    "my_model_withpast.fit(train_target, past_covariates = train_past_cov, verbose=True)"
   ]
  },
  {
   "cell_type": "code",
   "execution_count": 11,
   "id": "872e9e6f-0062-40fb-83d7-e4dafe02dce0",
   "metadata": {},
   "outputs": [
    {
     "data": {
      "application/vnd.jupyter.widget-view+json": {
       "model_id": "0514f9e2a16d4bbea233a7defb23fa5c",
       "version_major": 2,
       "version_minor": 0
      },
      "text/plain": [
       "Training: |                                                                                      | 0/? [00:00<…"
      ]
     },
     "metadata": {},
     "output_type": "display_data"
    },
    {
     "data": {
      "text/plain": [
       "TFTModel(output_chunk_shift=0, hidden_size=150, lstm_layers=3, num_attention_heads=3, full_attention=False, feed_forward=GatedResidualNetwork, dropout=0.1, hidden_continuous_size=8, categorical_embedding_sizes=None, add_relative_index=False, loss_fn=MSELoss(), likelihood=None, norm_type=LayerNorm, use_static_covariates=True, input_chunk_length=72, output_chunk_length=42, batch_size=30, n_epochs=300, add_encoders={'cyclic': {'past': ['month']}, 'datetime_attribute': {'future': ['month', 'year']}}, random_state=5, optimizer_kwargs={'lr': 0.01}, log_tensorboard=False, save_checkpoints=True, force_reset=True)"
      ]
     },
     "execution_count": 11,
     "metadata": {},
     "output_type": "execute_result"
    }
   ],
   "source": [
    "# without past covariates\n",
    "input_chunk_length = 72\n",
    "forecast_horizon = 42\n",
    "\n",
    "my_model_nopast = TFTModel(\n",
    "    input_chunk_length=input_chunk_length,\n",
    "    output_chunk_length=forecast_horizon,\n",
    "    hidden_size=150,\n",
    "    lstm_layers=3,\n",
    "    num_attention_heads=3,\n",
    "    dropout=0.1,\n",
    "    batch_size=30,\n",
    "    n_epochs=300,\n",
    "    add_relative_index=False,\n",
    "    add_encoders={\n",
    "        'cyclic': {'past': ['month']},  \n",
    "        'datetime_attribute': {'future': ['month', 'year']},\n",
    "    },\n",
    "    loss_fn=MSELoss(),\n",
    "    likelihood=None,\n",
    "    random_state=5,\n",
    "    optimizer_kwargs={\"lr\": 1e-2},  \n",
    "    log_tensorboard=False,          \n",
    "    save_checkpoints=True,        \n",
    "    force_reset=True, \n",
    ")\n",
    "\n",
    "my_model_nopast.fit(train_target, verbose=True)"
   ]
  },
  {
   "cell_type": "code",
   "execution_count": 12,
   "id": "9dce6c3f-0cb6-42f9-97c0-e104b454299a",
   "metadata": {},
   "outputs": [],
   "source": [
    "from darts.metrics import mape, mae, rmse"
   ]
  },
  {
   "cell_type": "code",
   "execution_count": 13,
   "id": "ee9cc1fb-8070-434d-baf7-e75f74c5ff8f",
   "metadata": {},
   "outputs": [
    {
     "data": {
      "application/vnd.jupyter.widget-view+json": {
       "model_id": "76160bbaca984a40b15524f5545767f3",
       "version_major": 2,
       "version_minor": 0
      },
      "text/plain": [
       "Predicting: |                                                                                    | 0/? [00:00<…"
      ]
     },
     "metadata": {},
     "output_type": "display_data"
    },
    {
     "data": {
      "application/vnd.jupyter.widget-view+json": {
       "model_id": "b4f509405636404b97723575ee279d27",
       "version_major": 2,
       "version_minor": 0
      },
      "text/plain": [
       "Predicting: |                                                                                    | 0/? [00:00<…"
      ]
     },
     "metadata": {},
     "output_type": "display_data"
    },
    {
     "data": {
      "image/png": "[encoded data removed]",
      "text/plain": [
       "<Figure size 800x500 with 1 Axes>"
      ]
     },
     "metadata": {},
     "output_type": "display_data"
    },
    {
     "data": {
      "image/png": "[encoded data removed]",
      "text/plain": [
       "<Figure size 800x500 with 1 Axes>"
      ]
     },
     "metadata": {},
     "output_type": "display_data"
    }
   ],
   "source": [
    "def eval_model(model, num):\n",
    "    pred_series = model.predict(n=42)\n",
    "    plt.figure(figsize=(8, 5))\n",
    "    pred_series_reversed = transformer_target.inverse_transform(pred_series)\n",
    "    ts['Est. Total consumption (GWh)'].plot(label=\"actual\")\n",
    "    pred_series_reversed['Est. Total consumption (GWh)'].plot(label=\"forecast\")\n",
    "    if num == 1:\n",
    "        plt.title(\"Model with past covariates: RMSE: {:.2f}, MAE: {:.2f}, MAPE: {:.2f}\".format(rmse(val_target_og, pred_series_reversed), mae(val_target_og, pred_series_reversed), mape(val_target_og, pred_series_reversed)))\n",
    "        plt.legend()\n",
    "        return pred_series\n",
    "    else:\n",
    "        plt.title(\"Model without past covariates: RMSE: {:.2f}, MAE: {:.2f}, MAPE: {:.2f}\".format(rmse(val_target_og, pred_series_reversed), mae(val_target_og, pred_series_reversed), mape(val_target_og, pred_series_reversed)))\n",
    "        plt.legend()\n",
    "        return pred_series\n",
    "\n",
    "pred_series_transformed = eval_model(my_model_withpast, 1)\n",
    "pred_series_transformed_no_past_cov = eval_model(my_model_nopast, 0)"
   ]
  },
  {
   "cell_type": "markdown",
   "id": "4eeb8db8-d31f-4276-a77d-392fb380b6a8",
   "metadata": {},
   "source": [
    "# Backtesting"
   ]
  },
  {
   "cell_type": "code",
   "execution_count": 28,
   "id": "a5df8a04-18b4-4808-a674-7eeb930786b4",
   "metadata": {},
   "outputs": [],
   "source": [
    "model_TFT_backtest = TFTModel(\n",
    "    input_chunk_length=66,\n",
    "    output_chunk_length=3,\n",
    "    hidden_size=150,\n",
    "    lstm_layers=3,\n",
    "    num_attention_heads=3,\n",
    "    dropout=0.1,\n",
    "    batch_size=30,\n",
    "    n_epochs=100,\n",
    "    add_relative_index=False,\n",
    "    add_encoders={\n",
    "        'cyclic': {'past': ['month']},  \n",
    "        'datetime_attribute': {'future': ['month', 'year']},\n",
    "    },\n",
    "    loss_fn=MSELoss(),\n",
    "    likelihood=None,\n",
    "    random_state=5,\n",
    "    optimizer_kwargs={\"lr\": 1e-2},  \n",
    "    log_tensorboard=False,          \n",
    "    save_checkpoints=True,        \n",
    "    force_reset=True, \n",
    ")\n"
   ]
  },
  {
   "cell_type": "code",
   "execution_count": 29,
   "id": "bce5aa0b-96ac-4ad2-acd2-e26208755b2b",
   "metadata": {},
   "outputs": [
    {
     "data": {
      "application/vnd.jupyter.widget-view+json": {
       "model_id": "3b4166ae032441068b0225c337d006c7",
       "version_major": 2,
       "version_minor": 0
      },
      "text/plain": [
       "Training: |                                                                                      | 0/? [00:00<…"
      ]
     },
     "metadata": {},
     "output_type": "display_data"
    },
    {
     "data": {
      "application/vnd.jupyter.widget-view+json": {
       "model_id": "7cb5b079946d4faf9781a15b19862e08",
       "version_major": 2,
       "version_minor": 0
      },
      "text/plain": [
       "Training: |                                                                                      | 0/? [00:00<…"
      ]
     },
     "metadata": {},
     "output_type": "display_data"
    },
    {
     "data": {
      "application/vnd.jupyter.widget-view+json": {
       "model_id": "514a113e813543de8824becf676f39eb",
       "version_major": 2,
       "version_minor": 0
      },
      "text/plain": [
       "Training: |                                                                                      | 0/? [00:00<…"
      ]
     },
     "metadata": {},
     "output_type": "display_data"
    },
    {
     "data": {
      "application/vnd.jupyter.widget-view+json": {
       "model_id": "fd33d94865e24cf2b248c1165b801858",
       "version_major": 2,
       "version_minor": 0
      },
      "text/plain": [
       "Training: |                                                                                      | 0/? [00:00<…"
      ]
     },
     "metadata": {},
     "output_type": "display_data"
    },
    {
     "data": {
      "application/vnd.jupyter.widget-view+json": {
       "model_id": "d573401e5d904b2ba9be41d4f1b1963b",
       "version_major": 2,
       "version_minor": 0
      },
      "text/plain": [
       "Training: |                                                                                      | 0/? [00:00<…"
      ]
     },
     "metadata": {},
     "output_type": "display_data"
    },
    {
     "data": {
      "application/vnd.jupyter.widget-view+json": {
       "model_id": "1988e65f9a174e808aa58a01825e0d42",
       "version_major": 2,
       "version_minor": 0
      },
      "text/plain": [
       "Training: |                                                                                      | 0/? [00:00<…"
      ]
     },
     "metadata": {},
     "output_type": "display_data"
    },
    {
     "data": {
      "application/vnd.jupyter.widget-view+json": {
       "model_id": "3b6c93792e0b4539a3f7d56f1177bf90",
       "version_major": 2,
       "version_minor": 0
      },
      "text/plain": [
       "Training: |                                                                                      | 0/? [00:00<…"
      ]
     },
     "metadata": {},
     "output_type": "display_data"
    },
    {
     "data": {
      "application/vnd.jupyter.widget-view+json": {
       "model_id": "ea80707be59c4765a646c5a7638a4603",
       "version_major": 2,
       "version_minor": 0
      },
      "text/plain": [
       "Training: |                                                                                      | 0/? [00:00<…"
      ]
     },
     "metadata": {},
     "output_type": "display_data"
    },
    {
     "data": {
      "application/vnd.jupyter.widget-view+json": {
       "model_id": "e5e775f6dce145aa8c6678ab61e5f637",
       "version_major": 2,
       "version_minor": 0
      },
      "text/plain": [
       "Training: |                                                                                      | 0/? [00:00<…"
      ]
     },
     "metadata": {},
     "output_type": "display_data"
    },
    {
     "data": {
      "application/vnd.jupyter.widget-view+json": {
       "model_id": "e6ccb2ca375a4443b516bc12debafe4b",
       "version_major": 2,
       "version_minor": 0
      },
      "text/plain": [
       "Training: |                                                                                      | 0/? [00:00<…"
      ]
     },
     "metadata": {},
     "output_type": "display_data"
    },
    {
     "data": {
      "application/vnd.jupyter.widget-view+json": {
       "model_id": "b028449b6485486f850dff21d7a753f8",
       "version_major": 2,
       "version_minor": 0
      },
      "text/plain": [
       "Training: |                                                                                      | 0/? [00:00<…"
      ]
     },
     "metadata": {},
     "output_type": "display_data"
    },
    {
     "data": {
      "application/vnd.jupyter.widget-view+json": {
       "model_id": "a47612a6d8cc437faaeff7fd642d1eeb",
       "version_major": 2,
       "version_minor": 0
      },
      "text/plain": [
       "Training: |                                                                                      | 0/? [00:00<…"
      ]
     },
     "metadata": {},
     "output_type": "display_data"
    },
    {
     "data": {
      "application/vnd.jupyter.widget-view+json": {
       "model_id": "a247cfc5626148fdb75e620c443d0f55",
       "version_major": 2,
       "version_minor": 0
      },
      "text/plain": [
       "Training: |                                                                                      | 0/? [00:00<…"
      ]
     },
     "metadata": {},
     "output_type": "display_data"
    },
    {
     "data": {
      "application/vnd.jupyter.widget-view+json": {
       "model_id": "d2c38c7675a94e7aa01635060b662f52",
       "version_major": 2,
       "version_minor": 0
      },
      "text/plain": [
       "Training: |                                                                                      | 0/? [00:00<…"
      ]
     },
     "metadata": {},
     "output_type": "display_data"
    },
    {
     "data": {
      "application/vnd.jupyter.widget-view+json": {
       "model_id": "fab9a0e7edb94f48ab01ae918c4862e7",
       "version_major": 2,
       "version_minor": 0
      },
      "text/plain": [
       "Training: |                                                                                      | 0/? [00:00<…"
      ]
     },
     "metadata": {},
     "output_type": "display_data"
    },
    {
     "data": {
      "application/vnd.jupyter.widget-view+json": {
       "model_id": "bd4232b72a3344498d27cfd863bbdae4",
       "version_major": 2,
       "version_minor": 0
      },
      "text/plain": [
       "Training: |                                                                                      | 0/? [00:00<…"
      ]
     },
     "metadata": {},
     "output_type": "display_data"
    },
    {
     "data": {
      "application/vnd.jupyter.widget-view+json": {
       "model_id": "2dd093ada8904fb9bdabf57b20ce0381",
       "version_major": 2,
       "version_minor": 0
      },
      "text/plain": [
       "Training: |                                                                                      | 0/? [00:00<…"
      ]
     },
     "metadata": {},
     "output_type": "display_data"
    },
    {
     "data": {
      "application/vnd.jupyter.widget-view+json": {
       "model_id": "81c6f599e4e3464c94cd77cd1c26e3fd",
       "version_major": 2,
       "version_minor": 0
      },
      "text/plain": [
       "Training: |                                                                                      | 0/? [00:00<…"
      ]
     },
     "metadata": {},
     "output_type": "display_data"
    },
    {
     "data": {
      "application/vnd.jupyter.widget-view+json": {
       "model_id": "6b9ad37a0b2b4e66b5acf93f37943f54",
       "version_major": 2,
       "version_minor": 0
      },
      "text/plain": [
       "Training: |                                                                                      | 0/? [00:00<…"
      ]
     },
     "metadata": {},
     "output_type": "display_data"
    },
    {
     "data": {
      "application/vnd.jupyter.widget-view+json": {
       "model_id": "f49e325f87d24c6a95a38c3c0ca61309",
       "version_major": 2,
       "version_minor": 0
      },
      "text/plain": [
       "Training: |                                                                                      | 0/? [00:00<…"
      ]
     },
     "metadata": {},
     "output_type": "display_data"
    },
    {
     "data": {
      "application/vnd.jupyter.widget-view+json": {
       "model_id": "ce5b440145334703b3b9d7b2f693e667",
       "version_major": 2,
       "version_minor": 0
      },
      "text/plain": [
       "Training: |                                                                                      | 0/? [00:00<…"
      ]
     },
     "metadata": {},
     "output_type": "display_data"
    },
    {
     "data": {
      "application/vnd.jupyter.widget-view+json": {
       "model_id": "c2ac22dd928c45a88eca9185549b81f8",
       "version_major": 2,
       "version_minor": 0
      },
      "text/plain": [
       "Training: |                                                                                      | 0/? [00:00<…"
      ]
     },
     "metadata": {},
     "output_type": "display_data"
    },
    {
     "data": {
      "application/vnd.jupyter.widget-view+json": {
       "model_id": "a92c7fd14b0e4388abf8b4b199b8fca7",
       "version_major": 2,
       "version_minor": 0
      },
      "text/plain": [
       "Training: |                                                                                      | 0/? [00:00<…"
      ]
     },
     "metadata": {},
     "output_type": "display_data"
    },
    {
     "data": {
      "application/vnd.jupyter.widget-view+json": {
       "model_id": "1ff69b187de64cb4bbc8afc45f2d7b1b",
       "version_major": 2,
       "version_minor": 0
      },
      "text/plain": [
       "Training: |                                                                                      | 0/? [00:00<…"
      ]
     },
     "metadata": {},
     "output_type": "display_data"
    },
    {
     "data": {
      "application/vnd.jupyter.widget-view+json": {
       "model_id": "7d658df1d6e04296876327dbccce79cf",
       "version_major": 2,
       "version_minor": 0
      },
      "text/plain": [
       "Training: |                                                                                      | 0/? [00:00<…"
      ]
     },
     "metadata": {},
     "output_type": "display_data"
    },
    {
     "data": {
      "application/vnd.jupyter.widget-view+json": {
       "model_id": "603e10422459442e810981dec5417c7e",
       "version_major": 2,
       "version_minor": 0
      },
      "text/plain": [
       "Training: |                                                                                      | 0/? [00:00<…"
      ]
     },
     "metadata": {},
     "output_type": "display_data"
    },
    {
     "data": {
      "application/vnd.jupyter.widget-view+json": {
       "model_id": "ade96d51182f4673b4e1dde004d53ee1",
       "version_major": 2,
       "version_minor": 0
      },
      "text/plain": [
       "Training: |                                                                                      | 0/? [00:00<…"
      ]
     },
     "metadata": {},
     "output_type": "display_data"
    },
    {
     "data": {
      "application/vnd.jupyter.widget-view+json": {
       "model_id": "16e26fb48929447da557e4f61c750c2a",
       "version_major": 2,
       "version_minor": 0
      },
      "text/plain": [
       "Training: |                                                                                      | 0/? [00:00<…"
      ]
     },
     "metadata": {},
     "output_type": "display_data"
    },
    {
     "data": {
      "application/vnd.jupyter.widget-view+json": {
       "model_id": "b90d554156dd463597f42107b7b56b71",
       "version_major": 2,
       "version_minor": 0
      },
      "text/plain": [
       "Training: |                                                                                      | 0/? [00:00<…"
      ]
     },
     "metadata": {},
     "output_type": "display_data"
    },
    {
     "data": {
      "application/vnd.jupyter.widget-view+json": {
       "model_id": "56ed6d2d76f5435aa6410a4332432cc0",
       "version_major": 2,
       "version_minor": 0
      },
      "text/plain": [
       "Training: |                                                                                      | 0/? [00:00<…"
      ]
     },
     "metadata": {},
     "output_type": "display_data"
    },
    {
     "data": {
      "application/vnd.jupyter.widget-view+json": {
       "model_id": "b997feea5c2344fd8e2f31734e3037d3",
       "version_major": 2,
       "version_minor": 0
      },
      "text/plain": [
       "Training: |                                                                                      | 0/? [00:00<…"
      ]
     },
     "metadata": {},
     "output_type": "display_data"
    },
    {
     "data": {
      "application/vnd.jupyter.widget-view+json": {
       "model_id": "94582763c5ba408fa8de0dfe62587391",
       "version_major": 2,
       "version_minor": 0
      },
      "text/plain": [
       "Training: |                                                                                      | 0/? [00:00<…"
      ]
     },
     "metadata": {},
     "output_type": "display_data"
    },
    {
     "data": {
      "application/vnd.jupyter.widget-view+json": {
       "model_id": "3b2813a8797748ed94de532c31286117",
       "version_major": 2,
       "version_minor": 0
      },
      "text/plain": [
       "Training: |                                                                                      | 0/? [00:00<…"
      ]
     },
     "metadata": {},
     "output_type": "display_data"
    },
    {
     "data": {
      "application/vnd.jupyter.widget-view+json": {
       "model_id": "b1ea470a439e480fb0b670bf2aa6c2d5",
       "version_major": 2,
       "version_minor": 0
      },
      "text/plain": [
       "Training: |                                                                                      | 0/? [00:00<…"
      ]
     },
     "metadata": {},
     "output_type": "display_data"
    },
    {
     "data": {
      "application/vnd.jupyter.widget-view+json": {
       "model_id": "01ba86c68a48465dafe10c8acbb6a8f6",
       "version_major": 2,
       "version_minor": 0
      },
      "text/plain": [
       "Training: |                                                                                      | 0/? [00:00<…"
      ]
     },
     "metadata": {},
     "output_type": "display_data"
    },
    {
     "data": {
      "application/vnd.jupyter.widget-view+json": {
       "model_id": "62bd26aca41e4e3b9c5edf2166d9ef41",
       "version_major": 2,
       "version_minor": 0
      },
      "text/plain": [
       "Training: |                                                                                      | 0/? [00:00<…"
      ]
     },
     "metadata": {},
     "output_type": "display_data"
    },
    {
     "data": {
      "application/vnd.jupyter.widget-view+json": {
       "model_id": "5628999e90724e15bc02b0b293f1415c",
       "version_major": 2,
       "version_minor": 0
      },
      "text/plain": [
       "Training: |                                                                                      | 0/? [00:00<…"
      ]
     },
     "metadata": {},
     "output_type": "display_data"
    },
    {
     "data": {
      "application/vnd.jupyter.widget-view+json": {
       "model_id": "eb58a7be77e1422e976af8663d59fb53",
       "version_major": 2,
       "version_minor": 0
      },
      "text/plain": [
       "Training: |                                                                                      | 0/? [00:00<…"
      ]
     },
     "metadata": {},
     "output_type": "display_data"
    },
    {
     "data": {
      "application/vnd.jupyter.widget-view+json": {
       "model_id": "bd4bd622b0cd4cec97b209b5473d625c",
       "version_major": 2,
       "version_minor": 0
      },
      "text/plain": [
       "Training: |                                                                                      | 0/? [00:00<…"
      ]
     },
     "metadata": {},
     "output_type": "display_data"
    },
    {
     "data": {
      "application/vnd.jupyter.widget-view+json": {
       "model_id": "8ad2f0c3fc5748eca970414413406f83",
       "version_major": 2,
       "version_minor": 0
      },
      "text/plain": [
       "Training: |                                                                                      | 0/? [00:00<…"
      ]
     },
     "metadata": {},
     "output_type": "display_data"
    },
    {
     "data": {
      "application/vnd.jupyter.widget-view+json": {
       "model_id": "ad8d108f3dad4c5fab56b5d8ee92c7f6",
       "version_major": 2,
       "version_minor": 0
      },
      "text/plain": [
       "Training: |                                                                                      | 0/? [00:00<…"
      ]
     },
     "metadata": {},
     "output_type": "display_data"
    },
    {
     "data": {
      "application/vnd.jupyter.widget-view+json": {
       "model_id": "37730f3e00f54296980c7f3c08963383",
       "version_major": 2,
       "version_minor": 0
      },
      "text/plain": [
       "Training: |                                                                                      | 0/? [00:00<…"
      ]
     },
     "metadata": {},
     "output_type": "display_data"
    },
    {
     "data": {
      "application/vnd.jupyter.widget-view+json": {
       "model_id": "1a3deec33efc45008b2eff3672d6107f",
       "version_major": 2,
       "version_minor": 0
      },
      "text/plain": [
       "Training: |                                                                                      | 0/? [00:00<…"
      ]
     },
     "metadata": {},
     "output_type": "display_data"
    },
    {
     "data": {
      "application/vnd.jupyter.widget-view+json": {
       "model_id": "63d8c94bf23548a499f0c037ac9ac10f",
       "version_major": 2,
       "version_minor": 0
      },
      "text/plain": [
       "Training: |                                                                                      | 0/? [00:00<…"
      ]
     },
     "metadata": {},
     "output_type": "display_data"
    },
    {
     "data": {
      "application/vnd.jupyter.widget-view+json": {
       "model_id": "b0cf66d5278d4f08b8571aa0496169fe",
       "version_major": 2,
       "version_minor": 0
      },
      "text/plain": [
       "Training: |                                                                                      | 0/? [00:00<…"
      ]
     },
     "metadata": {},
     "output_type": "display_data"
    },
    {
     "data": {
      "application/vnd.jupyter.widget-view+json": {
       "model_id": "e8728c07920644a7bb9b48293967a127",
       "version_major": 2,
       "version_minor": 0
      },
      "text/plain": [
       "Training: |                                                                                      | 0/? [00:00<…"
      ]
     },
     "metadata": {},
     "output_type": "display_data"
    },
    {
     "data": {
      "application/vnd.jupyter.widget-view+json": {
       "model_id": "82587b6a2eec469f94b77fbdd96e28d5",
       "version_major": 2,
       "version_minor": 0
      },
      "text/plain": [
       "Training: |                                                                                      | 0/? [00:00<…"
      ]
     },
     "metadata": {},
     "output_type": "display_data"
    },
    {
     "data": {
      "application/vnd.jupyter.widget-view+json": {
       "model_id": "b7f13afa3bfa42a5b27e0a6a7e44d3c9",
       "version_major": 2,
       "version_minor": 0
      },
      "text/plain": [
       "Training: |                                                                                      | 0/? [00:00<…"
      ]
     },
     "metadata": {},
     "output_type": "display_data"
    },
    {
     "data": {
      "application/vnd.jupyter.widget-view+json": {
       "model_id": "3fb57d90f1624bc18db886b58c65c785",
       "version_major": 2,
       "version_minor": 0
      },
      "text/plain": [
       "Training: |                                                                                      | 0/? [00:00<…"
      ]
     },
     "metadata": {},
     "output_type": "display_data"
    },
    {
     "data": {
      "application/vnd.jupyter.widget-view+json": {
       "model_id": "12a639c501e4488e8da2b7685d4d129f",
       "version_major": 2,
       "version_minor": 0
      },
      "text/plain": [
       "Training: |                                                                                      | 0/? [00:00<…"
      ]
     },
     "metadata": {},
     "output_type": "display_data"
    },
    {
     "data": {
      "application/vnd.jupyter.widget-view+json": {
       "model_id": "b5aa02573e90489883209855cdaaf7c0",
       "version_major": 2,
       "version_minor": 0
      },
      "text/plain": [
       "Training: |                                                                                      | 0/? [00:00<…"
      ]
     },
     "metadata": {},
     "output_type": "display_data"
    },
    {
     "data": {
      "application/vnd.jupyter.widget-view+json": {
       "model_id": "9644fac517af4625afc3cb62911b13cd",
       "version_major": 2,
       "version_minor": 0
      },
      "text/plain": [
       "Training: |                                                                                      | 0/? [00:00<…"
      ]
     },
     "metadata": {},
     "output_type": "display_data"
    },
    {
     "data": {
      "application/vnd.jupyter.widget-view+json": {
       "model_id": "56a7ab8cfe45470fbb16e71fb551cbe4",
       "version_major": 2,
       "version_minor": 0
      },
      "text/plain": [
       "Training: |                                                                                      | 0/? [00:00<…"
      ]
     },
     "metadata": {},
     "output_type": "display_data"
    },
    {
     "data": {
      "application/vnd.jupyter.widget-view+json": {
       "model_id": "1e19324d1080420585922f5600b592df",
       "version_major": 2,
       "version_minor": 0
      },
      "text/plain": [
       "Training: |                                                                                      | 0/? [00:00<…"
      ]
     },
     "metadata": {},
     "output_type": "display_data"
    },
    {
     "data": {
      "application/vnd.jupyter.widget-view+json": {
       "model_id": "88692bc2072a4eadb86194741e84d7b5",
       "version_major": 2,
       "version_minor": 0
      },
      "text/plain": [
       "Training: |                                                                                      | 0/? [00:00<…"
      ]
     },
     "metadata": {},
     "output_type": "display_data"
    },
    {
     "data": {
      "application/vnd.jupyter.widget-view+json": {
       "model_id": "44dc5a4f9b9a4dbdb929d12c5d860971",
       "version_major": 2,
       "version_minor": 0
      },
      "text/plain": [
       "Training: |                                                                                      | 0/? [00:00<…"
      ]
     },
     "metadata": {},
     "output_type": "display_data"
    },
    {
     "data": {
      "application/vnd.jupyter.widget-view+json": {
       "model_id": "19833fb51fe64defa1b7e252e31f993b",
       "version_major": 2,
       "version_minor": 0
      },
      "text/plain": [
       "Training: |                                                                                      | 0/? [00:00<…"
      ]
     },
     "metadata": {},
     "output_type": "display_data"
    },
    {
     "data": {
      "application/vnd.jupyter.widget-view+json": {
       "model_id": "c10436f7672548dbaa144b8ac5282823",
       "version_major": 2,
       "version_minor": 0
      },
      "text/plain": [
       "Training: |                                                                                      | 0/? [00:00<…"
      ]
     },
     "metadata": {},
     "output_type": "display_data"
    },
    {
     "data": {
      "application/vnd.jupyter.widget-view+json": {
       "model_id": "9be98fe2215a4c1d8b7a0d67f9af873a",
       "version_major": 2,
       "version_minor": 0
      },
      "text/plain": [
       "Training: |                                                                                      | 0/? [00:00<…"
      ]
     },
     "metadata": {},
     "output_type": "display_data"
    },
    {
     "data": {
      "application/vnd.jupyter.widget-view+json": {
       "model_id": "bb344f01ecc040bb97195ce204227742",
       "version_major": 2,
       "version_minor": 0
      },
      "text/plain": [
       "Training: |                                                                                      | 0/? [00:00<…"
      ]
     },
     "metadata": {},
     "output_type": "display_data"
    },
    {
     "data": {
      "application/vnd.jupyter.widget-view+json": {
       "model_id": "bd0c7eb439274659a6f818ded6e662a8",
       "version_major": 2,
       "version_minor": 0
      },
      "text/plain": [
       "Training: |                                                                                      | 0/? [00:00<…"
      ]
     },
     "metadata": {},
     "output_type": "display_data"
    },
    {
     "data": {
      "application/vnd.jupyter.widget-view+json": {
       "model_id": "7a21f3d5711046d9b3bd015d0bcc7384",
       "version_major": 2,
       "version_minor": 0
      },
      "text/plain": [
       "Training: |                                                                                      | 0/? [00:00<…"
      ]
     },
     "metadata": {},
     "output_type": "display_data"
    },
    {
     "data": {
      "application/vnd.jupyter.widget-view+json": {
       "model_id": "57dd6f5f26bb4a2f8a4a09f3b789d6ca",
       "version_major": 2,
       "version_minor": 0
      },
      "text/plain": [
       "Training: |                                                                                      | 0/? [00:00<…"
      ]
     },
     "metadata": {},
     "output_type": "display_data"
    },
    {
     "data": {
      "application/vnd.jupyter.widget-view+json": {
       "model_id": "3c52956015924393bc9ae3d629a8ca60",
       "version_major": 2,
       "version_minor": 0
      },
      "text/plain": [
       "Training: |                                                                                      | 0/? [00:00<…"
      ]
     },
     "metadata": {},
     "output_type": "display_data"
    },
    {
     "data": {
      "application/vnd.jupyter.widget-view+json": {
       "model_id": "e3940a97459c4ceaabf49341bb13ec1b",
       "version_major": 2,
       "version_minor": 0
      },
      "text/plain": [
       "Training: |                                                                                      | 0/? [00:00<…"
      ]
     },
     "metadata": {},
     "output_type": "display_data"
    },
    {
     "data": {
      "application/vnd.jupyter.widget-view+json": {
       "model_id": "a800d7abd42c4ae39653ba9160601924",
       "version_major": 2,
       "version_minor": 0
      },
      "text/plain": [
       "Training: |                                                                                      | 0/? [00:00<…"
      ]
     },
     "metadata": {},
     "output_type": "display_data"
    },
    {
     "data": {
      "application/vnd.jupyter.widget-view+json": {
       "model_id": "300acf56f35d4a9daf54aeba3e5d065d",
       "version_major": 2,
       "version_minor": 0
      },
      "text/plain": [
       "Training: |                                                                                      | 0/? [00:00<…"
      ]
     },
     "metadata": {},
     "output_type": "display_data"
    },
    {
     "data": {
      "application/vnd.jupyter.widget-view+json": {
       "model_id": "d6a79fd241c845488cdec0f2f2d50753",
       "version_major": 2,
       "version_minor": 0
      },
      "text/plain": [
       "Training: |                                                                                      | 0/? [00:00<…"
      ]
     },
     "metadata": {},
     "output_type": "display_data"
    },
    {
     "data": {
      "application/vnd.jupyter.widget-view+json": {
       "model_id": "afdaaadfd4be46699bccb22360ae202d",
       "version_major": 2,
       "version_minor": 0
      },
      "text/plain": [
       "Training: |                                                                                      | 0/? [00:00<…"
      ]
     },
     "metadata": {},
     "output_type": "display_data"
    },
    {
     "data": {
      "application/vnd.jupyter.widget-view+json": {
       "model_id": "364f054e6613441cbb121b81116fcfc9",
       "version_major": 2,
       "version_minor": 0
      },
      "text/plain": [
       "Training: |                                                                                      | 0/? [00:00<…"
      ]
     },
     "metadata": {},
     "output_type": "display_data"
    },
    {
     "data": {
      "application/vnd.jupyter.widget-view+json": {
       "model_id": "37baddf1c8f141ae8f178987144bfa54",
       "version_major": 2,
       "version_minor": 0
      },
      "text/plain": [
       "Training: |                                                                                      | 0/? [00:00<…"
      ]
     },
     "metadata": {},
     "output_type": "display_data"
    },
    {
     "data": {
      "application/vnd.jupyter.widget-view+json": {
       "model_id": "dae386ad33b24f10917b7012af1d311a",
       "version_major": 2,
       "version_minor": 0
      },
      "text/plain": [
       "Training: |                                                                                      | 0/? [00:00<…"
      ]
     },
     "metadata": {},
     "output_type": "display_data"
    },
    {
     "data": {
      "application/vnd.jupyter.widget-view+json": {
       "model_id": "5c5fd18de83f4e1fb3200065a2ec2895",
       "version_major": 2,
       "version_minor": 0
      },
      "text/plain": [
       "Training: |                                                                                      | 0/? [00:00<…"
      ]
     },
     "metadata": {},
     "output_type": "display_data"
    },
    {
     "data": {
      "application/vnd.jupyter.widget-view+json": {
       "model_id": "25ac04d3b85d47488123b0ea4d0d3972",
       "version_major": 2,
       "version_minor": 0
      },
      "text/plain": [
       "Training: |                                                                                      | 0/? [00:00<…"
      ]
     },
     "metadata": {},
     "output_type": "display_data"
    },
    {
     "data": {
      "application/vnd.jupyter.widget-view+json": {
       "model_id": "c67c688e960b4fe98686329d515c3aa9",
       "version_major": 2,
       "version_minor": 0
      },
      "text/plain": [
       "Training: |                                                                                      | 0/? [00:00<…"
      ]
     },
     "metadata": {},
     "output_type": "display_data"
    },
    {
     "data": {
      "application/vnd.jupyter.widget-view+json": {
       "model_id": "2ed0339f56ca4eb18b76446f158ca338",
       "version_major": 2,
       "version_minor": 0
      },
      "text/plain": [
       "Training: |                                                                                      | 0/? [00:00<…"
      ]
     },
     "metadata": {},
     "output_type": "display_data"
    },
    {
     "name": "stdout",
     "output_type": "stream",
     "text": [
      "MAPE: 6.15%, RMSE: 28.70\n"
     ]
    },
    {
     "data": {
      "image/png": "[encoded data removed]",
      "text/plain": [
       "<Figure size 800x500 with 1 Axes>"
      ]
     },
     "metadata": {},
     "output_type": "display_data"
    }
   ],
   "source": [
    "# with past covariates\n",
    "backtest_series = model_TFT_backtest.historical_forecasts(\n",
    "    series_transformed['Est. Total consumption (GWh)'],               \n",
    "    past_covariates=series_transformed[['Mean Air Temperature in Celsius', 'Mean Vapour Pressure Hpa']],   \n",
    "    start=pd.Timestamp(\"20180101\"),\n",
    "    forecast_horizon=3,\n",
    "    retrain=True,\n",
    "    verbose=False,\n",
    ")\n",
    "\n",
    "backtest_series_reversed = transformer_target.inverse_transform(backtest_series)\n",
    "\n",
    "plt.figure(figsize=(8, 5))\n",
    "ts['Est. Total consumption (GWh)'].plot(label=\"actual\")\n",
    "backtest_series_reversed.plot(label=\"backtest\")\n",
    "plt.legend()\n",
    "plt.title(\"Backtest, starting Jan 2018, 3-months horizon\")\n",
    "print(\n",
    "    \"MAPE: {:.2f}%, RMSE: {:.2f}\".format(\n",
    "        mape(\n",
    "            ts['Est. Total consumption (GWh)'],\n",
    "            backtest_series_reversed,\n",
    "        ),\n",
    "        rmse(\n",
    "            ts['Est. Total consumption (GWh)'],\n",
    "            backtest_series_reversed,\n",
    "        )\n",
    "    )\n",
    ")"
   ]
  },
  {
   "cell_type": "code",
   "execution_count": 30,
   "id": "8ff836c2-cbf1-49ec-8bf9-ed12f60f014c",
   "metadata": {},
   "outputs": [
    {
     "data": {
      "application/vnd.jupyter.widget-view+json": {
       "model_id": "9f5dc69f26ea493bbcaf776a8b275969",
       "version_major": 2,
       "version_minor": 0
      },
      "text/plain": [
       "Training: |                                                                                      | 0/? [00:00<…"
      ]
     },
     "metadata": {},
     "output_type": "display_data"
    },
    {
     "data": {
      "application/vnd.jupyter.widget-view+json": {
       "model_id": "9d703c54ab7d4a87bdbb26e4d7c73af6",
       "version_major": 2,
       "version_minor": 0
      },
      "text/plain": [
       "Training: |                                                                                      | 0/? [00:00<…"
      ]
     },
     "metadata": {},
     "output_type": "display_data"
    },
    {
     "data": {
      "application/vnd.jupyter.widget-view+json": {
       "model_id": "edeafe932b934ace8aa5f6c7a64e45cb",
       "version_major": 2,
       "version_minor": 0
      },
      "text/plain": [
       "Training: |                                                                                      | 0/? [00:00<…"
      ]
     },
     "metadata": {},
     "output_type": "display_data"
    },
    {
     "data": {
      "application/vnd.jupyter.widget-view+json": {
       "model_id": "e1f09dc320ee4bd993c5f774444777e6",
       "version_major": 2,
       "version_minor": 0
      },
      "text/plain": [
       "Training: |                                                                                      | 0/? [00:00<…"
      ]
     },
     "metadata": {},
     "output_type": "display_data"
    },
    {
     "data": {
      "application/vnd.jupyter.widget-view+json": {
       "model_id": "465025d81b824e4387de52666635bf76",
       "version_major": 2,
       "version_minor": 0
      },
      "text/plain": [
       "Training: |                                                                                      | 0/? [00:00<…"
      ]
     },
     "metadata": {},
     "output_type": "display_data"
    },
    {
     "data": {
      "application/vnd.jupyter.widget-view+json": {
       "model_id": "0fab21daeb384fedbdcf7d2ec5220877",
       "version_major": 2,
       "version_minor": 0
      },
      "text/plain": [
       "Training: |                                                                                      | 0/? [00:00<…"
      ]
     },
     "metadata": {},
     "output_type": "display_data"
    },
    {
     "data": {
      "application/vnd.jupyter.widget-view+json": {
       "model_id": "7f808d3a9eac41f6b36d67d2066c14e8",
       "version_major": 2,
       "version_minor": 0
      },
      "text/plain": [
       "Training: |                                                                                      | 0/? [00:00<…"
      ]
     },
     "metadata": {},
     "output_type": "display_data"
    },
    {
     "data": {
      "application/vnd.jupyter.widget-view+json": {
       "model_id": "721c0d384c0b4746b12fb4e6e8c33940",
       "version_major": 2,
       "version_minor": 0
      },
      "text/plain": [
       "Training: |                                                                                      | 0/? [00:00<…"
      ]
     },
     "metadata": {},
     "output_type": "display_data"
    },
    {
     "data": {
      "application/vnd.jupyter.widget-view+json": {
       "model_id": "9e8116062c0d43e28915de0c5c9e6daf",
       "version_major": 2,
       "version_minor": 0
      },
      "text/plain": [
       "Training: |                                                                                      | 0/? [00:00<…"
      ]
     },
     "metadata": {},
     "output_type": "display_data"
    },
    {
     "data": {
      "application/vnd.jupyter.widget-view+json": {
       "model_id": "aa5e4571d690461e9a6b05276dfc24be",
       "version_major": 2,
       "version_minor": 0
      },
      "text/plain": [
       "Training: |                                                                                      | 0/? [00:00<…"
      ]
     },
     "metadata": {},
     "output_type": "display_data"
    },
    {
     "data": {
      "application/vnd.jupyter.widget-view+json": {
       "model_id": "a8104aa177c24d16903378e54b1dd3ca",
       "version_major": 2,
       "version_minor": 0
      },
      "text/plain": [
       "Training: |                                                                                      | 0/? [00:00<…"
      ]
     },
     "metadata": {},
     "output_type": "display_data"
    },
    {
     "data": {
      "application/vnd.jupyter.widget-view+json": {
       "model_id": "78d7a8866a73408ca32e1d76a6261140",
       "version_major": 2,
       "version_minor": 0
      },
      "text/plain": [
       "Training: |                                                                                      | 0/? [00:00<…"
      ]
     },
     "metadata": {},
     "output_type": "display_data"
    },
    {
     "data": {
      "application/vnd.jupyter.widget-view+json": {
       "model_id": "be13278c9b4f4080a3def5b0de7a0e56",
       "version_major": 2,
       "version_minor": 0
      },
      "text/plain": [
       "Training: |                                                                                      | 0/? [00:00<…"
      ]
     },
     "metadata": {},
     "output_type": "display_data"
    },
    {
     "data": {
      "application/vnd.jupyter.widget-view+json": {
       "model_id": "61b25ca1970440fdad3199068230f0ed",
       "version_major": 2,
       "version_minor": 0
      },
      "text/plain": [
       "Training: |                                                                                      | 0/? [00:00<…"
      ]
     },
     "metadata": {},
     "output_type": "display_data"
    },
    {
     "data": {
      "application/vnd.jupyter.widget-view+json": {
       "model_id": "51121d933db44860b964cef5f7b73122",
       "version_major": 2,
       "version_minor": 0
      },
      "text/plain": [
       "Training: |                                                                                      | 0/? [00:00<…"
      ]
     },
     "metadata": {},
     "output_type": "display_data"
    },
    {
     "data": {
      "application/vnd.jupyter.widget-view+json": {
       "model_id": "a6fae42f628a48f88041bc21eb9016d6",
       "version_major": 2,
       "version_minor": 0
      },
      "text/plain": [
       "Training: |                                                                                      | 0/? [00:00<…"
      ]
     },
     "metadata": {},
     "output_type": "display_data"
    },
    {
     "data": {
      "application/vnd.jupyter.widget-view+json": {
       "model_id": "a00d5fc2096d4c6ea75f519ac605aafb",
       "version_major": 2,
       "version_minor": 0
      },
      "text/plain": [
       "Training: |                                                                                      | 0/? [00:00<…"
      ]
     },
     "metadata": {},
     "output_type": "display_data"
    },
    {
     "data": {
      "application/vnd.jupyter.widget-view+json": {
       "model_id": "eb0662268f5f48e49202f339d723f0ab",
       "version_major": 2,
       "version_minor": 0
      },
      "text/plain": [
       "Training: |                                                                                      | 0/? [00:00<…"
      ]
     },
     "metadata": {},
     "output_type": "display_data"
    },
    {
     "data": {
      "application/vnd.jupyter.widget-view+json": {
       "model_id": "acc3a70cad114ec49b0db6c73dd9c4d3",
       "version_major": 2,
       "version_minor": 0
      },
      "text/plain": [
       "Training: |                                                                                      | 0/? [00:00<…"
      ]
     },
     "metadata": {},
     "output_type": "display_data"
    },
    {
     "data": {
      "application/vnd.jupyter.widget-view+json": {
       "model_id": "2f55f8ac536c4371b1e5b7a1d4fa9639",
       "version_major": 2,
       "version_minor": 0
      },
      "text/plain": [
       "Training: |                                                                                      | 0/? [00:00<…"
      ]
     },
     "metadata": {},
     "output_type": "display_data"
    },
    {
     "data": {
      "application/vnd.jupyter.widget-view+json": {
       "model_id": "357ba5ddd7ea47c38675aa65b6374d46",
       "version_major": 2,
       "version_minor": 0
      },
      "text/plain": [
       "Training: |                                                                                      | 0/? [00:00<…"
      ]
     },
     "metadata": {},
     "output_type": "display_data"
    },
    {
     "data": {
      "application/vnd.jupyter.widget-view+json": {
       "model_id": "438eefb06082443289d0cb7486e3bd00",
       "version_major": 2,
       "version_minor": 0
      },
      "text/plain": [
       "Training: |                                                                                      | 0/? [00:00<…"
      ]
     },
     "metadata": {},
     "output_type": "display_data"
    },
    {
     "data": {
      "application/vnd.jupyter.widget-view+json": {
       "model_id": "3bae268f2d0f42748b2875ed53493122",
       "version_major": 2,
       "version_minor": 0
      },
      "text/plain": [
       "Training: |                                                                                      | 0/? [00:00<…"
      ]
     },
     "metadata": {},
     "output_type": "display_data"
    },
    {
     "data": {
      "application/vnd.jupyter.widget-view+json": {
       "model_id": "3ca655573681400cb7a88077d29c0b08",
       "version_major": 2,
       "version_minor": 0
      },
      "text/plain": [
       "Training: |                                                                                      | 0/? [00:00<…"
      ]
     },
     "metadata": {},
     "output_type": "display_data"
    },
    {
     "data": {
      "application/vnd.jupyter.widget-view+json": {
       "model_id": "432a85c1600c43df897fa298cda07595",
       "version_major": 2,
       "version_minor": 0
      },
      "text/plain": [
       "Training: |                                                                                      | 0/? [00:00<…"
      ]
     },
     "metadata": {},
     "output_type": "display_data"
    },
    {
     "data": {
      "application/vnd.jupyter.widget-view+json": {
       "model_id": "67c7d92467194988a7ff413192bdf312",
       "version_major": 2,
       "version_minor": 0
      },
      "text/plain": [
       "Training: |                                                                                      | 0/? [00:00<…"
      ]
     },
     "metadata": {},
     "output_type": "display_data"
    },
    {
     "data": {
      "application/vnd.jupyter.widget-view+json": {
       "model_id": "af4f3081272d4e96abda442722ca4e5b",
       "version_major": 2,
       "version_minor": 0
      },
      "text/plain": [
       "Training: |                                                                                      | 0/? [00:00<…"
      ]
     },
     "metadata": {},
     "output_type": "display_data"
    },
    {
     "data": {
      "application/vnd.jupyter.widget-view+json": {
       "model_id": "89d4460043c4485caacf8fad3a1ee7e7",
       "version_major": 2,
       "version_minor": 0
      },
      "text/plain": [
       "Training: |                                                                                      | 0/? [00:00<…"
      ]
     },
     "metadata": {},
     "output_type": "display_data"
    },
    {
     "data": {
      "application/vnd.jupyter.widget-view+json": {
       "model_id": "66adbfda9aaf489fb4bd8bce4d9799fb",
       "version_major": 2,
       "version_minor": 0
      },
      "text/plain": [
       "Training: |                                                                                      | 0/? [00:00<…"
      ]
     },
     "metadata": {},
     "output_type": "display_data"
    },
    {
     "data": {
      "application/vnd.jupyter.widget-view+json": {
       "model_id": "28f20677c3e84e50a4031628166157f9",
       "version_major": 2,
       "version_minor": 0
      },
      "text/plain": [
       "Training: |                                                                                      | 0/? [00:00<…"
      ]
     },
     "metadata": {},
     "output_type": "display_data"
    },
    {
     "data": {
      "application/vnd.jupyter.widget-view+json": {
       "model_id": "7bfcd3097cea4daba2fcc508d391c180",
       "version_major": 2,
       "version_minor": 0
      },
      "text/plain": [
       "Training: |                                                                                      | 0/? [00:00<…"
      ]
     },
     "metadata": {},
     "output_type": "display_data"
    },
    {
     "data": {
      "application/vnd.jupyter.widget-view+json": {
       "model_id": "493421767da046108d820507da67b2ac",
       "version_major": 2,
       "version_minor": 0
      },
      "text/plain": [
       "Training: |                                                                                      | 0/? [00:00<…"
      ]
     },
     "metadata": {},
     "output_type": "display_data"
    },
    {
     "data": {
      "application/vnd.jupyter.widget-view+json": {
       "model_id": "1cc8d943995240d682b726a07c4e2ece",
       "version_major": 2,
       "version_minor": 0
      },
      "text/plain": [
       "Training: |                                                                                      | 0/? [00:00<…"
      ]
     },
     "metadata": {},
     "output_type": "display_data"
    },
    {
     "data": {
      "application/vnd.jupyter.widget-view+json": {
       "model_id": "67b5ab0cf201422a9ee022df8b779a54",
       "version_major": 2,
       "version_minor": 0
      },
      "text/plain": [
       "Training: |                                                                                      | 0/? [00:00<…"
      ]
     },
     "metadata": {},
     "output_type": "display_data"
    },
    {
     "data": {
      "application/vnd.jupyter.widget-view+json": {
       "model_id": "8a8684350f1a4449b285fd7cf1406e3e",
       "version_major": 2,
       "version_minor": 0
      },
      "text/plain": [
       "Training: |                                                                                      | 0/? [00:00<…"
      ]
     },
     "metadata": {},
     "output_type": "display_data"
    },
    {
     "data": {
      "application/vnd.jupyter.widget-view+json": {
       "model_id": "ba907abd4fce43ba99bb9898772c8603",
       "version_major": 2,
       "version_minor": 0
      },
      "text/plain": [
       "Training: |                                                                                      | 0/? [00:00<…"
      ]
     },
     "metadata": {},
     "output_type": "display_data"
    },
    {
     "data": {
      "application/vnd.jupyter.widget-view+json": {
       "model_id": "8380eb260a284fd4a585e3ded8bc91c1",
       "version_major": 2,
       "version_minor": 0
      },
      "text/plain": [
       "Training: |                                                                                      | 0/? [00:00<…"
      ]
     },
     "metadata": {},
     "output_type": "display_data"
    },
    {
     "data": {
      "application/vnd.jupyter.widget-view+json": {
       "model_id": "43819777bff74ece9711b719fbad0e2a",
       "version_major": 2,
       "version_minor": 0
      },
      "text/plain": [
       "Training: |                                                                                      | 0/? [00:00<…"
      ]
     },
     "metadata": {},
     "output_type": "display_data"
    },
    {
     "data": {
      "application/vnd.jupyter.widget-view+json": {
       "model_id": "15f3df0d58214664946bd46dcdc1c884",
       "version_major": 2,
       "version_minor": 0
      },
      "text/plain": [
       "Training: |                                                                                      | 0/? [00:00<…"
      ]
     },
     "metadata": {},
     "output_type": "display_data"
    },
    {
     "data": {
      "application/vnd.jupyter.widget-view+json": {
       "model_id": "a4808ccd387f411f8396676e4a7e8680",
       "version_major": 2,
       "version_minor": 0
      },
      "text/plain": [
       "Training: |                                                                                      | 0/? [00:00<…"
      ]
     },
     "metadata": {},
     "output_type": "display_data"
    },
    {
     "data": {
      "application/vnd.jupyter.widget-view+json": {
       "model_id": "235f81eaa639459f8d3c4e400cb70aa2",
       "version_major": 2,
       "version_minor": 0
      },
      "text/plain": [
       "Training: |                                                                                      | 0/? [00:00<…"
      ]
     },
     "metadata": {},
     "output_type": "display_data"
    },
    {
     "data": {
      "application/vnd.jupyter.widget-view+json": {
       "model_id": "3219b884aa0c406081addfb58bc5cb5c",
       "version_major": 2,
       "version_minor": 0
      },
      "text/plain": [
       "Training: |                                                                                      | 0/? [00:00<…"
      ]
     },
     "metadata": {},
     "output_type": "display_data"
    },
    {
     "data": {
      "application/vnd.jupyter.widget-view+json": {
       "model_id": "06efc9f76da84d28b981761ce0d92766",
       "version_major": 2,
       "version_minor": 0
      },
      "text/plain": [
       "Training: |                                                                                      | 0/? [00:00<…"
      ]
     },
     "metadata": {},
     "output_type": "display_data"
    },
    {
     "data": {
      "application/vnd.jupyter.widget-view+json": {
       "model_id": "bc51ef6a39b0407fa606cc1960eabb60",
       "version_major": 2,
       "version_minor": 0
      },
      "text/plain": [
       "Training: |                                                                                      | 0/? [00:00<…"
      ]
     },
     "metadata": {},
     "output_type": "display_data"
    },
    {
     "data": {
      "application/vnd.jupyter.widget-view+json": {
       "model_id": "07c7bc04944341968dbcb57d27c34193",
       "version_major": 2,
       "version_minor": 0
      },
      "text/plain": [
       "Training: |                                                                                      | 0/? [00:00<…"
      ]
     },
     "metadata": {},
     "output_type": "display_data"
    },
    {
     "data": {
      "application/vnd.jupyter.widget-view+json": {
       "model_id": "b9f2887ee529455f9a08c979de888fcb",
       "version_major": 2,
       "version_minor": 0
      },
      "text/plain": [
       "Training: |                                                                                      | 0/? [00:00<…"
      ]
     },
     "metadata": {},
     "output_type": "display_data"
    },
    {
     "data": {
      "application/vnd.jupyter.widget-view+json": {
       "model_id": "59a5b6c48bb742aa97c28fe463523e00",
       "version_major": 2,
       "version_minor": 0
      },
      "text/plain": [
       "Training: |                                                                                      | 0/? [00:00<…"
      ]
     },
     "metadata": {},
     "output_type": "display_data"
    },
    {
     "data": {
      "application/vnd.jupyter.widget-view+json": {
       "model_id": "e1b7cf68b508446e893acfe16dc12880",
       "version_major": 2,
       "version_minor": 0
      },
      "text/plain": [
       "Training: |                                                                                      | 0/? [00:00<…"
      ]
     },
     "metadata": {},
     "output_type": "display_data"
    },
    {
     "data": {
      "application/vnd.jupyter.widget-view+json": {
       "model_id": "580ba3ec32fa41fdabfae6533a7dc200",
       "version_major": 2,
       "version_minor": 0
      },
      "text/plain": [
       "Training: |                                                                                      | 0/? [00:00<…"
      ]
     },
     "metadata": {},
     "output_type": "display_data"
    },
    {
     "data": {
      "application/vnd.jupyter.widget-view+json": {
       "model_id": "2d3342fb01b54ccd9d8e7bd135ac9d36",
       "version_major": 2,
       "version_minor": 0
      },
      "text/plain": [
       "Training: |                                                                                      | 0/? [00:00<…"
      ]
     },
     "metadata": {},
     "output_type": "display_data"
    },
    {
     "data": {
      "application/vnd.jupyter.widget-view+json": {
       "model_id": "3e605a19d6cf4ffaafdb8e4928ecded7",
       "version_major": 2,
       "version_minor": 0
      },
      "text/plain": [
       "Training: |                                                                                      | 0/? [00:00<…"
      ]
     },
     "metadata": {},
     "output_type": "display_data"
    },
    {
     "data": {
      "application/vnd.jupyter.widget-view+json": {
       "model_id": "1c086e8699d74cb5bccb85973a32c75f",
       "version_major": 2,
       "version_minor": 0
      },
      "text/plain": [
       "Training: |                                                                                      | 0/? [00:00<…"
      ]
     },
     "metadata": {},
     "output_type": "display_data"
    },
    {
     "data": {
      "application/vnd.jupyter.widget-view+json": {
       "model_id": "6f44893c114f492a9ed2df7cec044db6",
       "version_major": 2,
       "version_minor": 0
      },
      "text/plain": [
       "Training: |                                                                                      | 0/? [00:00<…"
      ]
     },
     "metadata": {},
     "output_type": "display_data"
    },
    {
     "data": {
      "application/vnd.jupyter.widget-view+json": {
       "model_id": "c2a6dc72c7f04240817047c8ef936154",
       "version_major": 2,
       "version_minor": 0
      },
      "text/plain": [
       "Training: |                                                                                      | 0/? [00:00<…"
      ]
     },
     "metadata": {},
     "output_type": "display_data"
    },
    {
     "data": {
      "application/vnd.jupyter.widget-view+json": {
       "model_id": "01786d3816e54377bf06f59d4bcf051b",
       "version_major": 2,
       "version_minor": 0
      },
      "text/plain": [
       "Training: |                                                                                      | 0/? [00:00<…"
      ]
     },
     "metadata": {},
     "output_type": "display_data"
    },
    {
     "data": {
      "application/vnd.jupyter.widget-view+json": {
       "model_id": "8eb21d58eaec42d0a69cc5abee81b989",
       "version_major": 2,
       "version_minor": 0
      },
      "text/plain": [
       "Training: |                                                                                      | 0/? [00:00<…"
      ]
     },
     "metadata": {},
     "output_type": "display_data"
    },
    {
     "data": {
      "application/vnd.jupyter.widget-view+json": {
       "model_id": "08d3d01b7dd54577b25857a8f95d7640",
       "version_major": 2,
       "version_minor": 0
      },
      "text/plain": [
       "Training: |                                                                                      | 0/? [00:00<…"
      ]
     },
     "metadata": {},
     "output_type": "display_data"
    },
    {
     "data": {
      "application/vnd.jupyter.widget-view+json": {
       "model_id": "4e4276f2e7ec47179ffa0023347e222b",
       "version_major": 2,
       "version_minor": 0
      },
      "text/plain": [
       "Training: |                                                                                      | 0/? [00:00<…"
      ]
     },
     "metadata": {},
     "output_type": "display_data"
    },
    {
     "data": {
      "application/vnd.jupyter.widget-view+json": {
       "model_id": "3d7f05a4ac8242d8b7be84f4b81a5b23",
       "version_major": 2,
       "version_minor": 0
      },
      "text/plain": [
       "Training: |                                                                                      | 0/? [00:00<…"
      ]
     },
     "metadata": {},
     "output_type": "display_data"
    },
    {
     "data": {
      "application/vnd.jupyter.widget-view+json": {
       "model_id": "88527c6778e645ea8b349a76770f6353",
       "version_major": 2,
       "version_minor": 0
      },
      "text/plain": [
       "Training: |                                                                                      | 0/? [00:00<…"
      ]
     },
     "metadata": {},
     "output_type": "display_data"
    },
    {
     "data": {
      "application/vnd.jupyter.widget-view+json": {
       "model_id": "1f635d9cd44945cca0f8b19f2d2c2cc8",
       "version_major": 2,
       "version_minor": 0
      },
      "text/plain": [
       "Training: |                                                                                      | 0/? [00:00<…"
      ]
     },
     "metadata": {},
     "output_type": "display_data"
    },
    {
     "data": {
      "application/vnd.jupyter.widget-view+json": {
       "model_id": "2bf2dfe654554cf987f2d982a342316a",
       "version_major": 2,
       "version_minor": 0
      },
      "text/plain": [
       "Training: |                                                                                      | 0/? [00:00<…"
      ]
     },
     "metadata": {},
     "output_type": "display_data"
    },
    {
     "data": {
      "application/vnd.jupyter.widget-view+json": {
       "model_id": "3183ca002c1d49ffb40aec3a715c13ed",
       "version_major": 2,
       "version_minor": 0
      },
      "text/plain": [
       "Training: |                                                                                      | 0/? [00:00<…"
      ]
     },
     "metadata": {},
     "output_type": "display_data"
    },
    {
     "data": {
      "application/vnd.jupyter.widget-view+json": {
       "model_id": "fc298a5430154509a242deca7ada978c",
       "version_major": 2,
       "version_minor": 0
      },
      "text/plain": [
       "Training: |                                                                                      | 0/? [00:00<…"
      ]
     },
     "metadata": {},
     "output_type": "display_data"
    },
    {
     "data": {
      "application/vnd.jupyter.widget-view+json": {
       "model_id": "f92cf892472e41faa76f09544cb51f55",
       "version_major": 2,
       "version_minor": 0
      },
      "text/plain": [
       "Training: |                                                                                      | 0/? [00:00<…"
      ]
     },
     "metadata": {},
     "output_type": "display_data"
    },
    {
     "data": {
      "application/vnd.jupyter.widget-view+json": {
       "model_id": "8265667e04bf4479a06384c62438dd7f",
       "version_major": 2,
       "version_minor": 0
      },
      "text/plain": [
       "Training: |                                                                                      | 0/? [00:00<…"
      ]
     },
     "metadata": {},
     "output_type": "display_data"
    },
    {
     "data": {
      "application/vnd.jupyter.widget-view+json": {
       "model_id": "59ddd65b164d491db29c3327e392d36b",
       "version_major": 2,
       "version_minor": 0
      },
      "text/plain": [
       "Training: |                                                                                      | 0/? [00:00<…"
      ]
     },
     "metadata": {},
     "output_type": "display_data"
    },
    {
     "data": {
      "application/vnd.jupyter.widget-view+json": {
       "model_id": "badab2a91d324f40954cf5a1d8fd75a9",
       "version_major": 2,
       "version_minor": 0
      },
      "text/plain": [
       "Training: |                                                                                      | 0/? [00:00<…"
      ]
     },
     "metadata": {},
     "output_type": "display_data"
    },
    {
     "data": {
      "application/vnd.jupyter.widget-view+json": {
       "model_id": "541579112d2d4900b183d78721ae6d70",
       "version_major": 2,
       "version_minor": 0
      },
      "text/plain": [
       "Training: |                                                                                      | 0/? [00:00<…"
      ]
     },
     "metadata": {},
     "output_type": "display_data"
    },
    {
     "data": {
      "application/vnd.jupyter.widget-view+json": {
       "model_id": "bbbac9e700cd4dea9d051f019bc86c5b",
       "version_major": 2,
       "version_minor": 0
      },
      "text/plain": [
       "Training: |                                                                                      | 0/? [00:00<…"
      ]
     },
     "metadata": {},
     "output_type": "display_data"
    },
    {
     "data": {
      "application/vnd.jupyter.widget-view+json": {
       "model_id": "c23fdb7f0f5b4e0b85252cbef710697e",
       "version_major": 2,
       "version_minor": 0
      },
      "text/plain": [
       "Training: |                                                                                      | 0/? [00:00<…"
      ]
     },
     "metadata": {},
     "output_type": "display_data"
    },
    {
     "data": {
      "application/vnd.jupyter.widget-view+json": {
       "model_id": "89556b489b6348e9a62ec8facf66bd0c",
       "version_major": 2,
       "version_minor": 0
      },
      "text/plain": [
       "Training: |                                                                                      | 0/? [00:00<…"
      ]
     },
     "metadata": {},
     "output_type": "display_data"
    },
    {
     "data": {
      "application/vnd.jupyter.widget-view+json": {
       "model_id": "1de8fad9990a4a70bb6e1aa099dc61de",
       "version_major": 2,
       "version_minor": 0
      },
      "text/plain": [
       "Training: |                                                                                      | 0/? [00:00<…"
      ]
     },
     "metadata": {},
     "output_type": "display_data"
    },
    {
     "data": {
      "application/vnd.jupyter.widget-view+json": {
       "model_id": "d0b62a488745441e9686e5699af4b7c2",
       "version_major": 2,
       "version_minor": 0
      },
      "text/plain": [
       "Training: |                                                                                      | 0/? [00:00<…"
      ]
     },
     "metadata": {},
     "output_type": "display_data"
    },
    {
     "data": {
      "application/vnd.jupyter.widget-view+json": {
       "model_id": "2d4eea2ab79848678fa8ea49c63d881b",
       "version_major": 2,
       "version_minor": 0
      },
      "text/plain": [
       "Training: |                                                                                      | 0/? [00:00<…"
      ]
     },
     "metadata": {},
     "output_type": "display_data"
    },
    {
     "data": {
      "application/vnd.jupyter.widget-view+json": {
       "model_id": "6873a4936ab842e6a81e985cfb020d90",
       "version_major": 2,
       "version_minor": 0
      },
      "text/plain": [
       "Training: |                                                                                      | 0/? [00:00<…"
      ]
     },
     "metadata": {},
     "output_type": "display_data"
    },
    {
     "name": "stdout",
     "output_type": "stream",
     "text": [
      "MAPE: 6.03%, RMSE: 28.72\n"
     ]
    },
    {
     "data": {
      "image/png": "[encoded data removed]",
      "text/plain": [
       "<Figure size 800x500 with 1 Axes>"
      ]
     },
     "metadata": {},
     "output_type": "display_data"
    }
   ],
   "source": [
    "# without past covariates\n",
    "backtest_series = model_TFT_backtest.historical_forecasts(\n",
    "    series_transformed['Est. Total consumption (GWh)'],\n",
    "    start=pd.Timestamp(\"20180101\"),\n",
    "    forecast_horizon=3,\n",
    "    retrain=True,\n",
    "    verbose=False,\n",
    ")\n",
    "\n",
    "backtest_series_reversed = transformer_target.inverse_transform(backtest_series)\n",
    "\n",
    "plt.figure(figsize=(8, 5))\n",
    "ts['Est. Total consumption (GWh)'].plot(label=\"actual\")\n",
    "backtest_series_reversed.plot(label=\"backtest\")\n",
    "plt.legend()\n",
    "plt.title(\"Backtest, starting Jan 2018, 3-months horizon, no past covariates\")\n",
    "print(\n",
    "    \"MAPE: {:.2f}%, RMSE: {:.2f}\".format(\n",
    "        mape(\n",
    "            ts['Est. Total consumption (GWh)'],\n",
    "            backtest_series_reversed,\n",
    "        ),\n",
    "        rmse(\n",
    "            ts['Est. Total consumption (GWh)'],\n",
    "            backtest_series_reversed,\n",
    "        )\n",
    "    )\n",
    ")"
   ]
  },
  {
   "cell_type": "code",
   "execution_count": null,
   "id": "a0217204-f813-47c4-8103-a80635b65011",
   "metadata": {},
   "outputs": [],
   "source": []
  },
  {
   "cell_type": "code",
   "execution_count": null,
   "id": "0e6379dc-495a-4025-a242-79d3f57c59bd",
   "metadata": {},
   "outputs": [],
   "source": []
  },
  {
   "cell_type": "code",
   "execution_count": null,
   "id": "ce9a0ea9-6246-4b80-b5bf-5b7ac9b628ec",
   "metadata": {},
   "outputs": [],
   "source": []
  },
  {
   "cell_type": "code",
   "execution_count": null,
   "id": "347a4bad-7f88-43b5-84ab-a9c1eb185f6d",
   "metadata": {},
   "outputs": [],
   "source": []
  },
  {
   "cell_type": "code",
   "execution_count": 11,
   "id": "a3be5135-fa8e-4a8e-94cf-0558e6703f32",
   "metadata": {},
   "outputs": [],
   "source": []
  },
  {
   "cell_type": "code",
   "execution_count": null,
   "id": "08d6c9fd-9eeb-46ef-96e7-75bf038ae4f2",
   "metadata": {},
   "outputs": [],
   "source": []
  },
  {
   "cell_type": "code",
   "execution_count": null,
   "id": "52055ff6-bc5a-4798-b19b-ede08e0a417c",
   "metadata": {},
   "outputs": [],
   "source": []
  },
  {
   "cell_type": "code",
   "execution_count": null,
   "id": "278772eb-7fef-40f7-aa92-f021b1cb26a4",
   "metadata": {},
   "outputs": [],
   "source": []
  },
  {
   "cell_type": "code",
   "execution_count": null,
   "id": "253566a0-b6ca-4322-9d29-fc6baf0ac3cf",
   "metadata": {},
   "outputs": [],
   "source": []
  },
  {
   "cell_type": "code",
   "execution_count": 21,
   "id": "cf8250f1-90f4-4a47-ac9e-aeb771590f35",
   "metadata": {},
   "outputs": [],
   "source": []
  },
  {
   "cell_type": "code",
   "execution_count": null,
   "id": "84d119d2-a45d-4784-907e-b886ae8101b5",
   "metadata": {},
   "outputs": [],
   "source": []
  },
  {
   "cell_type": "code",
   "execution_count": null,
   "id": "22c466a3-42e1-4c50-8e92-1affdf98cda6",
   "metadata": {},
   "outputs": [],
   "source": []
  },
  {
   "cell_type": "code",
   "execution_count": null,
   "id": "cf356a34-497b-42b2-949e-43a8f41169ed",
   "metadata": {},
   "outputs": [],
   "source": []
  },
  {
   "cell_type": "code",
   "execution_count": null,
   "id": "2967f606-ebcb-42a6-9dd7-330fa1331141",
   "metadata": {},
   "outputs": [],
   "source": []
  },
  {
   "cell_type": "code",
   "execution_count": null,
   "id": "d13c2576-4189-4e71-bd63-3b475005dfab",
   "metadata": {},
   "outputs": [],
   "source": []
  },
  {
   "cell_type": "code",
   "execution_count": null,
   "id": "5a204265-0c9e-4cca-98bd-b07120761591",
   "metadata": {},
   "outputs": [],
   "source": []
  }
 ],
 "metadata": {
  "kernelspec": {
   "display_name": "Python 3 (ipykernel)",
   "language": "python",
   "name": "python3"
  },
  "language_info": {
   "codemirror_mode": {
    "name": "ipython",
    "version": 3
   },
   "file_extension": ".py",
   "mimetype": "text/x-python",
   "name": "python",
   "nbconvert_exporter": "python",
   "pygments_lexer": "ipython3",
   "version": "3.10.10"
  }
 },
 "nbformat": 4,
 "nbformat_minor": 5
}
